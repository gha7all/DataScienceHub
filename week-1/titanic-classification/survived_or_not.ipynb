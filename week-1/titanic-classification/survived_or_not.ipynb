{
  "nbformat": 4,
  "nbformat_minor": 5,
  "metadata": {
    "kernelspec": {
      "display_name": "Python 3 (ipykernel)",
      "language": "python",
      "name": "python3"
    },
    "language_info": {
      "codemirror_mode": {
        "name": "ipython",
        "version": 3
      },
      "file_extension": ".py",
      "mimetype": "text/x-python",
      "name": "python",
      "nbconvert_exporter": "python",
      "pygments_lexer": "ipython3",
      "version": "3.9.5"
    },
    "varInspector": {
      "cols": {
        "lenName": 16,
        "lenType": 16,
        "lenVar": 40
      },
      "kernels_config": {
        "python": {
          "delete_cmd_postfix": "",
          "delete_cmd_prefix": "del ",
          "library": "var_list.py",
          "varRefreshCmd": "print(var_dic_list())"
        },
        "r": {
          "delete_cmd_postfix": ") ",
          "delete_cmd_prefix": "rm(",
          "library": "var_list.r",
          "varRefreshCmd": "cat(var_dic_list()) "
        }
      },
      "types_to_exclude": [
        "module",
        "function",
        "builtin_function_or_method",
        "instance",
        "_Feature"
      ],
      "window_display": false
    },
    "colab": {
      "name": "survived-or-not.ipynb",
      "provenance": [],
      "collapsed_sections": []
    },
    "accelerator": "GPU"
  },
  "cells": [
    {
      "cell_type": "code",
      "metadata": {
        "ExecuteTime": {
          "end_time": "2021-09-02T14:48:53.513736Z",
          "start_time": "2021-09-02T14:48:53.498384Z"
        },
        "id": "39d26cc3"
      },
      "source": [
        "import pandas as pd\n",
        "import numpy as np\n",
        "import seaborn as sns\n",
        "from matplotlib import pyplot as plt\n",
        "from warnings import filterwarnings\n",
        "from sklearn.model_selection import train_test_split\n",
        "from sklearn.preprocessing import LabelEncoder\n",
        "from sklearn.impute import SimpleImputer\n",
        "from scipy import stats\n",
        "from warnings import filterwarnings\n",
        "from google.colab import drive\n",
        "import pprint"
      ],
      "id": "39d26cc3",
      "execution_count": null,
      "outputs": []
    },
    {
      "cell_type": "code",
      "metadata": {
        "colab": {
          "base_uri": "https://localhost:8080/"
        },
        "id": "3p7Yr_dmDX3b",
        "outputId": "e200ffed-db01-415b-fe2c-98cb5658a39e"
      },
      "source": [
        "drive.mount(\"/content/gdrive\")"
      ],
      "id": "3p7Yr_dmDX3b",
      "execution_count": null,
      "outputs": [
        {
          "output_type": "stream",
          "name": "stdout",
          "text": [
            "Mounted at /content/gdrive\n"
          ]
        }
      ]
    },
    {
      "cell_type": "code",
      "metadata": {
        "ExecuteTime": {
          "end_time": "2021-09-02T14:48:53.796027Z",
          "start_time": "2021-09-02T14:48:53.791593Z"
        },
        "id": "f63caa2c"
      },
      "source": [
        "pd.options.mode.chained_assignment = None \n",
        "filterwarnings(action='ignore')"
      ],
      "id": "f63caa2c",
      "execution_count": null,
      "outputs": []
    },
    {
      "cell_type": "markdown",
      "metadata": {
        "id": "c80a780a"
      },
      "source": [
        "## Loading datasets"
      ],
      "id": "c80a780a"
    },
    {
      "cell_type": "code",
      "metadata": {
        "ExecuteTime": {
          "end_time": "2021-09-02T14:48:54.390236Z",
          "start_time": "2021-09-02T14:48:54.369960Z"
        },
        "id": "3b78f0dc"
      },
      "source": [
        "train_df = pd.read_csv('/content/gdrive/My Drive/titanic-dataset/dataset/train.csv')\n",
        "X_test = pd.read_csv('/content/gdrive/My Drive/titanic-dataset/dataset/test.csv')"
      ],
      "id": "3b78f0dc",
      "execution_count": null,
      "outputs": []
    },
    {
      "cell_type": "code",
      "metadata": {
        "id": "v9zTbnE6GWCr"
      },
      "source": [
        "submission = pd.read_csv('/content/gdrive/My Drive/titanic-dataset/dataset/test.csv')\n",
        "submission = submission['PassengerId']"
      ],
      "id": "v9zTbnE6GWCr",
      "execution_count": null,
      "outputs": []
    },
    {
      "cell_type": "code",
      "metadata": {
        "ExecuteTime": {
          "end_time": "2021-09-02T14:48:54.678349Z",
          "start_time": "2021-09-02T14:48:54.651319Z"
        },
        "colab": {
          "base_uri": "https://localhost:8080/",
          "height": 202
        },
        "id": "2441223d",
        "outputId": "2fee7f22-1b2e-436d-e0ed-cab41a713407"
      },
      "source": [
        "train_df.head()"
      ],
      "id": "2441223d",
      "execution_count": null,
      "outputs": [
        {
          "output_type": "execute_result",
          "data": {
            "text/html": [
              "<div>\n",
              "<style scoped>\n",
              "    .dataframe tbody tr th:only-of-type {\n",
              "        vertical-align: middle;\n",
              "    }\n",
              "\n",
              "    .dataframe tbody tr th {\n",
              "        vertical-align: top;\n",
              "    }\n",
              "\n",
              "    .dataframe thead th {\n",
              "        text-align: right;\n",
              "    }\n",
              "</style>\n",
              "<table border=\"1\" class=\"dataframe\">\n",
              "  <thead>\n",
              "    <tr style=\"text-align: right;\">\n",
              "      <th></th>\n",
              "      <th>PassengerId</th>\n",
              "      <th>Survived</th>\n",
              "      <th>Pclass</th>\n",
              "      <th>Name</th>\n",
              "      <th>Sex</th>\n",
              "      <th>Age</th>\n",
              "      <th>SibSp</th>\n",
              "      <th>Parch</th>\n",
              "      <th>Ticket</th>\n",
              "      <th>Fare</th>\n",
              "      <th>Cabin</th>\n",
              "      <th>Embarked</th>\n",
              "    </tr>\n",
              "  </thead>\n",
              "  <tbody>\n",
              "    <tr>\n",
              "      <th>0</th>\n",
              "      <td>1</td>\n",
              "      <td>0</td>\n",
              "      <td>3</td>\n",
              "      <td>Braund, Mr. Owen Harris</td>\n",
              "      <td>male</td>\n",
              "      <td>22.0</td>\n",
              "      <td>1</td>\n",
              "      <td>0</td>\n",
              "      <td>A/5 21171</td>\n",
              "      <td>7.2500</td>\n",
              "      <td>NaN</td>\n",
              "      <td>S</td>\n",
              "    </tr>\n",
              "    <tr>\n",
              "      <th>1</th>\n",
              "      <td>2</td>\n",
              "      <td>1</td>\n",
              "      <td>1</td>\n",
              "      <td>Cumings, Mrs. John Bradley (Florence Briggs Th...</td>\n",
              "      <td>female</td>\n",
              "      <td>38.0</td>\n",
              "      <td>1</td>\n",
              "      <td>0</td>\n",
              "      <td>PC 17599</td>\n",
              "      <td>71.2833</td>\n",
              "      <td>C85</td>\n",
              "      <td>C</td>\n",
              "    </tr>\n",
              "    <tr>\n",
              "      <th>2</th>\n",
              "      <td>3</td>\n",
              "      <td>1</td>\n",
              "      <td>3</td>\n",
              "      <td>Heikkinen, Miss. Laina</td>\n",
              "      <td>female</td>\n",
              "      <td>26.0</td>\n",
              "      <td>0</td>\n",
              "      <td>0</td>\n",
              "      <td>STON/O2. 3101282</td>\n",
              "      <td>7.9250</td>\n",
              "      <td>NaN</td>\n",
              "      <td>S</td>\n",
              "    </tr>\n",
              "    <tr>\n",
              "      <th>3</th>\n",
              "      <td>4</td>\n",
              "      <td>1</td>\n",
              "      <td>1</td>\n",
              "      <td>Futrelle, Mrs. Jacques Heath (Lily May Peel)</td>\n",
              "      <td>female</td>\n",
              "      <td>35.0</td>\n",
              "      <td>1</td>\n",
              "      <td>0</td>\n",
              "      <td>113803</td>\n",
              "      <td>53.1000</td>\n",
              "      <td>C123</td>\n",
              "      <td>S</td>\n",
              "    </tr>\n",
              "    <tr>\n",
              "      <th>4</th>\n",
              "      <td>5</td>\n",
              "      <td>0</td>\n",
              "      <td>3</td>\n",
              "      <td>Allen, Mr. William Henry</td>\n",
              "      <td>male</td>\n",
              "      <td>35.0</td>\n",
              "      <td>0</td>\n",
              "      <td>0</td>\n",
              "      <td>373450</td>\n",
              "      <td>8.0500</td>\n",
              "      <td>NaN</td>\n",
              "      <td>S</td>\n",
              "    </tr>\n",
              "  </tbody>\n",
              "</table>\n",
              "</div>"
            ],
            "text/plain": [
              "   PassengerId  Survived  Pclass  ...     Fare Cabin  Embarked\n",
              "0            1         0       3  ...   7.2500   NaN         S\n",
              "1            2         1       1  ...  71.2833   C85         C\n",
              "2            3         1       3  ...   7.9250   NaN         S\n",
              "3            4         1       1  ...  53.1000  C123         S\n",
              "4            5         0       3  ...   8.0500   NaN         S\n",
              "\n",
              "[5 rows x 12 columns]"
            ]
          },
          "metadata": {},
          "execution_count": 5
        }
      ]
    },
    {
      "cell_type": "code",
      "metadata": {
        "ExecuteTime": {
          "end_time": "2021-09-02T14:48:54.972552Z",
          "start_time": "2021-09-02T14:48:54.947360Z"
        },
        "colab": {
          "base_uri": "https://localhost:8080/"
        },
        "id": "28e3d2db",
        "outputId": "8482e6e4-a1df-4077-b7e7-5e1133a99ff7"
      },
      "source": [
        "train_df.info()"
      ],
      "id": "28e3d2db",
      "execution_count": null,
      "outputs": [
        {
          "output_type": "stream",
          "name": "stdout",
          "text": [
            "<class 'pandas.core.frame.DataFrame'>\n",
            "RangeIndex: 891 entries, 0 to 890\n",
            "Data columns (total 12 columns):\n",
            " #   Column       Non-Null Count  Dtype  \n",
            "---  ------       --------------  -----  \n",
            " 0   PassengerId  891 non-null    int64  \n",
            " 1   Survived     891 non-null    int64  \n",
            " 2   Pclass       891 non-null    int64  \n",
            " 3   Name         891 non-null    object \n",
            " 4   Sex          891 non-null    object \n",
            " 5   Age          714 non-null    float64\n",
            " 6   SibSp        891 non-null    int64  \n",
            " 7   Parch        891 non-null    int64  \n",
            " 8   Ticket       891 non-null    object \n",
            " 9   Fare         891 non-null    float64\n",
            " 10  Cabin        204 non-null    object \n",
            " 11  Embarked     889 non-null    object \n",
            "dtypes: float64(2), int64(5), object(5)\n",
            "memory usage: 83.7+ KB\n"
          ]
        }
      ]
    },
    {
      "cell_type": "code",
      "metadata": {
        "ExecuteTime": {
          "end_time": "2021-09-02T14:48:55.323146Z",
          "start_time": "2021-09-02T14:48:55.260630Z"
        },
        "colab": {
          "base_uri": "https://localhost:8080/",
          "height": 294
        },
        "id": "f36e8dad",
        "outputId": "bb77d463-c94b-4c87-b417-f65ec81ec446"
      },
      "source": [
        "train_df.describe()"
      ],
      "id": "f36e8dad",
      "execution_count": null,
      "outputs": [
        {
          "output_type": "execute_result",
          "data": {
            "text/html": [
              "<div>\n",
              "<style scoped>\n",
              "    .dataframe tbody tr th:only-of-type {\n",
              "        vertical-align: middle;\n",
              "    }\n",
              "\n",
              "    .dataframe tbody tr th {\n",
              "        vertical-align: top;\n",
              "    }\n",
              "\n",
              "    .dataframe thead th {\n",
              "        text-align: right;\n",
              "    }\n",
              "</style>\n",
              "<table border=\"1\" class=\"dataframe\">\n",
              "  <thead>\n",
              "    <tr style=\"text-align: right;\">\n",
              "      <th></th>\n",
              "      <th>PassengerId</th>\n",
              "      <th>Survived</th>\n",
              "      <th>Pclass</th>\n",
              "      <th>Age</th>\n",
              "      <th>SibSp</th>\n",
              "      <th>Parch</th>\n",
              "      <th>Fare</th>\n",
              "    </tr>\n",
              "  </thead>\n",
              "  <tbody>\n",
              "    <tr>\n",
              "      <th>count</th>\n",
              "      <td>891.000000</td>\n",
              "      <td>891.000000</td>\n",
              "      <td>891.000000</td>\n",
              "      <td>714.000000</td>\n",
              "      <td>891.000000</td>\n",
              "      <td>891.000000</td>\n",
              "      <td>891.000000</td>\n",
              "    </tr>\n",
              "    <tr>\n",
              "      <th>mean</th>\n",
              "      <td>446.000000</td>\n",
              "      <td>0.383838</td>\n",
              "      <td>2.308642</td>\n",
              "      <td>29.699118</td>\n",
              "      <td>0.523008</td>\n",
              "      <td>0.381594</td>\n",
              "      <td>32.204208</td>\n",
              "    </tr>\n",
              "    <tr>\n",
              "      <th>std</th>\n",
              "      <td>257.353842</td>\n",
              "      <td>0.486592</td>\n",
              "      <td>0.836071</td>\n",
              "      <td>14.526497</td>\n",
              "      <td>1.102743</td>\n",
              "      <td>0.806057</td>\n",
              "      <td>49.693429</td>\n",
              "    </tr>\n",
              "    <tr>\n",
              "      <th>min</th>\n",
              "      <td>1.000000</td>\n",
              "      <td>0.000000</td>\n",
              "      <td>1.000000</td>\n",
              "      <td>0.420000</td>\n",
              "      <td>0.000000</td>\n",
              "      <td>0.000000</td>\n",
              "      <td>0.000000</td>\n",
              "    </tr>\n",
              "    <tr>\n",
              "      <th>25%</th>\n",
              "      <td>223.500000</td>\n",
              "      <td>0.000000</td>\n",
              "      <td>2.000000</td>\n",
              "      <td>20.125000</td>\n",
              "      <td>0.000000</td>\n",
              "      <td>0.000000</td>\n",
              "      <td>7.910400</td>\n",
              "    </tr>\n",
              "    <tr>\n",
              "      <th>50%</th>\n",
              "      <td>446.000000</td>\n",
              "      <td>0.000000</td>\n",
              "      <td>3.000000</td>\n",
              "      <td>28.000000</td>\n",
              "      <td>0.000000</td>\n",
              "      <td>0.000000</td>\n",
              "      <td>14.454200</td>\n",
              "    </tr>\n",
              "    <tr>\n",
              "      <th>75%</th>\n",
              "      <td>668.500000</td>\n",
              "      <td>1.000000</td>\n",
              "      <td>3.000000</td>\n",
              "      <td>38.000000</td>\n",
              "      <td>1.000000</td>\n",
              "      <td>0.000000</td>\n",
              "      <td>31.000000</td>\n",
              "    </tr>\n",
              "    <tr>\n",
              "      <th>max</th>\n",
              "      <td>891.000000</td>\n",
              "      <td>1.000000</td>\n",
              "      <td>3.000000</td>\n",
              "      <td>80.000000</td>\n",
              "      <td>8.000000</td>\n",
              "      <td>6.000000</td>\n",
              "      <td>512.329200</td>\n",
              "    </tr>\n",
              "  </tbody>\n",
              "</table>\n",
              "</div>"
            ],
            "text/plain": [
              "       PassengerId    Survived      Pclass  ...       SibSp       Parch        Fare\n",
              "count   891.000000  891.000000  891.000000  ...  891.000000  891.000000  891.000000\n",
              "mean    446.000000    0.383838    2.308642  ...    0.523008    0.381594   32.204208\n",
              "std     257.353842    0.486592    0.836071  ...    1.102743    0.806057   49.693429\n",
              "min       1.000000    0.000000    1.000000  ...    0.000000    0.000000    0.000000\n",
              "25%     223.500000    0.000000    2.000000  ...    0.000000    0.000000    7.910400\n",
              "50%     446.000000    0.000000    3.000000  ...    0.000000    0.000000   14.454200\n",
              "75%     668.500000    1.000000    3.000000  ...    1.000000    0.000000   31.000000\n",
              "max     891.000000    1.000000    3.000000  ...    8.000000    6.000000  512.329200\n",
              "\n",
              "[8 rows x 7 columns]"
            ]
          },
          "metadata": {},
          "execution_count": 7
        }
      ]
    },
    {
      "cell_type": "code",
      "metadata": {
        "ExecuteTime": {
          "end_time": "2021-09-02T14:48:55.934055Z",
          "start_time": "2021-09-02T14:48:55.892265Z"
        },
        "colab": {
          "base_uri": "https://localhost:8080/",
          "height": 416
        },
        "id": "6cb65b73",
        "outputId": "afdbd3b7-c522-4954-cc7c-6d0b5db94e89"
      },
      "source": [
        "missing = pd.DataFrame()\n",
        "missing['num of missed'] = train_df.isna().sum().sort_values(ascending=False)\n",
        "missing['percent'] = train_df.isna().sum()/train_df.isna().count()\n",
        "missing"
      ],
      "id": "6cb65b73",
      "execution_count": null,
      "outputs": [
        {
          "output_type": "execute_result",
          "data": {
            "text/html": [
              "<div>\n",
              "<style scoped>\n",
              "    .dataframe tbody tr th:only-of-type {\n",
              "        vertical-align: middle;\n",
              "    }\n",
              "\n",
              "    .dataframe tbody tr th {\n",
              "        vertical-align: top;\n",
              "    }\n",
              "\n",
              "    .dataframe thead th {\n",
              "        text-align: right;\n",
              "    }\n",
              "</style>\n",
              "<table border=\"1\" class=\"dataframe\">\n",
              "  <thead>\n",
              "    <tr style=\"text-align: right;\">\n",
              "      <th></th>\n",
              "      <th>num of missed</th>\n",
              "      <th>percent</th>\n",
              "    </tr>\n",
              "  </thead>\n",
              "  <tbody>\n",
              "    <tr>\n",
              "      <th>Cabin</th>\n",
              "      <td>687</td>\n",
              "      <td>0.771044</td>\n",
              "    </tr>\n",
              "    <tr>\n",
              "      <th>Age</th>\n",
              "      <td>177</td>\n",
              "      <td>0.198653</td>\n",
              "    </tr>\n",
              "    <tr>\n",
              "      <th>Embarked</th>\n",
              "      <td>2</td>\n",
              "      <td>0.002245</td>\n",
              "    </tr>\n",
              "    <tr>\n",
              "      <th>Fare</th>\n",
              "      <td>0</td>\n",
              "      <td>0.000000</td>\n",
              "    </tr>\n",
              "    <tr>\n",
              "      <th>Ticket</th>\n",
              "      <td>0</td>\n",
              "      <td>0.000000</td>\n",
              "    </tr>\n",
              "    <tr>\n",
              "      <th>Parch</th>\n",
              "      <td>0</td>\n",
              "      <td>0.000000</td>\n",
              "    </tr>\n",
              "    <tr>\n",
              "      <th>SibSp</th>\n",
              "      <td>0</td>\n",
              "      <td>0.000000</td>\n",
              "    </tr>\n",
              "    <tr>\n",
              "      <th>Sex</th>\n",
              "      <td>0</td>\n",
              "      <td>0.000000</td>\n",
              "    </tr>\n",
              "    <tr>\n",
              "      <th>Name</th>\n",
              "      <td>0</td>\n",
              "      <td>0.000000</td>\n",
              "    </tr>\n",
              "    <tr>\n",
              "      <th>Pclass</th>\n",
              "      <td>0</td>\n",
              "      <td>0.000000</td>\n",
              "    </tr>\n",
              "    <tr>\n",
              "      <th>Survived</th>\n",
              "      <td>0</td>\n",
              "      <td>0.000000</td>\n",
              "    </tr>\n",
              "    <tr>\n",
              "      <th>PassengerId</th>\n",
              "      <td>0</td>\n",
              "      <td>0.000000</td>\n",
              "    </tr>\n",
              "  </tbody>\n",
              "</table>\n",
              "</div>"
            ],
            "text/plain": [
              "             num of missed   percent\n",
              "Cabin                  687  0.771044\n",
              "Age                    177  0.198653\n",
              "Embarked                 2  0.002245\n",
              "Fare                     0  0.000000\n",
              "Ticket                   0  0.000000\n",
              "Parch                    0  0.000000\n",
              "SibSp                    0  0.000000\n",
              "Sex                      0  0.000000\n",
              "Name                     0  0.000000\n",
              "Pclass                   0  0.000000\n",
              "Survived                 0  0.000000\n",
              "PassengerId              0  0.000000"
            ]
          },
          "metadata": {},
          "execution_count": 8
        }
      ]
    },
    {
      "cell_type": "code",
      "metadata": {
        "ExecuteTime": {
          "end_time": "2021-09-02T14:48:57.232150Z",
          "start_time": "2021-09-02T14:48:57.217060Z"
        },
        "id": "839cd43c"
      },
      "source": [
        "# includes creating a new feature \"family size\" and \"title\" and dropping useless columns\n",
        "\n",
        "def preprocessor(df):\n",
        "    df['Title'] = '-'\n",
        "    for i in df:\n",
        "        df['Title'] = df['Name'].str.extract('([A-Za-z]+)\\.', expand=False)\n",
        "    df['Family size'] = df['SibSp']+df['Parch']+1\n",
        "    \n",
        "    df.drop(['PassengerId', 'Name', 'Ticket', 'Parch',\n",
        "            'SibSp', 'Cabin'], axis=1, inplace=True)\n",
        "    return df"
      ],
      "id": "839cd43c",
      "execution_count": null,
      "outputs": []
    },
    {
      "cell_type": "code",
      "metadata": {
        "ExecuteTime": {
          "end_time": "2021-09-02T14:48:57.656002Z",
          "start_time": "2021-09-02T14:48:57.643560Z"
        },
        "colab": {
          "base_uri": "https://localhost:8080/"
        },
        "id": "baadee16",
        "outputId": "1dc3f1c3-ed9a-4452-80e8-44c16b1b14eb"
      },
      "source": [
        "train_df.dtypes"
      ],
      "id": "baadee16",
      "execution_count": null,
      "outputs": [
        {
          "output_type": "execute_result",
          "data": {
            "text/plain": [
              "PassengerId      int64\n",
              "Survived         int64\n",
              "Pclass           int64\n",
              "Name            object\n",
              "Sex             object\n",
              "Age            float64\n",
              "SibSp            int64\n",
              "Parch            int64\n",
              "Ticket          object\n",
              "Fare           float64\n",
              "Cabin           object\n",
              "Embarked        object\n",
              "dtype: object"
            ]
          },
          "metadata": {},
          "execution_count": 11
        }
      ]
    },
    {
      "cell_type": "code",
      "metadata": {
        "ExecuteTime": {
          "end_time": "2021-09-02T14:48:58.545602Z",
          "start_time": "2021-09-02T14:48:58.417550Z"
        },
        "id": "c99ec488"
      },
      "source": [
        "train_df = preprocessor(train_df)"
      ],
      "id": "c99ec488",
      "execution_count": null,
      "outputs": []
    },
    {
      "cell_type": "markdown",
      "metadata": {
        "id": "1d2dba44"
      },
      "source": [
        "All done.\n",
        "we'd better check if 'Fare' column is worth keeping it or not."
      ],
      "id": "1d2dba44"
    },
    {
      "cell_type": "code",
      "metadata": {
        "ExecuteTime": {
          "end_time": "2021-09-02T14:50:18.315898Z",
          "start_time": "2021-09-02T14:50:18.293735Z"
        },
        "colab": {
          "base_uri": "https://localhost:8080/"
        },
        "id": "32803815",
        "outputId": "55b4941a-3c05-4588-8f5a-955b1514b3a5"
      },
      "source": [
        "train_df['Fare'].describe()"
      ],
      "id": "32803815",
      "execution_count": null,
      "outputs": [
        {
          "output_type": "execute_result",
          "data": {
            "text/plain": [
              "count    891.000000\n",
              "mean      32.204208\n",
              "std       49.693429\n",
              "min        0.000000\n",
              "25%        7.910400\n",
              "50%       14.454200\n",
              "75%       31.000000\n",
              "max      512.329200\n",
              "Name: Fare, dtype: float64"
            ]
          },
          "metadata": {},
          "execution_count": 13
        }
      ]
    },
    {
      "cell_type": "code",
      "metadata": {
        "ExecuteTime": {
          "end_time": "2021-09-02T14:50:18.888765Z",
          "start_time": "2021-09-02T14:50:18.651832Z"
        },
        "colab": {
          "base_uri": "https://localhost:8080/",
          "height": 296
        },
        "id": "eca338bc",
        "outputId": "431197f0-9ac0-4f69-a7ae-1220da90b481"
      },
      "source": [
        "sns.distplot(train_df['Fare'], fit=stats.norm)"
      ],
      "id": "eca338bc",
      "execution_count": null,
      "outputs": [
        {
          "output_type": "execute_result",
          "data": {
            "text/plain": [
              "<matplotlib.axes._subplots.AxesSubplot at 0x7f21a052ae90>"
            ]
          },
          "metadata": {},
          "execution_count": 14
        },
        {
          "output_type": "display_data",
          "data": {
            "image/png": "[encoded data removed]",
            "text/plain": [
              "<Figure size 432x288 with 1 Axes>"
            ]
          },
          "metadata": {
            "needs_background": "light"
          }
        }
      ]
    },
    {
      "cell_type": "markdown",
      "metadata": {
        "id": "9f67dd63"
      },
      "source": [
        "Apparently huge amount of values are missed, because even though we have the average of this column is too low, So this column is not worth keeping and feeding it to our model. "
      ],
      "id": "9f67dd63"
    },
    {
      "cell_type": "code",
      "metadata": {
        "ExecuteTime": {
          "end_time": "2021-09-02T14:50:19.272636Z",
          "start_time": "2021-09-02T14:50:19.265528Z"
        },
        "id": "08cc89a9"
      },
      "source": [
        "train_df.drop(['Fare'], axis=1, inplace=True)"
      ],
      "id": "08cc89a9",
      "execution_count": null,
      "outputs": []
    },
    {
      "cell_type": "markdown",
      "metadata": {
        "ExecuteTime": {
          "end_time": "2021-08-21T09:08:19.531097Z",
          "start_time": "2021-08-21T09:08:19.525966Z"
        },
        "id": "378c1b2c"
      },
      "source": [
        "## Some info about the dataset"
      ],
      "id": "378c1b2c"
    },
    {
      "cell_type": "code",
      "metadata": {
        "ExecuteTime": {
          "end_time": "2021-09-02T14:50:19.952405Z",
          "start_time": "2021-09-02T14:50:19.941563Z"
        },
        "id": "0adfc654"
      },
      "source": [
        "# some barplots to see how the dataset looks like\n",
        "\n",
        "def bar_visualizer(df, size):\n",
        "    if size != 'default':\n",
        "        plt.figure(figsize=(15,5))\n",
        "    plot = sns.barplot(x=df[df.columns[0]],\n",
        "                       y=df[df.columns[1]], palette='muted')\n",
        "    for bar in plot.patches:\n",
        "        plot.annotate(format(bar.get_height(), 'g'),\n",
        "                      (bar.get_x() + bar.get_width() / 2,\n",
        "                       bar.get_height()), ha='center', va='center',\n",
        "                      size=12, xytext=(0, 4),\n",
        "                      textcoords='offset points')"
      ],
      "id": "0adfc654",
      "execution_count": null,
      "outputs": []
    },
    {
      "cell_type": "markdown",
      "metadata": {
        "id": "562c46ad"
      },
      "source": [
        "### Survived/Sex"
      ],
      "id": "562c46ad"
    },
    {
      "cell_type": "code",
      "metadata": {
        "ExecuteTime": {
          "end_time": "2021-09-02T14:50:20.591378Z",
          "start_time": "2021-09-02T14:50:20.563509Z"
        },
        "id": "8ed4098d"
      },
      "source": [
        "temp = train_df.groupby('Sex', as_index=False)['Survived'].sum()"
      ],
      "id": "8ed4098d",
      "execution_count": null,
      "outputs": []
    },
    {
      "cell_type": "code",
      "metadata": {
        "ExecuteTime": {
          "end_time": "2021-09-02T14:50:21.035853Z",
          "start_time": "2021-09-02T14:50:20.885128Z"
        },
        "colab": {
          "base_uri": "https://localhost:8080/",
          "height": 278
        },
        "id": "106ce487",
        "outputId": "e5b0d4b5-85e2-4813-85aa-838f622192c9"
      },
      "source": [
        "bar_visualizer(temp, 'default')"
      ],
      "id": "106ce487",
      "execution_count": null,
      "outputs": [
        {
          "output_type": "display_data",
          "data": {
            "image/png": "[encoded data removed]",
            "text/plain": [
              "<Figure size 432x288 with 1 Axes>"
            ]
          },
          "metadata": {
            "needs_background": "light"
          }
        }
      ]
    },
    {
      "cell_type": "markdown",
      "metadata": {
        "id": "02698c8a"
      },
      "source": [
        "### Survived/Pclass"
      ],
      "id": "02698c8a"
    },
    {
      "cell_type": "code",
      "metadata": {
        "ExecuteTime": {
          "end_time": "2021-09-02T14:50:21.700006Z",
          "start_time": "2021-09-02T14:50:21.681060Z"
        },
        "colab": {
          "base_uri": "https://localhost:8080/",
          "height": 141
        },
        "id": "5e8733f0",
        "outputId": "04d562c7-5033-4ba5-fadc-4bde1d18c24c"
      },
      "source": [
        "temp = train_df.groupby('Pclass', as_index=False)['Survived'].sum()\n",
        "temp"
      ],
      "id": "5e8733f0",
      "execution_count": null,
      "outputs": [
        {
          "output_type": "execute_result",
          "data": {
            "text/html": [
              "<div>\n",
              "<style scoped>\n",
              "    .dataframe tbody tr th:only-of-type {\n",
              "        vertical-align: middle;\n",
              "    }\n",
              "\n",
              "    .dataframe tbody tr th {\n",
              "        vertical-align: top;\n",
              "    }\n",
              "\n",
              "    .dataframe thead th {\n",
              "        text-align: right;\n",
              "    }\n",
              "</style>\n",
              "<table border=\"1\" class=\"dataframe\">\n",
              "  <thead>\n",
              "    <tr style=\"text-align: right;\">\n",
              "      <th></th>\n",
              "      <th>Pclass</th>\n",
              "      <th>Survived</th>\n",
              "    </tr>\n",
              "  </thead>\n",
              "  <tbody>\n",
              "    <tr>\n",
              "      <th>0</th>\n",
              "      <td>1</td>\n",
              "      <td>136</td>\n",
              "    </tr>\n",
              "    <tr>\n",
              "      <th>1</th>\n",
              "      <td>2</td>\n",
              "      <td>87</td>\n",
              "    </tr>\n",
              "    <tr>\n",
              "      <th>2</th>\n",
              "      <td>3</td>\n",
              "      <td>119</td>\n",
              "    </tr>\n",
              "  </tbody>\n",
              "</table>\n",
              "</div>"
            ],
            "text/plain": [
              "   Pclass  Survived\n",
              "0       1       136\n",
              "1       2        87\n",
              "2       3       119"
            ]
          },
          "metadata": {},
          "execution_count": 19
        }
      ]
    },
    {
      "cell_type": "code",
      "metadata": {
        "ExecuteTime": {
          "end_time": "2021-09-02T14:50:22.158915Z",
          "start_time": "2021-09-02T14:50:21.972852Z"
        },
        "colab": {
          "base_uri": "https://localhost:8080/",
          "height": 278
        },
        "id": "8b204ff1",
        "outputId": "b5b770f8-3a65-4f84-c8a6-df87c242d1fb"
      },
      "source": [
        "bar_visualizer(temp, 'default')"
      ],
      "id": "8b204ff1",
      "execution_count": null,
      "outputs": [
        {
          "output_type": "display_data",
          "data": {
            "image/png": "[encoded data removed]",
            "text/plain": [
              "<Figure size 432x288 with 1 Axes>"
            ]
          },
          "metadata": {
            "needs_background": "light"
          }
        }
      ]
    },
    {
      "cell_type": "markdown",
      "metadata": {
        "id": "4225ac35"
      },
      "source": [
        "### Survived/Embarked"
      ],
      "id": "4225ac35"
    },
    {
      "cell_type": "code",
      "metadata": {
        "ExecuteTime": {
          "end_time": "2021-09-02T14:50:22.656776Z",
          "start_time": "2021-09-02T14:50:22.635680Z"
        },
        "id": "4e36e4a5"
      },
      "source": [
        "temp = train_df.groupby('Embarked', as_index=False)['Survived'].sum()"
      ],
      "id": "4e36e4a5",
      "execution_count": null,
      "outputs": []
    },
    {
      "cell_type": "code",
      "metadata": {
        "ExecuteTime": {
          "end_time": "2021-09-02T14:50:23.065576Z",
          "start_time": "2021-09-02T14:50:22.928453Z"
        },
        "colab": {
          "base_uri": "https://localhost:8080/",
          "height": 278
        },
        "id": "336a2f4d",
        "outputId": "2d89c22a-fdfd-4a66-83db-3f26654d537b"
      },
      "source": [
        "bar_visualizer(temp, 'default')"
      ],
      "id": "336a2f4d",
      "execution_count": null,
      "outputs": [
        {
          "output_type": "display_data",
          "data": {
            "image/png": "[encoded data removed]",
            "text/plain": [
              "<Figure size 432x288 with 1 Axes>"
            ]
          },
          "metadata": {
            "needs_background": "light"
          }
        }
      ]
    },
    {
      "cell_type": "markdown",
      "metadata": {
        "id": "b48da737"
      },
      "source": [
        "### Survived/Family Size"
      ],
      "id": "b48da737"
    },
    {
      "cell_type": "code",
      "metadata": {
        "ExecuteTime": {
          "end_time": "2021-09-02T14:50:23.619999Z",
          "start_time": "2021-09-02T14:50:23.603816Z"
        },
        "id": "d4cbc3b4"
      },
      "source": [
        "temp = train_df.groupby('Family size', as_index=False)['Survived'].sum()"
      ],
      "id": "d4cbc3b4",
      "execution_count": null,
      "outputs": []
    },
    {
      "cell_type": "code",
      "metadata": {
        "ExecuteTime": {
          "end_time": "2021-09-02T14:50:24.071935Z",
          "start_time": "2021-09-02T14:50:23.860536Z"
        },
        "colab": {
          "base_uri": "https://localhost:8080/",
          "height": 278
        },
        "id": "1822d7b0",
        "outputId": "164aa327-81bb-4afb-c8a0-e0483fcec2ba"
      },
      "source": [
        "bar_visualizer(temp, 'default')"
      ],
      "id": "1822d7b0",
      "execution_count": null,
      "outputs": [
        {
          "output_type": "display_data",
          "data": {
            "image/png": "[encoded data removed]",
            "text/plain": [
              "<Figure size 432x288 with 1 Axes>"
            ]
          },
          "metadata": {
            "needs_background": "light"
          }
        }
      ]
    },
    {
      "cell_type": "markdown",
      "metadata": {
        "id": "8d1d6d87"
      },
      "source": [
        "### Survived/Average Age"
      ],
      "id": "8d1d6d87"
    },
    {
      "cell_type": "code",
      "metadata": {
        "ExecuteTime": {
          "end_time": "2021-09-02T14:50:24.565481Z",
          "start_time": "2021-09-02T14:50:24.550435Z"
        },
        "colab": {
          "base_uri": "https://localhost:8080/",
          "height": 110
        },
        "id": "1ac065ba",
        "outputId": "f6108123-eebc-4147-8d96-70630a40c7f4"
      },
      "source": [
        "temp = train_df.groupby('Survived', as_index=False)['Age'].mean()\n",
        "temp"
      ],
      "id": "1ac065ba",
      "execution_count": null,
      "outputs": [
        {
          "output_type": "execute_result",
          "data": {
            "text/html": [
              "<div>\n",
              "<style scoped>\n",
              "    .dataframe tbody tr th:only-of-type {\n",
              "        vertical-align: middle;\n",
              "    }\n",
              "\n",
              "    .dataframe tbody tr th {\n",
              "        vertical-align: top;\n",
              "    }\n",
              "\n",
              "    .dataframe thead th {\n",
              "        text-align: right;\n",
              "    }\n",
              "</style>\n",
              "<table border=\"1\" class=\"dataframe\">\n",
              "  <thead>\n",
              "    <tr style=\"text-align: right;\">\n",
              "      <th></th>\n",
              "      <th>Survived</th>\n",
              "      <th>Age</th>\n",
              "    </tr>\n",
              "  </thead>\n",
              "  <tbody>\n",
              "    <tr>\n",
              "      <th>0</th>\n",
              "      <td>0</td>\n",
              "      <td>30.626179</td>\n",
              "    </tr>\n",
              "    <tr>\n",
              "      <th>1</th>\n",
              "      <td>1</td>\n",
              "      <td>28.343690</td>\n",
              "    </tr>\n",
              "  </tbody>\n",
              "</table>\n",
              "</div>"
            ],
            "text/plain": [
              "   Survived        Age\n",
              "0         0  30.626179\n",
              "1         1  28.343690"
            ]
          },
          "metadata": {},
          "execution_count": 25
        }
      ]
    },
    {
      "cell_type": "code",
      "metadata": {
        "ExecuteTime": {
          "end_time": "2021-09-02T14:50:25.035093Z",
          "start_time": "2021-09-02T14:50:24.917902Z"
        },
        "colab": {
          "base_uri": "https://localhost:8080/",
          "height": 278
        },
        "id": "0a7c578f",
        "outputId": "a0427e53-c422-4483-f6c4-0ab2cd889e62"
      },
      "source": [
        "bar_visualizer(temp, 'default')"
      ],
      "id": "0a7c578f",
      "execution_count": null,
      "outputs": [
        {
          "output_type": "display_data",
          "data": {
            "image/png": "[encoded data removed]",
            "text/plain": [
              "<Figure size 432x288 with 1 Axes>"
            ]
          },
          "metadata": {
            "needs_background": "light"
          }
        }
      ]
    },
    {
      "cell_type": "markdown",
      "metadata": {
        "id": "ad3bf4e0"
      },
      "source": [
        "### Survived/Title"
      ],
      "id": "ad3bf4e0"
    },
    {
      "cell_type": "code",
      "metadata": {
        "ExecuteTime": {
          "end_time": "2021-09-02T14:50:25.655431Z",
          "start_time": "2021-09-02T14:50:25.636198Z"
        },
        "id": "12812dea"
      },
      "source": [
        "temp = train_df.groupby('Title', as_index=False)['Age'].mean()"
      ],
      "id": "12812dea",
      "execution_count": null,
      "outputs": []
    },
    {
      "cell_type": "code",
      "metadata": {
        "ExecuteTime": {
          "end_time": "2021-09-02T14:50:26.249778Z",
          "start_time": "2021-09-02T14:50:25.957806Z"
        },
        "colab": {
          "base_uri": "https://localhost:8080/",
          "height": 334
        },
        "id": "9b329ac4",
        "outputId": "4614793f-8186-4fff-df1c-30bcfce7a742"
      },
      "source": [
        "bar_visualizer(temp, 'non-default')"
      ],
      "id": "9b329ac4",
      "execution_count": null,
      "outputs": [
        {
          "output_type": "display_data",
          "data": {
            "image/png": "[encoded data removed]",
            "text/plain": [
              "<Figure size 1080x360 with 1 Axes>"
            ]
          },
          "metadata": {
            "needs_background": "light"
          }
        }
      ]
    },
    {
      "cell_type": "markdown",
      "metadata": {
        "id": "4a67b88b"
      },
      "source": [
        "## Imputing missing values"
      ],
      "id": "4a67b88b"
    },
    {
      "cell_type": "code",
      "metadata": {
        "ExecuteTime": {
          "end_time": "2021-09-02T14:50:26.625868Z",
          "start_time": "2021-09-02T14:50:26.611863Z"
        },
        "colab": {
          "base_uri": "https://localhost:8080/"
        },
        "id": "1b44176c",
        "outputId": "413f237f-3dec-431c-f235-e3da1b4cb633"
      },
      "source": [
        "train_df.isna().sum()"
      ],
      "id": "1b44176c",
      "execution_count": null,
      "outputs": [
        {
          "output_type": "execute_result",
          "data": {
            "text/plain": [
              "Survived         0\n",
              "Pclass           0\n",
              "Sex              0\n",
              "Age            177\n",
              "Embarked         2\n",
              "Title            0\n",
              "Family size      0\n",
              "dtype: int64"
            ]
          },
          "metadata": {},
          "execution_count": 29
        }
      ]
    },
    {
      "cell_type": "markdown",
      "metadata": {
        "id": "f1a945f4"
      },
      "source": [
        "### Embarked"
      ],
      "id": "f1a945f4"
    },
    {
      "cell_type": "code",
      "metadata": {
        "ExecuteTime": {
          "end_time": "2021-09-02T14:50:27.532270Z",
          "start_time": "2021-09-02T14:50:27.515308Z"
        },
        "id": "5ce5f6ba"
      },
      "source": [
        "# there are just two of missing values in this column, we can easily drop them.\n",
        "\n",
        "train_df.dropna(subset=['Embarked'], inplace=True)"
      ],
      "id": "5ce5f6ba",
      "execution_count": null,
      "outputs": []
    },
    {
      "cell_type": "markdown",
      "metadata": {
        "id": "93da7b24"
      },
      "source": [
        "### Age"
      ],
      "id": "93da7b24"
    },
    {
      "cell_type": "code",
      "metadata": {
        "ExecuteTime": {
          "end_time": "2021-09-02T14:50:28.192510Z",
          "start_time": "2021-09-02T14:50:28.173755Z"
        },
        "colab": {
          "base_uri": "https://localhost:8080/"
        },
        "id": "16b3bc7a",
        "outputId": "3eee74c2-b7b0-43a3-9965-2d013badd949"
      },
      "source": [
        "# since we know each person's title, we could use it as an estimator for imputing this column\n",
        "title_age = train_df.groupby(\n",
        "    'Title')['Age'].mean()\n",
        "\n",
        "title_age = title_age.to_dict()\n",
        "title_age"
      ],
      "id": "16b3bc7a",
      "execution_count": null,
      "outputs": [
        {
          "output_type": "execute_result",
          "data": {
            "text/plain": [
              "{'Capt': 70.0,\n",
              " 'Col': 58.0,\n",
              " 'Countess': 33.0,\n",
              " 'Don': 40.0,\n",
              " 'Dr': 42.0,\n",
              " 'Jonkheer': 38.0,\n",
              " 'Lady': 48.0,\n",
              " 'Major': 48.5,\n",
              " 'Master': 4.574166666666667,\n",
              " 'Miss': 21.662068965517243,\n",
              " 'Mlle': 24.0,\n",
              " 'Mme': 24.0,\n",
              " 'Mr': 32.368090452261306,\n",
              " 'Mrs': 35.654205607476634,\n",
              " 'Ms': 28.0,\n",
              " 'Rev': 43.166666666666664,\n",
              " 'Sir': 49.0}"
            ]
          },
          "metadata": {},
          "execution_count": 31
        }
      ]
    },
    {
      "cell_type": "code",
      "metadata": {
        "ExecuteTime": {
          "end_time": "2021-09-02T14:50:28.601056Z",
          "start_time": "2021-09-02T14:50:28.504537Z"
        },
        "id": "0207fbe6"
      },
      "source": [
        "indexes = train_df.loc[train_df['Age'].isna()].index\n",
        "\n",
        "for index in indexes:\n",
        "    for key in title_age.keys():\n",
        "        if train_df['Title'][index] == key:\n",
        "            train_df['Age'][index] = title_age[key]"
      ],
      "id": "0207fbe6",
      "execution_count": null,
      "outputs": []
    },
    {
      "cell_type": "markdown",
      "metadata": {
        "id": "aa098e3e"
      },
      "source": [
        "## Categorical Features"
      ],
      "id": "aa098e3e"
    },
    {
      "cell_type": "markdown",
      "metadata": {
        "id": "4eefa3d1"
      },
      "source": [
        "'Title' is a categorical feature and we only needed it for imputing NaN variables in 'Age' column, so we can drop it now."
      ],
      "id": "4eefa3d1"
    },
    {
      "cell_type": "code",
      "metadata": {
        "ExecuteTime": {
          "end_time": "2021-09-02T14:50:29.744830Z",
          "start_time": "2021-09-02T14:50:29.733482Z"
        },
        "id": "e76b36ab"
      },
      "source": [
        "train_df.drop('Title', axis=1, inplace=True)"
      ],
      "id": "e76b36ab",
      "execution_count": null,
      "outputs": []
    },
    {
      "cell_type": "code",
      "metadata": {
        "ExecuteTime": {
          "end_time": "2021-09-02T14:50:50.062166Z",
          "start_time": "2021-09-02T14:50:50.041696Z"
        },
        "colab": {
          "base_uri": "https://localhost:8080/",
          "height": 414
        },
        "id": "32aa0bfb",
        "outputId": "d9cdcf3b-7a10-42d6-b18f-c9ee7e597609"
      },
      "source": [
        "train_df = pd.get_dummies(train_df, drop_first=True)\n",
        "train_df"
      ],
      "id": "32aa0bfb",
      "execution_count": null,
      "outputs": [
        {
          "output_type": "execute_result",
          "data": {
            "text/html": [
              "<div>\n",
              "<style scoped>\n",
              "    .dataframe tbody tr th:only-of-type {\n",
              "        vertical-align: middle;\n",
              "    }\n",
              "\n",
              "    .dataframe tbody tr th {\n",
              "        vertical-align: top;\n",
              "    }\n",
              "\n",
              "    .dataframe thead th {\n",
              "        text-align: right;\n",
              "    }\n",
              "</style>\n",
              "<table border=\"1\" class=\"dataframe\">\n",
              "  <thead>\n",
              "    <tr style=\"text-align: right;\">\n",
              "      <th></th>\n",
              "      <th>Survived</th>\n",
              "      <th>Pclass</th>\n",
              "      <th>Age</th>\n",
              "      <th>Family size</th>\n",
              "      <th>Sex_male</th>\n",
              "      <th>Embarked_Q</th>\n",
              "      <th>Embarked_S</th>\n",
              "    </tr>\n",
              "  </thead>\n",
              "  <tbody>\n",
              "    <tr>\n",
              "      <th>0</th>\n",
              "      <td>0</td>\n",
              "      <td>3</td>\n",
              "      <td>22.000000</td>\n",
              "      <td>2</td>\n",
              "      <td>1</td>\n",
              "      <td>0</td>\n",
              "      <td>1</td>\n",
              "    </tr>\n",
              "    <tr>\n",
              "      <th>1</th>\n",
              "      <td>1</td>\n",
              "      <td>1</td>\n",
              "      <td>38.000000</td>\n",
              "      <td>2</td>\n",
              "      <td>0</td>\n",
              "      <td>0</td>\n",
              "      <td>0</td>\n",
              "    </tr>\n",
              "    <tr>\n",
              "      <th>2</th>\n",
              "      <td>1</td>\n",
              "      <td>3</td>\n",
              "      <td>26.000000</td>\n",
              "      <td>1</td>\n",
              "      <td>0</td>\n",
              "      <td>0</td>\n",
              "      <td>1</td>\n",
              "    </tr>\n",
              "    <tr>\n",
              "      <th>3</th>\n",
              "      <td>1</td>\n",
              "      <td>1</td>\n",
              "      <td>35.000000</td>\n",
              "      <td>2</td>\n",
              "      <td>0</td>\n",
              "      <td>0</td>\n",
              "      <td>1</td>\n",
              "    </tr>\n",
              "    <tr>\n",
              "      <th>4</th>\n",
              "      <td>0</td>\n",
              "      <td>3</td>\n",
              "      <td>35.000000</td>\n",
              "      <td>1</td>\n",
              "      <td>1</td>\n",
              "      <td>0</td>\n",
              "      <td>1</td>\n",
              "    </tr>\n",
              "    <tr>\n",
              "      <th>...</th>\n",
              "      <td>...</td>\n",
              "      <td>...</td>\n",
              "      <td>...</td>\n",
              "      <td>...</td>\n",
              "      <td>...</td>\n",
              "      <td>...</td>\n",
              "      <td>...</td>\n",
              "    </tr>\n",
              "    <tr>\n",
              "      <th>886</th>\n",
              "      <td>0</td>\n",
              "      <td>2</td>\n",
              "      <td>27.000000</td>\n",
              "      <td>1</td>\n",
              "      <td>1</td>\n",
              "      <td>0</td>\n",
              "      <td>1</td>\n",
              "    </tr>\n",
              "    <tr>\n",
              "      <th>887</th>\n",
              "      <td>1</td>\n",
              "      <td>1</td>\n",
              "      <td>19.000000</td>\n",
              "      <td>1</td>\n",
              "      <td>0</td>\n",
              "      <td>0</td>\n",
              "      <td>1</td>\n",
              "    </tr>\n",
              "    <tr>\n",
              "      <th>888</th>\n",
              "      <td>0</td>\n",
              "      <td>3</td>\n",
              "      <td>21.662069</td>\n",
              "      <td>4</td>\n",
              "      <td>0</td>\n",
              "      <td>0</td>\n",
              "      <td>1</td>\n",
              "    </tr>\n",
              "    <tr>\n",
              "      <th>889</th>\n",
              "      <td>1</td>\n",
              "      <td>1</td>\n",
              "      <td>26.000000</td>\n",
              "      <td>1</td>\n",
              "      <td>1</td>\n",
              "      <td>0</td>\n",
              "      <td>0</td>\n",
              "    </tr>\n",
              "    <tr>\n",
              "      <th>890</th>\n",
              "      <td>0</td>\n",
              "      <td>3</td>\n",
              "      <td>32.000000</td>\n",
              "      <td>1</td>\n",
              "      <td>1</td>\n",
              "      <td>1</td>\n",
              "      <td>0</td>\n",
              "    </tr>\n",
              "  </tbody>\n",
              "</table>\n",
              "<p>889 rows × 7 columns</p>\n",
              "</div>"
            ],
            "text/plain": [
              "     Survived  Pclass        Age  Family size  Sex_male  Embarked_Q  Embarked_S\n",
              "0           0       3  22.000000            2         1           0           1\n",
              "1           1       1  38.000000            2         0           0           0\n",
              "2           1       3  26.000000            1         0           0           1\n",
              "3           1       1  35.000000            2         0           0           1\n",
              "4           0       3  35.000000            1         1           0           1\n",
              "..        ...     ...        ...          ...       ...         ...         ...\n",
              "886         0       2  27.000000            1         1           0           1\n",
              "887         1       1  19.000000            1         0           0           1\n",
              "888         0       3  21.662069            4         0           0           1\n",
              "889         1       1  26.000000            1         1           0           0\n",
              "890         0       3  32.000000            1         1           1           0\n",
              "\n",
              "[889 rows x 7 columns]"
            ]
          },
          "metadata": {},
          "execution_count": 34
        }
      ]
    },
    {
      "cell_type": "markdown",
      "metadata": {
        "id": "73ca919b"
      },
      "source": [
        "Sex: 1 male, 0 female <br>\n",
        "Embarked: 2 S, 0 C, 1 Q"
      ],
      "id": "73ca919b"
    },
    {
      "cell_type": "markdown",
      "metadata": {
        "id": "fb6b552f"
      },
      "source": [
        "## Train and Validation split"
      ],
      "id": "fb6b552f"
    },
    {
      "cell_type": "code",
      "metadata": {
        "ExecuteTime": {
          "end_time": "2021-09-02T14:52:25.145451Z",
          "start_time": "2021-09-02T14:52:25.118650Z"
        },
        "colab": {
          "base_uri": "https://localhost:8080/",
          "height": 414
        },
        "id": "550a91f2",
        "outputId": "c4a8232e-6943-4d25-d295-9a9510059dc6"
      },
      "source": [
        "X = train_df.drop('Survived', axis=1)\n",
        "y = train_df['Survived']\n",
        "X"
      ],
      "id": "550a91f2",
      "execution_count": null,
      "outputs": [
        {
          "output_type": "execute_result",
          "data": {
            "text/html": [
              "<div>\n",
              "<style scoped>\n",
              "    .dataframe tbody tr th:only-of-type {\n",
              "        vertical-align: middle;\n",
              "    }\n",
              "\n",
              "    .dataframe tbody tr th {\n",
              "        vertical-align: top;\n",
              "    }\n",
              "\n",
              "    .dataframe thead th {\n",
              "        text-align: right;\n",
              "    }\n",
              "</style>\n",
              "<table border=\"1\" class=\"dataframe\">\n",
              "  <thead>\n",
              "    <tr style=\"text-align: right;\">\n",
              "      <th></th>\n",
              "      <th>Pclass</th>\n",
              "      <th>Age</th>\n",
              "      <th>Family size</th>\n",
              "      <th>Sex_male</th>\n",
              "      <th>Embarked_Q</th>\n",
              "      <th>Embarked_S</th>\n",
              "    </tr>\n",
              "  </thead>\n",
              "  <tbody>\n",
              "    <tr>\n",
              "      <th>0</th>\n",
              "      <td>3</td>\n",
              "      <td>22.000000</td>\n",
              "      <td>2</td>\n",
              "      <td>1</td>\n",
              "      <td>0</td>\n",
              "      <td>1</td>\n",
              "    </tr>\n",
              "    <tr>\n",
              "      <th>1</th>\n",
              "      <td>1</td>\n",
              "      <td>38.000000</td>\n",
              "      <td>2</td>\n",
              "      <td>0</td>\n",
              "      <td>0</td>\n",
              "      <td>0</td>\n",
              "    </tr>\n",
              "    <tr>\n",
              "      <th>2</th>\n",
              "      <td>3</td>\n",
              "      <td>26.000000</td>\n",
              "      <td>1</td>\n",
              "      <td>0</td>\n",
              "      <td>0</td>\n",
              "      <td>1</td>\n",
              "    </tr>\n",
              "    <tr>\n",
              "      <th>3</th>\n",
              "      <td>1</td>\n",
              "      <td>35.000000</td>\n",
              "      <td>2</td>\n",
              "      <td>0</td>\n",
              "      <td>0</td>\n",
              "      <td>1</td>\n",
              "    </tr>\n",
              "    <tr>\n",
              "      <th>4</th>\n",
              "      <td>3</td>\n",
              "      <td>35.000000</td>\n",
              "      <td>1</td>\n",
              "      <td>1</td>\n",
              "      <td>0</td>\n",
              "      <td>1</td>\n",
              "    </tr>\n",
              "    <tr>\n",
              "      <th>...</th>\n",
              "      <td>...</td>\n",
              "      <td>...</td>\n",
              "      <td>...</td>\n",
              "      <td>...</td>\n",
              "      <td>...</td>\n",
              "      <td>...</td>\n",
              "    </tr>\n",
              "    <tr>\n",
              "      <th>886</th>\n",
              "      <td>2</td>\n",
              "      <td>27.000000</td>\n",
              "      <td>1</td>\n",
              "      <td>1</td>\n",
              "      <td>0</td>\n",
              "      <td>1</td>\n",
              "    </tr>\n",
              "    <tr>\n",
              "      <th>887</th>\n",
              "      <td>1</td>\n",
              "      <td>19.000000</td>\n",
              "      <td>1</td>\n",
              "      <td>0</td>\n",
              "      <td>0</td>\n",
              "      <td>1</td>\n",
              "    </tr>\n",
              "    <tr>\n",
              "      <th>888</th>\n",
              "      <td>3</td>\n",
              "      <td>21.662069</td>\n",
              "      <td>4</td>\n",
              "      <td>0</td>\n",
              "      <td>0</td>\n",
              "      <td>1</td>\n",
              "    </tr>\n",
              "    <tr>\n",
              "      <th>889</th>\n",
              "      <td>1</td>\n",
              "      <td>26.000000</td>\n",
              "      <td>1</td>\n",
              "      <td>1</td>\n",
              "      <td>0</td>\n",
              "      <td>0</td>\n",
              "    </tr>\n",
              "    <tr>\n",
              "      <th>890</th>\n",
              "      <td>3</td>\n",
              "      <td>32.000000</td>\n",
              "      <td>1</td>\n",
              "      <td>1</td>\n",
              "      <td>1</td>\n",
              "      <td>0</td>\n",
              "    </tr>\n",
              "  </tbody>\n",
              "</table>\n",
              "<p>889 rows × 6 columns</p>\n",
              "</div>"
            ],
            "text/plain": [
              "     Pclass        Age  Family size  Sex_male  Embarked_Q  Embarked_S\n",
              "0         3  22.000000            2         1           0           1\n",
              "1         1  38.000000            2         0           0           0\n",
              "2         3  26.000000            1         0           0           1\n",
              "3         1  35.000000            2         0           0           1\n",
              "4         3  35.000000            1         1           0           1\n",
              "..      ...        ...          ...       ...         ...         ...\n",
              "886       2  27.000000            1         1           0           1\n",
              "887       1  19.000000            1         0           0           1\n",
              "888       3  21.662069            4         0           0           1\n",
              "889       1  26.000000            1         1           0           0\n",
              "890       3  32.000000            1         1           1           0\n",
              "\n",
              "[889 rows x 6 columns]"
            ]
          },
          "metadata": {},
          "execution_count": 35
        }
      ]
    },
    {
      "cell_type": "code",
      "metadata": {
        "ExecuteTime": {
          "end_time": "2021-09-02T14:52:25.700164Z",
          "start_time": "2021-09-02T14:52:25.686402Z"
        },
        "id": "7be097ef"
      },
      "source": [
        "X_train, X_val, y_train, y_val = train_test_split(\n",
        "    X, y, test_size=0.2, random_state=42)"
      ],
      "id": "7be097ef",
      "execution_count": null,
      "outputs": []
    },
    {
      "cell_type": "code",
      "metadata": {
        "ExecuteTime": {
          "end_time": "2021-09-02T14:52:36.872800Z",
          "start_time": "2021-09-02T14:52:36.848960Z"
        },
        "colab": {
          "base_uri": "https://localhost:8080/",
          "height": 414
        },
        "id": "29d66c9f",
        "outputId": "cda3793c-fe60-451f-dfff-43041bf12e7d"
      },
      "source": [
        "X_train"
      ],
      "id": "29d66c9f",
      "execution_count": null,
      "outputs": [
        {
          "output_type": "execute_result",
          "data": {
            "text/html": [
              "<div>\n",
              "<style scoped>\n",
              "    .dataframe tbody tr th:only-of-type {\n",
              "        vertical-align: middle;\n",
              "    }\n",
              "\n",
              "    .dataframe tbody tr th {\n",
              "        vertical-align: top;\n",
              "    }\n",
              "\n",
              "    .dataframe thead th {\n",
              "        text-align: right;\n",
              "    }\n",
              "</style>\n",
              "<table border=\"1\" class=\"dataframe\">\n",
              "  <thead>\n",
              "    <tr style=\"text-align: right;\">\n",
              "      <th></th>\n",
              "      <th>Pclass</th>\n",
              "      <th>Age</th>\n",
              "      <th>Family size</th>\n",
              "      <th>Sex_male</th>\n",
              "      <th>Embarked_Q</th>\n",
              "      <th>Embarked_S</th>\n",
              "    </tr>\n",
              "  </thead>\n",
              "  <tbody>\n",
              "    <tr>\n",
              "      <th>708</th>\n",
              "      <td>1</td>\n",
              "      <td>22.000000</td>\n",
              "      <td>1</td>\n",
              "      <td>0</td>\n",
              "      <td>0</td>\n",
              "      <td>1</td>\n",
              "    </tr>\n",
              "    <tr>\n",
              "      <th>240</th>\n",
              "      <td>3</td>\n",
              "      <td>21.662069</td>\n",
              "      <td>2</td>\n",
              "      <td>0</td>\n",
              "      <td>0</td>\n",
              "      <td>0</td>\n",
              "    </tr>\n",
              "    <tr>\n",
              "      <th>382</th>\n",
              "      <td>3</td>\n",
              "      <td>32.000000</td>\n",
              "      <td>1</td>\n",
              "      <td>1</td>\n",
              "      <td>0</td>\n",
              "      <td>1</td>\n",
              "    </tr>\n",
              "    <tr>\n",
              "      <th>792</th>\n",
              "      <td>3</td>\n",
              "      <td>21.662069</td>\n",
              "      <td>11</td>\n",
              "      <td>0</td>\n",
              "      <td>0</td>\n",
              "      <td>1</td>\n",
              "    </tr>\n",
              "    <tr>\n",
              "      <th>683</th>\n",
              "      <td>3</td>\n",
              "      <td>14.000000</td>\n",
              "      <td>8</td>\n",
              "      <td>1</td>\n",
              "      <td>0</td>\n",
              "      <td>1</td>\n",
              "    </tr>\n",
              "    <tr>\n",
              "      <th>...</th>\n",
              "      <td>...</td>\n",
              "      <td>...</td>\n",
              "      <td>...</td>\n",
              "      <td>...</td>\n",
              "      <td>...</td>\n",
              "      <td>...</td>\n",
              "    </tr>\n",
              "    <tr>\n",
              "      <th>107</th>\n",
              "      <td>3</td>\n",
              "      <td>32.368090</td>\n",
              "      <td>1</td>\n",
              "      <td>1</td>\n",
              "      <td>0</td>\n",
              "      <td>1</td>\n",
              "    </tr>\n",
              "    <tr>\n",
              "      <th>271</th>\n",
              "      <td>3</td>\n",
              "      <td>25.000000</td>\n",
              "      <td>1</td>\n",
              "      <td>1</td>\n",
              "      <td>0</td>\n",
              "      <td>1</td>\n",
              "    </tr>\n",
              "    <tr>\n",
              "      <th>862</th>\n",
              "      <td>1</td>\n",
              "      <td>48.000000</td>\n",
              "      <td>1</td>\n",
              "      <td>0</td>\n",
              "      <td>0</td>\n",
              "      <td>1</td>\n",
              "    </tr>\n",
              "    <tr>\n",
              "      <th>436</th>\n",
              "      <td>3</td>\n",
              "      <td>21.000000</td>\n",
              "      <td>5</td>\n",
              "      <td>0</td>\n",
              "      <td>0</td>\n",
              "      <td>1</td>\n",
              "    </tr>\n",
              "    <tr>\n",
              "      <th>103</th>\n",
              "      <td>3</td>\n",
              "      <td>33.000000</td>\n",
              "      <td>1</td>\n",
              "      <td>1</td>\n",
              "      <td>0</td>\n",
              "      <td>1</td>\n",
              "    </tr>\n",
              "  </tbody>\n",
              "</table>\n",
              "<p>711 rows × 6 columns</p>\n",
              "</div>"
            ],
            "text/plain": [
              "     Pclass        Age  Family size  Sex_male  Embarked_Q  Embarked_S\n",
              "708       1  22.000000            1         0           0           1\n",
              "240       3  21.662069            2         0           0           0\n",
              "382       3  32.000000            1         1           0           1\n",
              "792       3  21.662069           11         0           0           1\n",
              "683       3  14.000000            8         1           0           1\n",
              "..      ...        ...          ...       ...         ...         ...\n",
              "107       3  32.368090            1         1           0           1\n",
              "271       3  25.000000            1         1           0           1\n",
              "862       1  48.000000            1         0           0           1\n",
              "436       3  21.000000            5         0           0           1\n",
              "103       3  33.000000            1         1           0           1\n",
              "\n",
              "[711 rows x 6 columns]"
            ]
          },
          "metadata": {},
          "execution_count": 37
        }
      ]
    },
    {
      "cell_type": "markdown",
      "metadata": {
        "id": "c3906c68"
      },
      "source": [
        "## Training a model"
      ],
      "id": "c3906c68"
    },
    {
      "cell_type": "code",
      "metadata": {
        "ExecuteTime": {
          "end_time": "2021-09-02T14:56:22.118188Z",
          "start_time": "2021-09-02T14:56:22.111353Z"
        },
        "id": "67f82a15"
      },
      "source": [
        "from sklearn.metrics import accuracy_score, classification_report, confusion_matrix\n",
        "from sklearn.ensemble import RandomForestClassifier\n",
        "from sklearn.model_selection import GridSearchCV, cross_val_score"
      ],
      "id": "67f82a15",
      "execution_count": null,
      "outputs": []
    },
    {
      "cell_type": "markdown",
      "metadata": {
        "id": "57ff58ec"
      },
      "source": [
        "### Random Forest(default parameters)"
      ],
      "id": "57ff58ec"
    },
    {
      "cell_type": "code",
      "metadata": {
        "ExecuteTime": {
          "end_time": "2021-09-02T14:53:02.706796Z",
          "start_time": "2021-09-02T14:53:02.521851Z"
        },
        "id": "ba642a04"
      },
      "source": [
        "classifier = RandomForestClassifier(random_state=42)\n",
        "classifier.fit(X_train, y_train)\n",
        "y_pred = classifier.predict(X_val)"
      ],
      "id": "ba642a04",
      "execution_count": null,
      "outputs": []
    },
    {
      "cell_type": "code",
      "metadata": {
        "ExecuteTime": {
          "end_time": "2021-09-02T14:53:04.708657Z",
          "start_time": "2021-09-02T14:53:04.703578Z"
        },
        "colab": {
          "base_uri": "https://localhost:8080/"
        },
        "id": "410155cd",
        "outputId": "45751fa0-a66b-4849-f032-67dcbd896ad3"
      },
      "source": [
        "print(accuracy_score(y_pred, y_val))"
      ],
      "id": "410155cd",
      "execution_count": null,
      "outputs": [
        {
          "output_type": "stream",
          "name": "stdout",
          "text": [
            "0.8202247191011236\n"
          ]
        }
      ]
    },
    {
      "cell_type": "code",
      "metadata": {
        "colab": {
          "base_uri": "https://localhost:8080/"
        },
        "id": "VSnNFjOeRydq",
        "outputId": "67d271c1-cd73-4111-c8f4-bf2ee966946e"
      },
      "source": [
        "classifier.get_params"
      ],
      "id": "VSnNFjOeRydq",
      "execution_count": null,
      "outputs": [
        {
          "output_type": "execute_result",
          "data": {
            "text/plain": [
              "<bound method BaseEstimator.get_params of RandomForestClassifier(bootstrap=True, ccp_alpha=0.0, class_weight=None,\n",
              "                       criterion='gini', max_depth=None, max_features='auto',\n",
              "                       max_leaf_nodes=None, max_samples=None,\n",
              "                       min_impurity_decrease=0.0, min_impurity_split=None,\n",
              "                       min_samples_leaf=1, min_samples_split=2,\n",
              "                       min_weight_fraction_leaf=0.0, n_estimators=100,\n",
              "                       n_jobs=None, oob_score=False, random_state=42, verbose=0,\n",
              "                       warm_start=False)>"
            ]
          },
          "metadata": {},
          "execution_count": 41
        }
      ]
    },
    {
      "cell_type": "markdown",
      "metadata": {
        "id": "197b9cbe"
      },
      "source": [
        "### Random Forest(optimized parameters)"
      ],
      "id": "197b9cbe"
    },
    {
      "cell_type": "code",
      "metadata": {
        "colab": {
          "base_uri": "https://localhost:8080/"
        },
        "id": "5a67732d",
        "outputId": "6ae08b40-9424-44c8-9356-f47539c8bb7e"
      },
      "source": [
        "n_estimators = [int(x) for x in np.linspace(start = 100, stop = 2000, num = 10)]\n",
        "\n",
        "max_features = ['auto', 'sqrt']\n",
        "\n",
        "max_depth = [int(x) for x in np.linspace(10, 110, num = 11)]\n",
        "max_depth.append(None)\n",
        "\n",
        "\n",
        "min_samples_split = [2, 5, 10]\n",
        "\n",
        "min_samples_leaf = [1, 2, 4]\n",
        "\n",
        "bootstrap = [True, False]\n",
        "\n",
        "criterion = ['gini', 'entropy']\n",
        "\n",
        "param_grid = {'n_estimators': n_estimators,\n",
        "               'max_features': max_features,\n",
        "               'max_depth': max_depth,\n",
        "               'min_samples_split': min_samples_split,\n",
        "               'min_samples_leaf': min_samples_leaf,\n",
        "               'bootstrap': bootstrap,\n",
        "               'criterion': criterion}\n",
        "param_grid"
      ],
      "id": "5a67732d",
      "execution_count": null,
      "outputs": [
        {
          "output_type": "execute_result",
          "data": {
            "text/plain": [
              "{'bootstrap': [True, False],\n",
              " 'criterion': ['gini', 'entropy'],\n",
              " 'max_depth': [10, 20, 30, 40, 50, 60, 70, 80, 90, 100, 110, None],\n",
              " 'max_features': ['auto', 'sqrt'],\n",
              " 'min_samples_leaf': [1, 2, 4],\n",
              " 'min_samples_split': [2, 5, 10],\n",
              " 'n_estimators': [100, 311, 522, 733, 944, 1155, 1366, 1577, 1788, 2000]}"
            ]
          },
          "metadata": {},
          "execution_count": 82
        }
      ]
    },
    {
      "cell_type": "code",
      "metadata": {
        "id": "74688d97"
      },
      "source": [
        "rf = RandomForestClassifier(random_state=42)\n",
        "\n",
        "grid = GridSearchCV(estimator = rf, param_grid=param_grid, cv = 3, n_jobs=-1)\n",
        "\n",
        "grid_result = grid.fit(X_train, y_train)"
      ],
      "id": "74688d97",
      "execution_count": null,
      "outputs": []
    },
    {
      "cell_type": "code",
      "metadata": {
        "colab": {
          "base_uri": "https://localhost:8080/"
        },
        "id": "c97bb670",
        "outputId": "91d3d519-ccc9-4aa2-9067-34702b06f5eb"
      },
      "source": [
        "grid_result.best_params_"
      ],
      "id": "c97bb670",
      "execution_count": null,
      "outputs": [
        {
          "output_type": "execute_result",
          "data": {
            "text/plain": [
              "{'max_depth': 10,\n",
              " 'max_features': 'auto',\n",
              " 'min_samples_leaf': 2,\n",
              " 'n_estimators': 944}"
            ]
          },
          "metadata": {},
          "execution_count": 50
        }
      ]
    },
    {
      "cell_type": "code",
      "metadata": {
        "colab": {
          "base_uri": "https://localhost:8080/"
        },
        "id": "3NsFcjpgTcOT",
        "outputId": "a7d20c06-0eff-4dfb-f05f-97c0ef574338"
      },
      "source": [
        "grid_result.best_estimator_"
      ],
      "id": "3NsFcjpgTcOT",
      "execution_count": null,
      "outputs": [
        {
          "output_type": "execute_result",
          "data": {
            "text/plain": [
              "RandomForestClassifier(bootstrap=True, ccp_alpha=0.0, class_weight=None,\n",
              "                       criterion='gini', max_depth=10, max_features='auto',\n",
              "                       max_leaf_nodes=None, max_samples=None,\n",
              "                       min_impurity_decrease=0.0, min_impurity_split=None,\n",
              "                       min_samples_leaf=2, min_samples_split=2,\n",
              "                       min_weight_fraction_leaf=0.0, n_estimators=944,\n",
              "                       n_jobs=None, oob_score=False, random_state=42, verbose=0,\n",
              "                       warm_start=False)"
            ]
          },
          "metadata": {},
          "execution_count": 53
        }
      ]
    },
    {
      "cell_type": "markdown",
      "metadata": {
        "id": "TnmXUA5ZFqrA"
      },
      "source": [
        "## Preprocessing the test set"
      ],
      "id": "TnmXUA5ZFqrA"
    },
    {
      "cell_type": "code",
      "metadata": {
        "id": "QoA5dlbQT3HE"
      },
      "source": [
        "X_test = preprocessor(X_test)"
      ],
      "id": "QoA5dlbQT3HE",
      "execution_count": null,
      "outputs": []
    },
    {
      "cell_type": "code",
      "metadata": {
        "colab": {
          "base_uri": "https://localhost:8080/",
          "height": 414
        },
        "id": "5yPn8UNwHPrB",
        "outputId": "ea93c2cf-a18d-41a1-b573-6def4f4861a6"
      },
      "source": [
        "X_test"
      ],
      "id": "5yPn8UNwHPrB",
      "execution_count": null,
      "outputs": [
        {
          "output_type": "execute_result",
          "data": {
            "text/html": [
              "<div>\n",
              "<style scoped>\n",
              "    .dataframe tbody tr th:only-of-type {\n",
              "        vertical-align: middle;\n",
              "    }\n",
              "\n",
              "    .dataframe tbody tr th {\n",
              "        vertical-align: top;\n",
              "    }\n",
              "\n",
              "    .dataframe thead th {\n",
              "        text-align: right;\n",
              "    }\n",
              "</style>\n",
              "<table border=\"1\" class=\"dataframe\">\n",
              "  <thead>\n",
              "    <tr style=\"text-align: right;\">\n",
              "      <th></th>\n",
              "      <th>Pclass</th>\n",
              "      <th>Sex</th>\n",
              "      <th>Age</th>\n",
              "      <th>Fare</th>\n",
              "      <th>Embarked</th>\n",
              "      <th>Title</th>\n",
              "      <th>Family size</th>\n",
              "    </tr>\n",
              "  </thead>\n",
              "  <tbody>\n",
              "    <tr>\n",
              "      <th>0</th>\n",
              "      <td>3</td>\n",
              "      <td>male</td>\n",
              "      <td>34.5</td>\n",
              "      <td>7.8292</td>\n",
              "      <td>Q</td>\n",
              "      <td>Mr</td>\n",
              "      <td>1</td>\n",
              "    </tr>\n",
              "    <tr>\n",
              "      <th>1</th>\n",
              "      <td>3</td>\n",
              "      <td>female</td>\n",
              "      <td>47.0</td>\n",
              "      <td>7.0000</td>\n",
              "      <td>S</td>\n",
              "      <td>Mrs</td>\n",
              "      <td>2</td>\n",
              "    </tr>\n",
              "    <tr>\n",
              "      <th>2</th>\n",
              "      <td>2</td>\n",
              "      <td>male</td>\n",
              "      <td>62.0</td>\n",
              "      <td>9.6875</td>\n",
              "      <td>Q</td>\n",
              "      <td>Mr</td>\n",
              "      <td>1</td>\n",
              "    </tr>\n",
              "    <tr>\n",
              "      <th>3</th>\n",
              "      <td>3</td>\n",
              "      <td>male</td>\n",
              "      <td>27.0</td>\n",
              "      <td>8.6625</td>\n",
              "      <td>S</td>\n",
              "      <td>Mr</td>\n",
              "      <td>1</td>\n",
              "    </tr>\n",
              "    <tr>\n",
              "      <th>4</th>\n",
              "      <td>3</td>\n",
              "      <td>female</td>\n",
              "      <td>22.0</td>\n",
              "      <td>12.2875</td>\n",
              "      <td>S</td>\n",
              "      <td>Mrs</td>\n",
              "      <td>3</td>\n",
              "    </tr>\n",
              "    <tr>\n",
              "      <th>...</th>\n",
              "      <td>...</td>\n",
              "      <td>...</td>\n",
              "      <td>...</td>\n",
              "      <td>...</td>\n",
              "      <td>...</td>\n",
              "      <td>...</td>\n",
              "      <td>...</td>\n",
              "    </tr>\n",
              "    <tr>\n",
              "      <th>413</th>\n",
              "      <td>3</td>\n",
              "      <td>male</td>\n",
              "      <td>NaN</td>\n",
              "      <td>8.0500</td>\n",
              "      <td>S</td>\n",
              "      <td>Mr</td>\n",
              "      <td>1</td>\n",
              "    </tr>\n",
              "    <tr>\n",
              "      <th>414</th>\n",
              "      <td>1</td>\n",
              "      <td>female</td>\n",
              "      <td>39.0</td>\n",
              "      <td>108.9000</td>\n",
              "      <td>C</td>\n",
              "      <td>Dona</td>\n",
              "      <td>1</td>\n",
              "    </tr>\n",
              "    <tr>\n",
              "      <th>415</th>\n",
              "      <td>3</td>\n",
              "      <td>male</td>\n",
              "      <td>38.5</td>\n",
              "      <td>7.2500</td>\n",
              "      <td>S</td>\n",
              "      <td>Mr</td>\n",
              "      <td>1</td>\n",
              "    </tr>\n",
              "    <tr>\n",
              "      <th>416</th>\n",
              "      <td>3</td>\n",
              "      <td>male</td>\n",
              "      <td>NaN</td>\n",
              "      <td>8.0500</td>\n",
              "      <td>S</td>\n",
              "      <td>Mr</td>\n",
              "      <td>1</td>\n",
              "    </tr>\n",
              "    <tr>\n",
              "      <th>417</th>\n",
              "      <td>3</td>\n",
              "      <td>male</td>\n",
              "      <td>NaN</td>\n",
              "      <td>22.3583</td>\n",
              "      <td>C</td>\n",
              "      <td>Master</td>\n",
              "      <td>3</td>\n",
              "    </tr>\n",
              "  </tbody>\n",
              "</table>\n",
              "<p>418 rows × 7 columns</p>\n",
              "</div>"
            ],
            "text/plain": [
              "     Pclass     Sex   Age      Fare Embarked   Title  Family size\n",
              "0         3    male  34.5    7.8292        Q      Mr            1\n",
              "1         3  female  47.0    7.0000        S     Mrs            2\n",
              "2         2    male  62.0    9.6875        Q      Mr            1\n",
              "3         3    male  27.0    8.6625        S      Mr            1\n",
              "4         3  female  22.0   12.2875        S     Mrs            3\n",
              "..      ...     ...   ...       ...      ...     ...          ...\n",
              "413       3    male   NaN    8.0500        S      Mr            1\n",
              "414       1  female  39.0  108.9000        C    Dona            1\n",
              "415       3    male  38.5    7.2500        S      Mr            1\n",
              "416       3    male   NaN    8.0500        S      Mr            1\n",
              "417       3    male   NaN   22.3583        C  Master            3\n",
              "\n",
              "[418 rows x 7 columns]"
            ]
          },
          "metadata": {},
          "execution_count": 61
        }
      ]
    },
    {
      "cell_type": "code",
      "metadata": {
        "colab": {
          "base_uri": "https://localhost:8080/"
        },
        "id": "SdWiv-inHkmi",
        "outputId": "6f7c6917-24f1-487b-f5ad-9b9d477341ee"
      },
      "source": [
        "X_test.isna().sum()"
      ],
      "id": "SdWiv-inHkmi",
      "execution_count": null,
      "outputs": [
        {
          "output_type": "execute_result",
          "data": {
            "text/plain": [
              "Pclass          0\n",
              "Sex             0\n",
              "Age            86\n",
              "Fare            1\n",
              "Embarked        0\n",
              "Title           0\n",
              "Family size     0\n",
              "dtype: int64"
            ]
          },
          "metadata": {},
          "execution_count": 63
        }
      ]
    },
    {
      "cell_type": "code",
      "metadata": {
        "id": "Vwe409kAHA4r"
      },
      "source": [
        "X_test.drop(['Fare'], axis=1, inplace=True)"
      ],
      "id": "Vwe409kAHA4r",
      "execution_count": null,
      "outputs": []
    },
    {
      "cell_type": "code",
      "metadata": {
        "ExecuteTime": {
          "end_time": "2021-09-02T14:50:28.192510Z",
          "start_time": "2021-09-02T14:50:28.173755Z"
        },
        "colab": {
          "base_uri": "https://localhost:8080/"
        },
        "id": "IdShwLTvIXWy",
        "outputId": "2b315535-1ddd-498e-8ea3-b9d58344be98"
      },
      "source": [
        "title_age = X_test.groupby(\n",
        "    'Title')['Age'].mean()\n",
        "\n",
        "title_age = title_age.to_dict()\n",
        "title_age"
      ],
      "id": "IdShwLTvIXWy",
      "execution_count": null,
      "outputs": [
        {
          "output_type": "execute_result",
          "data": {
            "text/plain": [
              "{'Col': 50.0,\n",
              " 'Dona': 39.0,\n",
              " 'Dr': 53.0,\n",
              " 'Master': 7.406470588235294,\n",
              " 'Miss': 21.774843750000002,\n",
              " 'Mr': 32.0,\n",
              " 'Mrs': 38.903225806451616,\n",
              " 'Ms': nan,\n",
              " 'Rev': 35.5}"
            ]
          },
          "metadata": {},
          "execution_count": 65
        }
      ]
    },
    {
      "cell_type": "code",
      "metadata": {
        "id": "lI1lg7pyI0a7"
      },
      "source": [
        "title_age['Ms'] = 28"
      ],
      "id": "lI1lg7pyI0a7",
      "execution_count": null,
      "outputs": []
    },
    {
      "cell_type": "code",
      "metadata": {
        "ExecuteTime": {
          "end_time": "2021-09-02T14:50:28.601056Z",
          "start_time": "2021-09-02T14:50:28.504537Z"
        },
        "id": "doqAVsIiIXW0"
      },
      "source": [
        "indexes = X_test.loc[X_test['Age'].isna()].index\n",
        "\n",
        "for index in indexes:\n",
        "    for key in title_age.keys():\n",
        "        if X_test['Title'][index] == key:\n",
        "            X_test['Age'][index] = title_age[key]"
      ],
      "id": "doqAVsIiIXW0",
      "execution_count": null,
      "outputs": []
    },
    {
      "cell_type": "code",
      "metadata": {
        "ExecuteTime": {
          "end_time": "2021-09-02T14:50:29.744830Z",
          "start_time": "2021-09-02T14:50:29.733482Z"
        },
        "id": "HswQHqjgJH6q"
      },
      "source": [
        "X_test.drop('Title', axis=1, inplace=True)"
      ],
      "id": "HswQHqjgJH6q",
      "execution_count": null,
      "outputs": []
    },
    {
      "cell_type": "code",
      "metadata": {
        "ExecuteTime": {
          "end_time": "2021-09-02T14:50:50.062166Z",
          "start_time": "2021-09-02T14:50:50.041696Z"
        },
        "colab": {
          "base_uri": "https://localhost:8080/",
          "height": 414
        },
        "id": "J_qOybbuJH6r",
        "outputId": "166b03fe-31fe-46fa-e36a-c0f09a4d4d19"
      },
      "source": [
        "X_test = pd.get_dummies(X_test, drop_first=True)\n",
        "X_test"
      ],
      "id": "J_qOybbuJH6r",
      "execution_count": null,
      "outputs": [
        {
          "output_type": "execute_result",
          "data": {
            "text/html": [
              "<div>\n",
              "<style scoped>\n",
              "    .dataframe tbody tr th:only-of-type {\n",
              "        vertical-align: middle;\n",
              "    }\n",
              "\n",
              "    .dataframe tbody tr th {\n",
              "        vertical-align: top;\n",
              "    }\n",
              "\n",
              "    .dataframe thead th {\n",
              "        text-align: right;\n",
              "    }\n",
              "</style>\n",
              "<table border=\"1\" class=\"dataframe\">\n",
              "  <thead>\n",
              "    <tr style=\"text-align: right;\">\n",
              "      <th></th>\n",
              "      <th>Pclass</th>\n",
              "      <th>Age</th>\n",
              "      <th>Family size</th>\n",
              "      <th>Sex_male</th>\n",
              "      <th>Embarked_Q</th>\n",
              "      <th>Embarked_S</th>\n",
              "    </tr>\n",
              "  </thead>\n",
              "  <tbody>\n",
              "    <tr>\n",
              "      <th>0</th>\n",
              "      <td>3</td>\n",
              "      <td>34.500000</td>\n",
              "      <td>1</td>\n",
              "      <td>1</td>\n",
              "      <td>1</td>\n",
              "      <td>0</td>\n",
              "    </tr>\n",
              "    <tr>\n",
              "      <th>1</th>\n",
              "      <td>3</td>\n",
              "      <td>47.000000</td>\n",
              "      <td>2</td>\n",
              "      <td>0</td>\n",
              "      <td>0</td>\n",
              "      <td>1</td>\n",
              "    </tr>\n",
              "    <tr>\n",
              "      <th>2</th>\n",
              "      <td>2</td>\n",
              "      <td>62.000000</td>\n",
              "      <td>1</td>\n",
              "      <td>1</td>\n",
              "      <td>1</td>\n",
              "      <td>0</td>\n",
              "    </tr>\n",
              "    <tr>\n",
              "      <th>3</th>\n",
              "      <td>3</td>\n",
              "      <td>27.000000</td>\n",
              "      <td>1</td>\n",
              "      <td>1</td>\n",
              "      <td>0</td>\n",
              "      <td>1</td>\n",
              "    </tr>\n",
              "    <tr>\n",
              "      <th>4</th>\n",
              "      <td>3</td>\n",
              "      <td>22.000000</td>\n",
              "      <td>3</td>\n",
              "      <td>0</td>\n",
              "      <td>0</td>\n",
              "      <td>1</td>\n",
              "    </tr>\n",
              "    <tr>\n",
              "      <th>...</th>\n",
              "      <td>...</td>\n",
              "      <td>...</td>\n",
              "      <td>...</td>\n",
              "      <td>...</td>\n",
              "      <td>...</td>\n",
              "      <td>...</td>\n",
              "    </tr>\n",
              "    <tr>\n",
              "      <th>413</th>\n",
              "      <td>3</td>\n",
              "      <td>32.000000</td>\n",
              "      <td>1</td>\n",
              "      <td>1</td>\n",
              "      <td>0</td>\n",
              "      <td>1</td>\n",
              "    </tr>\n",
              "    <tr>\n",
              "      <th>414</th>\n",
              "      <td>1</td>\n",
              "      <td>39.000000</td>\n",
              "      <td>1</td>\n",
              "      <td>0</td>\n",
              "      <td>0</td>\n",
              "      <td>0</td>\n",
              "    </tr>\n",
              "    <tr>\n",
              "      <th>415</th>\n",
              "      <td>3</td>\n",
              "      <td>38.500000</td>\n",
              "      <td>1</td>\n",
              "      <td>1</td>\n",
              "      <td>0</td>\n",
              "      <td>1</td>\n",
              "    </tr>\n",
              "    <tr>\n",
              "      <th>416</th>\n",
              "      <td>3</td>\n",
              "      <td>32.000000</td>\n",
              "      <td>1</td>\n",
              "      <td>1</td>\n",
              "      <td>0</td>\n",
              "      <td>1</td>\n",
              "    </tr>\n",
              "    <tr>\n",
              "      <th>417</th>\n",
              "      <td>3</td>\n",
              "      <td>7.406471</td>\n",
              "      <td>3</td>\n",
              "      <td>1</td>\n",
              "      <td>0</td>\n",
              "      <td>0</td>\n",
              "    </tr>\n",
              "  </tbody>\n",
              "</table>\n",
              "<p>418 rows × 6 columns</p>\n",
              "</div>"
            ],
            "text/plain": [
              "     Pclass        Age  Family size  Sex_male  Embarked_Q  Embarked_S\n",
              "0         3  34.500000            1         1           1           0\n",
              "1         3  47.000000            2         0           0           1\n",
              "2         2  62.000000            1         1           1           0\n",
              "3         3  27.000000            1         1           0           1\n",
              "4         3  22.000000            3         0           0           1\n",
              "..      ...        ...          ...       ...         ...         ...\n",
              "413       3  32.000000            1         1           0           1\n",
              "414       1  39.000000            1         0           0           0\n",
              "415       3  38.500000            1         1           0           1\n",
              "416       3  32.000000            1         1           0           1\n",
              "417       3   7.406471            3         1           0           0\n",
              "\n",
              "[418 rows x 6 columns]"
            ]
          },
          "metadata": {},
          "execution_count": 71
        }
      ]
    },
    {
      "cell_type": "markdown",
      "metadata": {
        "id": "6aDeNrkrJUrt"
      },
      "source": [
        "### Predicting the test set"
      ],
      "id": "6aDeNrkrJUrt"
    },
    {
      "cell_type": "code",
      "metadata": {
        "id": "51ACOZgfJaZ5"
      },
      "source": [
        "y_pred = grid_result.predict(X_test)"
      ],
      "id": "51ACOZgfJaZ5",
      "execution_count": null,
      "outputs": []
    },
    {
      "cell_type": "code",
      "metadata": {
        "id": "NurxFARuKfd5"
      },
      "source": [
        "y_pred = pd.DataFrame(y_pred)"
      ],
      "id": "NurxFARuKfd5",
      "execution_count": null,
      "outputs": []
    },
    {
      "cell_type": "code",
      "metadata": {
        "ExecuteTime": {
          "end_time": "2021-08-27T13:08:38.107274Z",
          "start_time": "2021-08-27T13:08:38.034688Z"
        },
        "id": "86d60ace"
      },
      "source": [
        "submission = pd.DataFrame(submission)"
      ],
      "id": "86d60ace",
      "execution_count": null,
      "outputs": []
    },
    {
      "cell_type": "code",
      "metadata": {
        "id": "VRLLquxXKaUb"
      },
      "source": [
        "submission['Survived'] = y_pred"
      ],
      "id": "VRLLquxXKaUb",
      "execution_count": null,
      "outputs": []
    },
    {
      "cell_type": "code",
      "metadata": {
        "id": "8e3LkRc6KlRY"
      },
      "source": [
        "submission.to_csv('submission.csv', index=False)"
      ],
      "id": "8e3LkRc6KlRY",
      "execution_count": null,
      "outputs": []
    }
  ]
}