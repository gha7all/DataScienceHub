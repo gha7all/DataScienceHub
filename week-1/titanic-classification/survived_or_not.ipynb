{
 "cells": [
  {
   "cell_type": "code",
   "execution_count": 432,
   "id": "39d26cc3",
   "metadata": {
    "ExecuteTime": {
     "end_time": "2021-09-04T18:02:58.298809Z",
     "start_time": "2021-09-04T18:02:58.292082Z"
    },
    "id": "39d26cc3"
   },
   "outputs": [],
   "source": [
    "import pandas as pd\n",
    "import numpy as np\n",
    "import seaborn as sns\n",
    "from matplotlib import pyplot as plt\n",
    "from warnings import filterwarnings\n",
    "from sklearn.model_selection import train_test_split\n",
    "from sklearn.preprocessing import OneHotEncoder\n",
    "from scipy import stats\n",
    "from warnings import filterwarnings"
   ]
  },
  {
   "cell_type": "code",
   "execution_count": 433,
   "id": "f63caa2c",
   "metadata": {
    "ExecuteTime": {
     "end_time": "2021-09-04T18:02:59.530091Z",
     "start_time": "2021-09-04T18:02:59.524543Z"
    },
    "id": "f63caa2c"
   },
   "outputs": [],
   "source": [
    "pd.options.mode.chained_assignment = None\n",
    "filterwarnings(action='ignore')"
   ]
  },
  {
   "cell_type": "markdown",
   "id": "c80a780a",
   "metadata": {
    "id": "c80a780a"
   },
   "source": [
    "## Loading datasets"
   ]
  },
  {
   "cell_type": "code",
   "execution_count": 434,
   "id": "3b78f0dc",
   "metadata": {
    "ExecuteTime": {
     "end_time": "2021-09-04T18:03:00.206273Z",
     "start_time": "2021-09-04T18:03:00.182838Z"
    },
    "id": "3b78f0dc"
   },
   "outputs": [],
   "source": [
    "train_df = pd.read_csv('dataset/train.csv')\n",
    "X_test = pd.read_csv('dataset/test.csv')"
   ]
  },
  {
   "cell_type": "code",
   "execution_count": 436,
   "id": "2441223d",
   "metadata": {
    "ExecuteTime": {
     "end_time": "2021-09-04T18:03:01.286094Z",
     "start_time": "2021-09-04T18:03:01.266585Z"
    },
    "colab": {
     "base_uri": "https://localhost:8080/",
     "height": 202
    },
    "id": "2441223d",
    "outputId": "2fee7f22-1b2e-436d-e0ed-cab41a713407"
   },
   "outputs": [
    {
     "data": {
      "text/html": [
       "<div>\n",
       "<style scoped>\n",
       "    .dataframe tbody tr th:only-of-type {\n",
       "        vertical-align: middle;\n",
       "    }\n",
       "\n",
       "    .dataframe tbody tr th {\n",
       "        vertical-align: top;\n",
       "    }\n",
       "\n",
       "    .dataframe thead th {\n",
       "        text-align: right;\n",
       "    }\n",
       "</style>\n",
       "<table border=\"1\" class=\"dataframe\">\n",
       "  <thead>\n",
       "    <tr style=\"text-align: right;\">\n",
       "      <th></th>\n",
       "      <th>PassengerId</th>\n",
       "      <th>Survived</th>\n",
       "      <th>Pclass</th>\n",
       "      <th>Name</th>\n",
       "      <th>Sex</th>\n",
       "      <th>Age</th>\n",
       "      <th>SibSp</th>\n",
       "      <th>Parch</th>\n",
       "      <th>Ticket</th>\n",
       "      <th>Fare</th>\n",
       "      <th>Cabin</th>\n",
       "      <th>Embarked</th>\n",
       "    </tr>\n",
       "  </thead>\n",
       "  <tbody>\n",
       "    <tr>\n",
       "      <th>0</th>\n",
       "      <td>1</td>\n",
       "      <td>0</td>\n",
       "      <td>3</td>\n",
       "      <td>Braund, Mr. Owen Harris</td>\n",
       "      <td>male</td>\n",
       "      <td>22.0</td>\n",
       "      <td>1</td>\n",
       "      <td>0</td>\n",
       "      <td>A/5 21171</td>\n",
       "      <td>7.2500</td>\n",
       "      <td>NaN</td>\n",
       "      <td>S</td>\n",
       "    </tr>\n",
       "    <tr>\n",
       "      <th>1</th>\n",
       "      <td>2</td>\n",
       "      <td>1</td>\n",
       "      <td>1</td>\n",
       "      <td>Cumings, Mrs. John Bradley (Florence Briggs Th...</td>\n",
       "      <td>female</td>\n",
       "      <td>38.0</td>\n",
       "      <td>1</td>\n",
       "      <td>0</td>\n",
       "      <td>PC 17599</td>\n",
       "      <td>71.2833</td>\n",
       "      <td>C85</td>\n",
       "      <td>C</td>\n",
       "    </tr>\n",
       "    <tr>\n",
       "      <th>2</th>\n",
       "      <td>3</td>\n",
       "      <td>1</td>\n",
       "      <td>3</td>\n",
       "      <td>Heikkinen, Miss. Laina</td>\n",
       "      <td>female</td>\n",
       "      <td>26.0</td>\n",
       "      <td>0</td>\n",
       "      <td>0</td>\n",
       "      <td>STON/O2. 3101282</td>\n",
       "      <td>7.9250</td>\n",
       "      <td>NaN</td>\n",
       "      <td>S</td>\n",
       "    </tr>\n",
       "    <tr>\n",
       "      <th>3</th>\n",
       "      <td>4</td>\n",
       "      <td>1</td>\n",
       "      <td>1</td>\n",
       "      <td>Futrelle, Mrs. Jacques Heath (Lily May Peel)</td>\n",
       "      <td>female</td>\n",
       "      <td>35.0</td>\n",
       "      <td>1</td>\n",
       "      <td>0</td>\n",
       "      <td>113803</td>\n",
       "      <td>53.1000</td>\n",
       "      <td>C123</td>\n",
       "      <td>S</td>\n",
       "    </tr>\n",
       "    <tr>\n",
       "      <th>4</th>\n",
       "      <td>5</td>\n",
       "      <td>0</td>\n",
       "      <td>3</td>\n",
       "      <td>Allen, Mr. William Henry</td>\n",
       "      <td>male</td>\n",
       "      <td>35.0</td>\n",
       "      <td>0</td>\n",
       "      <td>0</td>\n",
       "      <td>373450</td>\n",
       "      <td>8.0500</td>\n",
       "      <td>NaN</td>\n",
       "      <td>S</td>\n",
       "    </tr>\n",
       "  </tbody>\n",
       "</table>\n",
       "</div>"
      ],
      "text/plain": [
       "   PassengerId  Survived  Pclass  \\\n",
       "0            1         0       3   \n",
       "1            2         1       1   \n",
       "2            3         1       3   \n",
       "3            4         1       1   \n",
       "4            5         0       3   \n",
       "\n",
       "                                                Name     Sex   Age  SibSp  \\\n",
       "0                            Braund, Mr. Owen Harris    male  22.0      1   \n",
       "1  Cumings, Mrs. John Bradley (Florence Briggs Th...  female  38.0      1   \n",
       "2                             Heikkinen, Miss. Laina  female  26.0      0   \n",
       "3       Futrelle, Mrs. Jacques Heath (Lily May Peel)  female  35.0      1   \n",
       "4                           Allen, Mr. William Henry    male  35.0      0   \n",
       "\n",
       "   Parch            Ticket     Fare Cabin Embarked  \n",
       "0      0         A/5 21171   7.2500   NaN        S  \n",
       "1      0          PC 17599  71.2833   C85        C  \n",
       "2      0  STON/O2. 3101282   7.9250   NaN        S  \n",
       "3      0            113803  53.1000  C123        S  \n",
       "4      0            373450   8.0500   NaN        S  "
      ]
     },
     "execution_count": 436,
     "metadata": {},
     "output_type": "execute_result"
    }
   ],
   "source": [
    "train_df.head()"
   ]
  },
  {
   "cell_type": "code",
   "execution_count": 437,
   "id": "28e3d2db",
   "metadata": {
    "ExecuteTime": {
     "end_time": "2021-09-04T18:03:01.546711Z",
     "start_time": "2021-09-04T18:03:01.532178Z"
    },
    "colab": {
     "base_uri": "https://localhost:8080/"
    },
    "id": "28e3d2db",
    "outputId": "8482e6e4-a1df-4077-b7e7-5e1133a99ff7"
   },
   "outputs": [
    {
     "name": "stdout",
     "output_type": "stream",
     "text": [
      "<class 'pandas.core.frame.DataFrame'>\n",
      "RangeIndex: 891 entries, 0 to 890\n",
      "Data columns (total 12 columns):\n",
      " #   Column       Non-Null Count  Dtype  \n",
      "---  ------       --------------  -----  \n",
      " 0   PassengerId  891 non-null    int64  \n",
      " 1   Survived     891 non-null    int64  \n",
      " 2   Pclass       891 non-null    int64  \n",
      " 3   Name         891 non-null    object \n",
      " 4   Sex          891 non-null    object \n",
      " 5   Age          714 non-null    float64\n",
      " 6   SibSp        891 non-null    int64  \n",
      " 7   Parch        891 non-null    int64  \n",
      " 8   Ticket       891 non-null    object \n",
      " 9   Fare         891 non-null    float64\n",
      " 10  Cabin        204 non-null    object \n",
      " 11  Embarked     889 non-null    object \n",
      "dtypes: float64(2), int64(5), object(5)\n",
      "memory usage: 83.7+ KB\n"
     ]
    }
   ],
   "source": [
    "train_df.info()"
   ]
  },
  {
   "cell_type": "code",
   "execution_count": 438,
   "id": "f36e8dad",
   "metadata": {
    "ExecuteTime": {
     "end_time": "2021-09-04T18:03:01.801692Z",
     "start_time": "2021-09-04T18:03:01.757901Z"
    },
    "colab": {
     "base_uri": "https://localhost:8080/",
     "height": 294
    },
    "id": "f36e8dad",
    "outputId": "bb77d463-c94b-4c87-b417-f65ec81ec446"
   },
   "outputs": [
    {
     "data": {
      "text/html": [
       "<div>\n",
       "<style scoped>\n",
       "    .dataframe tbody tr th:only-of-type {\n",
       "        vertical-align: middle;\n",
       "    }\n",
       "\n",
       "    .dataframe tbody tr th {\n",
       "        vertical-align: top;\n",
       "    }\n",
       "\n",
       "    .dataframe thead th {\n",
       "        text-align: right;\n",
       "    }\n",
       "</style>\n",
       "<table border=\"1\" class=\"dataframe\">\n",
       "  <thead>\n",
       "    <tr style=\"text-align: right;\">\n",
       "      <th></th>\n",
       "      <th>PassengerId</th>\n",
       "      <th>Survived</th>\n",
       "      <th>Pclass</th>\n",
       "      <th>Age</th>\n",
       "      <th>SibSp</th>\n",
       "      <th>Parch</th>\n",
       "      <th>Fare</th>\n",
       "    </tr>\n",
       "  </thead>\n",
       "  <tbody>\n",
       "    <tr>\n",
       "      <th>count</th>\n",
       "      <td>891.000000</td>\n",
       "      <td>891.000000</td>\n",
       "      <td>891.000000</td>\n",
       "      <td>714.000000</td>\n",
       "      <td>891.000000</td>\n",
       "      <td>891.000000</td>\n",
       "      <td>891.000000</td>\n",
       "    </tr>\n",
       "    <tr>\n",
       "      <th>mean</th>\n",
       "      <td>446.000000</td>\n",
       "      <td>0.383838</td>\n",
       "      <td>2.308642</td>\n",
       "      <td>29.699118</td>\n",
       "      <td>0.523008</td>\n",
       "      <td>0.381594</td>\n",
       "      <td>32.204208</td>\n",
       "    </tr>\n",
       "    <tr>\n",
       "      <th>std</th>\n",
       "      <td>257.353842</td>\n",
       "      <td>0.486592</td>\n",
       "      <td>0.836071</td>\n",
       "      <td>14.526497</td>\n",
       "      <td>1.102743</td>\n",
       "      <td>0.806057</td>\n",
       "      <td>49.693429</td>\n",
       "    </tr>\n",
       "    <tr>\n",
       "      <th>min</th>\n",
       "      <td>1.000000</td>\n",
       "      <td>0.000000</td>\n",
       "      <td>1.000000</td>\n",
       "      <td>0.420000</td>\n",
       "      <td>0.000000</td>\n",
       "      <td>0.000000</td>\n",
       "      <td>0.000000</td>\n",
       "    </tr>\n",
       "    <tr>\n",
       "      <th>25%</th>\n",
       "      <td>223.500000</td>\n",
       "      <td>0.000000</td>\n",
       "      <td>2.000000</td>\n",
       "      <td>20.125000</td>\n",
       "      <td>0.000000</td>\n",
       "      <td>0.000000</td>\n",
       "      <td>7.910400</td>\n",
       "    </tr>\n",
       "    <tr>\n",
       "      <th>50%</th>\n",
       "      <td>446.000000</td>\n",
       "      <td>0.000000</td>\n",
       "      <td>3.000000</td>\n",
       "      <td>28.000000</td>\n",
       "      <td>0.000000</td>\n",
       "      <td>0.000000</td>\n",
       "      <td>14.454200</td>\n",
       "    </tr>\n",
       "    <tr>\n",
       "      <th>75%</th>\n",
       "      <td>668.500000</td>\n",
       "      <td>1.000000</td>\n",
       "      <td>3.000000</td>\n",
       "      <td>38.000000</td>\n",
       "      <td>1.000000</td>\n",
       "      <td>0.000000</td>\n",
       "      <td>31.000000</td>\n",
       "    </tr>\n",
       "    <tr>\n",
       "      <th>max</th>\n",
       "      <td>891.000000</td>\n",
       "      <td>1.000000</td>\n",
       "      <td>3.000000</td>\n",
       "      <td>80.000000</td>\n",
       "      <td>8.000000</td>\n",
       "      <td>6.000000</td>\n",
       "      <td>512.329200</td>\n",
       "    </tr>\n",
       "  </tbody>\n",
       "</table>\n",
       "</div>"
      ],
      "text/plain": [
       "       PassengerId    Survived      Pclass         Age       SibSp  \\\n",
       "count   891.000000  891.000000  891.000000  714.000000  891.000000   \n",
       "mean    446.000000    0.383838    2.308642   29.699118    0.523008   \n",
       "std     257.353842    0.486592    0.836071   14.526497    1.102743   \n",
       "min       1.000000    0.000000    1.000000    0.420000    0.000000   \n",
       "25%     223.500000    0.000000    2.000000   20.125000    0.000000   \n",
       "50%     446.000000    0.000000    3.000000   28.000000    0.000000   \n",
       "75%     668.500000    1.000000    3.000000   38.000000    1.000000   \n",
       "max     891.000000    1.000000    3.000000   80.000000    8.000000   \n",
       "\n",
       "            Parch        Fare  \n",
       "count  891.000000  891.000000  \n",
       "mean     0.381594   32.204208  \n",
       "std      0.806057   49.693429  \n",
       "min      0.000000    0.000000  \n",
       "25%      0.000000    7.910400  \n",
       "50%      0.000000   14.454200  \n",
       "75%      0.000000   31.000000  \n",
       "max      6.000000  512.329200  "
      ]
     },
     "execution_count": 438,
     "metadata": {},
     "output_type": "execute_result"
    }
   ],
   "source": [
    "train_df.describe()"
   ]
  },
  {
   "cell_type": "code",
   "execution_count": 439,
   "id": "6cb65b73",
   "metadata": {
    "ExecuteTime": {
     "end_time": "2021-09-04T18:03:02.085734Z",
     "start_time": "2021-09-04T18:03:02.031567Z"
    },
    "colab": {
     "base_uri": "https://localhost:8080/",
     "height": 416
    },
    "id": "6cb65b73",
    "outputId": "afdbd3b7-c522-4954-cc7c-6d0b5db94e89"
   },
   "outputs": [
    {
     "data": {
      "text/html": [
       "<div>\n",
       "<style scoped>\n",
       "    .dataframe tbody tr th:only-of-type {\n",
       "        vertical-align: middle;\n",
       "    }\n",
       "\n",
       "    .dataframe tbody tr th {\n",
       "        vertical-align: top;\n",
       "    }\n",
       "\n",
       "    .dataframe thead th {\n",
       "        text-align: right;\n",
       "    }\n",
       "</style>\n",
       "<table border=\"1\" class=\"dataframe\">\n",
       "  <thead>\n",
       "    <tr style=\"text-align: right;\">\n",
       "      <th></th>\n",
       "      <th>num of missed</th>\n",
       "      <th>percent</th>\n",
       "    </tr>\n",
       "  </thead>\n",
       "  <tbody>\n",
       "    <tr>\n",
       "      <th>Cabin</th>\n",
       "      <td>687</td>\n",
       "      <td>0.771044</td>\n",
       "    </tr>\n",
       "    <tr>\n",
       "      <th>Age</th>\n",
       "      <td>177</td>\n",
       "      <td>0.198653</td>\n",
       "    </tr>\n",
       "    <tr>\n",
       "      <th>Embarked</th>\n",
       "      <td>2</td>\n",
       "      <td>0.002245</td>\n",
       "    </tr>\n",
       "    <tr>\n",
       "      <th>PassengerId</th>\n",
       "      <td>0</td>\n",
       "      <td>0.000000</td>\n",
       "    </tr>\n",
       "    <tr>\n",
       "      <th>Survived</th>\n",
       "      <td>0</td>\n",
       "      <td>0.000000</td>\n",
       "    </tr>\n",
       "    <tr>\n",
       "      <th>Pclass</th>\n",
       "      <td>0</td>\n",
       "      <td>0.000000</td>\n",
       "    </tr>\n",
       "    <tr>\n",
       "      <th>Name</th>\n",
       "      <td>0</td>\n",
       "      <td>0.000000</td>\n",
       "    </tr>\n",
       "    <tr>\n",
       "      <th>Sex</th>\n",
       "      <td>0</td>\n",
       "      <td>0.000000</td>\n",
       "    </tr>\n",
       "    <tr>\n",
       "      <th>SibSp</th>\n",
       "      <td>0</td>\n",
       "      <td>0.000000</td>\n",
       "    </tr>\n",
       "    <tr>\n",
       "      <th>Parch</th>\n",
       "      <td>0</td>\n",
       "      <td>0.000000</td>\n",
       "    </tr>\n",
       "    <tr>\n",
       "      <th>Ticket</th>\n",
       "      <td>0</td>\n",
       "      <td>0.000000</td>\n",
       "    </tr>\n",
       "    <tr>\n",
       "      <th>Fare</th>\n",
       "      <td>0</td>\n",
       "      <td>0.000000</td>\n",
       "    </tr>\n",
       "  </tbody>\n",
       "</table>\n",
       "</div>"
      ],
      "text/plain": [
       "             num of missed   percent\n",
       "Cabin                  687  0.771044\n",
       "Age                    177  0.198653\n",
       "Embarked                 2  0.002245\n",
       "PassengerId              0  0.000000\n",
       "Survived                 0  0.000000\n",
       "Pclass                   0  0.000000\n",
       "Name                     0  0.000000\n",
       "Sex                      0  0.000000\n",
       "SibSp                    0  0.000000\n",
       "Parch                    0  0.000000\n",
       "Ticket                   0  0.000000\n",
       "Fare                     0  0.000000"
      ]
     },
     "execution_count": 439,
     "metadata": {},
     "output_type": "execute_result"
    }
   ],
   "source": [
    "missing = pd.DataFrame()\n",
    "missing['num of missed'] = train_df.isna().sum().sort_values(ascending=False)\n",
    "missing['percent'] = train_df.isna().sum()/train_df.isna().count()\n",
    "missing"
   ]
  },
  {
   "cell_type": "code",
   "execution_count": 440,
   "id": "839cd43c",
   "metadata": {
    "ExecuteTime": {
     "end_time": "2021-09-04T18:03:02.276867Z",
     "start_time": "2021-09-04T18:03:02.272446Z"
    },
    "id": "839cd43c"
   },
   "outputs": [],
   "source": [
    "# creating a new feature \"family size\" and \"title\" and dropping useless columns\n",
    "\n",
    "def preprocessor(df):\n",
    "    df['Title'] = '-'\n",
    "    for i in df:\n",
    "        df['Title'] = df['Name'].str.extract('([A-Za-z]+)\\.', expand=False)\n",
    "    df['Family size'] = df['SibSp']+df['Parch']+1\n",
    "\n",
    "    df.drop(['PassengerId', 'Name', 'Ticket', 'Parch',\n",
    "            'SibSp', 'Cabin'], axis=1, inplace=True)\n",
    "    return df"
   ]
  },
  {
   "cell_type": "code",
   "execution_count": 441,
   "id": "baadee16",
   "metadata": {
    "ExecuteTime": {
     "end_time": "2021-09-04T18:03:02.532188Z",
     "start_time": "2021-09-04T18:03:02.522885Z"
    },
    "colab": {
     "base_uri": "https://localhost:8080/"
    },
    "id": "baadee16",
    "outputId": "1dc3f1c3-ed9a-4452-80e8-44c16b1b14eb"
   },
   "outputs": [
    {
     "data": {
      "text/plain": [
       "PassengerId      int64\n",
       "Survived         int64\n",
       "Pclass           int64\n",
       "Name            object\n",
       "Sex             object\n",
       "Age            float64\n",
       "SibSp            int64\n",
       "Parch            int64\n",
       "Ticket          object\n",
       "Fare           float64\n",
       "Cabin           object\n",
       "Embarked        object\n",
       "dtype: object"
      ]
     },
     "execution_count": 441,
     "metadata": {},
     "output_type": "execute_result"
    }
   ],
   "source": [
    "train_df.dtypes"
   ]
  },
  {
   "cell_type": "code",
   "execution_count": 442,
   "id": "c99ec488",
   "metadata": {
    "ExecuteTime": {
     "end_time": "2021-09-04T18:03:02.838760Z",
     "start_time": "2021-09-04T18:03:02.780652Z"
    },
    "id": "c99ec488"
   },
   "outputs": [],
   "source": [
    "train_df = preprocessor(train_df)"
   ]
  },
  {
   "cell_type": "markdown",
   "id": "1d2dba44",
   "metadata": {
    "id": "1d2dba44"
   },
   "source": [
    "All done.\n",
    "we'd better check if 'Fare' column is worth keeping it or not."
   ]
  },
  {
   "cell_type": "code",
   "execution_count": 443,
   "id": "32803815",
   "metadata": {
    "ExecuteTime": {
     "end_time": "2021-09-04T18:03:03.673506Z",
     "start_time": "2021-09-04T18:03:03.646802Z"
    },
    "colab": {
     "base_uri": "https://localhost:8080/"
    },
    "id": "32803815",
    "outputId": "55b4941a-3c05-4588-8f5a-955b1514b3a5"
   },
   "outputs": [
    {
     "data": {
      "text/plain": [
       "count    891.000000\n",
       "mean      32.204208\n",
       "std       49.693429\n",
       "min        0.000000\n",
       "25%        7.910400\n",
       "50%       14.454200\n",
       "75%       31.000000\n",
       "max      512.329200\n",
       "Name: Fare, dtype: float64"
      ]
     },
     "execution_count": 443,
     "metadata": {},
     "output_type": "execute_result"
    }
   ],
   "source": [
    "train_df['Fare'].describe()"
   ]
  },
  {
   "cell_type": "code",
   "execution_count": 444,
   "id": "eca338bc",
   "metadata": {
    "ExecuteTime": {
     "end_time": "2021-09-04T18:03:04.614103Z",
     "start_time": "2021-09-04T18:03:04.288070Z"
    },
    "colab": {
     "base_uri": "https://localhost:8080/",
     "height": 296
    },
    "id": "eca338bc",
    "outputId": "431197f0-9ac0-4f69-a7ae-1220da90b481"
   },
   "outputs": [
    {
     "data": {
      "text/plain": [
       "<AxesSubplot:xlabel='Fare', ylabel='Density'>"
      ]
     },
     "execution_count": 444,
     "metadata": {},
     "output_type": "execute_result"
    },
    {
     "data": {
      "image/png": "[encoded data removed]",
      "text/plain": [
       "<Figure size 432x288 with 1 Axes>"
      ]
     },
     "metadata": {
      "needs_background": "light"
     },
     "output_type": "display_data"
    }
   ],
   "source": [
    "sns.distplot(train_df['Fare'], fit=stats.norm)"
   ]
  },
  {
   "cell_type": "markdown",
   "id": "9f67dd63",
   "metadata": {
    "id": "9f67dd63"
   },
   "source": [
    "Apparently huge amount of values are missed, because even though we have the average of this column is too low, So this column is not worth keeping and feeding it to our model. "
   ]
  },
  {
   "cell_type": "code",
   "execution_count": 445,
   "id": "08cc89a9",
   "metadata": {
    "ExecuteTime": {
     "end_time": "2021-09-04T18:03:04.802321Z",
     "start_time": "2021-09-04T18:03:04.798229Z"
    },
    "id": "08cc89a9"
   },
   "outputs": [],
   "source": [
    "train_df.drop(['Fare'], axis=1, inplace=True)"
   ]
  },
  {
   "cell_type": "markdown",
   "id": "378c1b2c",
   "metadata": {
    "ExecuteTime": {
     "end_time": "2021-08-21T09:08:19.531097Z",
     "start_time": "2021-08-21T09:08:19.525966Z"
    },
    "id": "378c1b2c"
   },
   "source": [
    "## Some info about the dataset"
   ]
  },
  {
   "cell_type": "code",
   "execution_count": 446,
   "id": "0adfc654",
   "metadata": {
    "ExecuteTime": {
     "end_time": "2021-09-04T18:03:04.912432Z",
     "start_time": "2021-09-04T18:03:04.861822Z"
    },
    "id": "0adfc654"
   },
   "outputs": [],
   "source": [
    "# some barplots to see how the dataset looks like\n",
    "\n",
    "def bar_visualizer(df, size):\n",
    "    if size != 'default':\n",
    "        plt.figure(figsize=(15, 5))\n",
    "    plot = sns.barplot(x=df[df.columns[0]],\n",
    "                       y=df[df.columns[1]], palette='muted')\n",
    "    for bar in plot.patches:\n",
    "        plot.annotate(format(bar.get_height(), 'g'),\n",
    "                      (bar.get_x() + bar.get_width() / 2,\n",
    "                       bar.get_height()), ha='center', va='center',\n",
    "                      size=12, xytext=(0, 4),\n",
    "                      textcoords='offset points')"
   ]
  },
  {
   "cell_type": "markdown",
   "id": "562c46ad",
   "metadata": {
    "id": "562c46ad"
   },
   "source": [
    "### Survived/Sex"
   ]
  },
  {
   "cell_type": "code",
   "execution_count": 447,
   "id": "8ed4098d",
   "metadata": {
    "ExecuteTime": {
     "end_time": "2021-09-04T18:03:05.096955Z",
     "start_time": "2021-09-04T18:03:04.917158Z"
    },
    "id": "8ed4098d"
   },
   "outputs": [],
   "source": [
    "temp = train_df.groupby('Sex', as_index=False)['Survived'].sum()"
   ]
  },
  {
   "cell_type": "code",
   "execution_count": 448,
   "id": "106ce487",
   "metadata": {
    "ExecuteTime": {
     "end_time": "2021-09-04T18:03:05.335296Z",
     "start_time": "2021-09-04T18:03:05.100396Z"
    },
    "colab": {
     "base_uri": "https://localhost:8080/",
     "height": 278
    },
    "id": "106ce487",
    "outputId": "e5b0d4b5-85e2-4813-85aa-838f622192c9"
   },
   "outputs": [
    {
     "data": {
      "image/png": "[encoded data removed]",
      "text/plain": [
       "<Figure size 432x288 with 1 Axes>"
      ]
     },
     "metadata": {
      "needs_background": "light"
     },
     "output_type": "display_data"
    }
   ],
   "source": [
    "bar_visualizer(temp, 'default')"
   ]
  },
  {
   "cell_type": "markdown",
   "id": "02698c8a",
   "metadata": {
    "id": "02698c8a"
   },
   "source": [
    "### Survived/Pclass"
   ]
  },
  {
   "cell_type": "code",
   "execution_count": 449,
   "id": "5e8733f0",
   "metadata": {
    "ExecuteTime": {
     "end_time": "2021-09-04T18:03:05.350485Z",
     "start_time": "2021-09-04T18:03:05.339455Z"
    },
    "colab": {
     "base_uri": "https://localhost:8080/",
     "height": 141
    },
    "id": "5e8733f0",
    "outputId": "04d562c7-5033-4ba5-fadc-4bde1d18c24c"
   },
   "outputs": [
    {
     "data": {
      "text/html": [
       "<div>\n",
       "<style scoped>\n",
       "    .dataframe tbody tr th:only-of-type {\n",
       "        vertical-align: middle;\n",
       "    }\n",
       "\n",
       "    .dataframe tbody tr th {\n",
       "        vertical-align: top;\n",
       "    }\n",
       "\n",
       "    .dataframe thead th {\n",
       "        text-align: right;\n",
       "    }\n",
       "</style>\n",
       "<table border=\"1\" class=\"dataframe\">\n",
       "  <thead>\n",
       "    <tr style=\"text-align: right;\">\n",
       "      <th></th>\n",
       "      <th>Pclass</th>\n",
       "      <th>Survived</th>\n",
       "    </tr>\n",
       "  </thead>\n",
       "  <tbody>\n",
       "    <tr>\n",
       "      <th>0</th>\n",
       "      <td>1</td>\n",
       "      <td>136</td>\n",
       "    </tr>\n",
       "    <tr>\n",
       "      <th>1</th>\n",
       "      <td>2</td>\n",
       "      <td>87</td>\n",
       "    </tr>\n",
       "    <tr>\n",
       "      <th>2</th>\n",
       "      <td>3</td>\n",
       "      <td>119</td>\n",
       "    </tr>\n",
       "  </tbody>\n",
       "</table>\n",
       "</div>"
      ],
      "text/plain": [
       "   Pclass  Survived\n",
       "0       1       136\n",
       "1       2        87\n",
       "2       3       119"
      ]
     },
     "execution_count": 449,
     "metadata": {},
     "output_type": "execute_result"
    }
   ],
   "source": [
    "temp = train_df.groupby('Pclass', as_index=False)['Survived'].sum()\n",
    "temp"
   ]
  },
  {
   "cell_type": "code",
   "execution_count": 450,
   "id": "8b204ff1",
   "metadata": {
    "ExecuteTime": {
     "end_time": "2021-09-04T18:03:05.553281Z",
     "start_time": "2021-09-04T18:03:05.353672Z"
    },
    "colab": {
     "base_uri": "https://localhost:8080/",
     "height": 278
    },
    "id": "8b204ff1",
    "outputId": "b5b770f8-3a65-4f84-c8a6-df87c242d1fb"
   },
   "outputs": [
    {
     "data": {
      "image/png": "[encoded data removed]",
      "text/plain": [
       "<Figure size 432x288 with 1 Axes>"
      ]
     },
     "metadata": {
      "needs_background": "light"
     },
     "output_type": "display_data"
    }
   ],
   "source": [
    "bar_visualizer(temp, 'default')"
   ]
  },
  {
   "cell_type": "markdown",
   "id": "4225ac35",
   "metadata": {
    "id": "4225ac35"
   },
   "source": [
    "### Survived/Embarked"
   ]
  },
  {
   "cell_type": "code",
   "execution_count": 451,
   "id": "4e36e4a5",
   "metadata": {
    "ExecuteTime": {
     "end_time": "2021-09-04T18:03:06.679695Z",
     "start_time": "2021-09-04T18:03:06.663238Z"
    },
    "id": "4e36e4a5"
   },
   "outputs": [],
   "source": [
    "temp = train_df.groupby('Embarked', as_index=False)['Survived'].sum()"
   ]
  },
  {
   "cell_type": "code",
   "execution_count": 452,
   "id": "336a2f4d",
   "metadata": {
    "ExecuteTime": {
     "end_time": "2021-09-04T18:03:07.222219Z",
     "start_time": "2021-09-04T18:03:07.103212Z"
    },
    "colab": {
     "base_uri": "https://localhost:8080/",
     "height": 278
    },
    "id": "336a2f4d",
    "outputId": "2d89c22a-fdfd-4a66-83db-3f26654d537b"
   },
   "outputs": [
    {
     "data": {
      "image/png": "[encoded data removed]",
      "text/plain": [
       "<Figure size 432x288 with 1 Axes>"
      ]
     },
     "metadata": {
      "needs_background": "light"
     },
     "output_type": "display_data"
    }
   ],
   "source": [
    "bar_visualizer(temp, 'default')"
   ]
  },
  {
   "cell_type": "markdown",
   "id": "b48da737",
   "metadata": {
    "id": "b48da737"
   },
   "source": [
    "### Survived/Family Size"
   ]
  },
  {
   "cell_type": "code",
   "execution_count": 453,
   "id": "d4cbc3b4",
   "metadata": {
    "ExecuteTime": {
     "end_time": "2021-09-04T18:03:08.141323Z",
     "start_time": "2021-09-04T18:03:08.125757Z"
    },
    "id": "d4cbc3b4"
   },
   "outputs": [],
   "source": [
    "temp = train_df.groupby('Family size', as_index=False)['Survived'].sum()"
   ]
  },
  {
   "cell_type": "code",
   "execution_count": 454,
   "id": "1822d7b0",
   "metadata": {
    "ExecuteTime": {
     "end_time": "2021-09-04T18:03:08.730228Z",
     "start_time": "2021-09-04T18:03:08.522463Z"
    },
    "colab": {
     "base_uri": "https://localhost:8080/",
     "height": 278
    },
    "id": "1822d7b0",
    "outputId": "164aa327-81bb-4afb-c8a0-e0483fcec2ba"
   },
   "outputs": [
    {
     "data": {
      "image/png": "[encoded data removed]",
      "text/plain": [
       "<Figure size 432x288 with 1 Axes>"
      ]
     },
     "metadata": {
      "needs_background": "light"
     },
     "output_type": "display_data"
    }
   ],
   "source": [
    "bar_visualizer(temp, 'default')"
   ]
  },
  {
   "cell_type": "markdown",
   "id": "8d1d6d87",
   "metadata": {
    "id": "8d1d6d87"
   },
   "source": [
    "### Survived/Average Age"
   ]
  },
  {
   "cell_type": "code",
   "execution_count": 455,
   "id": "1ac065ba",
   "metadata": {
    "ExecuteTime": {
     "end_time": "2021-09-04T18:03:09.590059Z",
     "start_time": "2021-09-04T18:03:09.567401Z"
    },
    "colab": {
     "base_uri": "https://localhost:8080/",
     "height": 110
    },
    "id": "1ac065ba",
    "outputId": "f6108123-eebc-4147-8d96-70630a40c7f4"
   },
   "outputs": [
    {
     "data": {
      "text/html": [
       "<div>\n",
       "<style scoped>\n",
       "    .dataframe tbody tr th:only-of-type {\n",
       "        vertical-align: middle;\n",
       "    }\n",
       "\n",
       "    .dataframe tbody tr th {\n",
       "        vertical-align: top;\n",
       "    }\n",
       "\n",
       "    .dataframe thead th {\n",
       "        text-align: right;\n",
       "    }\n",
       "</style>\n",
       "<table border=\"1\" class=\"dataframe\">\n",
       "  <thead>\n",
       "    <tr style=\"text-align: right;\">\n",
       "      <th></th>\n",
       "      <th>Survived</th>\n",
       "      <th>Age</th>\n",
       "    </tr>\n",
       "  </thead>\n",
       "  <tbody>\n",
       "    <tr>\n",
       "      <th>0</th>\n",
       "      <td>0</td>\n",
       "      <td>30.626179</td>\n",
       "    </tr>\n",
       "    <tr>\n",
       "      <th>1</th>\n",
       "      <td>1</td>\n",
       "      <td>28.343690</td>\n",
       "    </tr>\n",
       "  </tbody>\n",
       "</table>\n",
       "</div>"
      ],
      "text/plain": [
       "   Survived        Age\n",
       "0         0  30.626179\n",
       "1         1  28.343690"
      ]
     },
     "execution_count": 455,
     "metadata": {},
     "output_type": "execute_result"
    }
   ],
   "source": [
    "temp = train_df.groupby('Survived', as_index=False)['Age'].mean()\n",
    "temp"
   ]
  },
  {
   "cell_type": "code",
   "execution_count": 456,
   "id": "0a7c578f",
   "metadata": {
    "ExecuteTime": {
     "end_time": "2021-09-04T18:03:10.039969Z",
     "start_time": "2021-09-04T18:03:09.880641Z"
    },
    "colab": {
     "base_uri": "https://localhost:8080/",
     "height": 278
    },
    "id": "0a7c578f",
    "outputId": "a0427e53-c422-4483-f6c4-0ab2cd889e62"
   },
   "outputs": [
    {
     "data": {
      "image/png": "[encoded data removed]",
      "text/plain": [
       "<Figure size 432x288 with 1 Axes>"
      ]
     },
     "metadata": {
      "needs_background": "light"
     },
     "output_type": "display_data"
    }
   ],
   "source": [
    "bar_visualizer(temp, 'default')"
   ]
  },
  {
   "cell_type": "markdown",
   "id": "ad3bf4e0",
   "metadata": {
    "id": "ad3bf4e0"
   },
   "source": [
    "### Survived/Title"
   ]
  },
  {
   "cell_type": "code",
   "execution_count": 457,
   "id": "12812dea",
   "metadata": {
    "ExecuteTime": {
     "end_time": "2021-09-04T18:03:10.757827Z",
     "start_time": "2021-09-04T18:03:10.739718Z"
    },
    "id": "12812dea"
   },
   "outputs": [],
   "source": [
    "temp = train_df.groupby('Title', as_index=False)['Age'].mean()"
   ]
  },
  {
   "cell_type": "code",
   "execution_count": 458,
   "id": "9b329ac4",
   "metadata": {
    "ExecuteTime": {
     "end_time": "2021-09-04T18:03:22.914280Z",
     "start_time": "2021-09-04T18:03:22.608819Z"
    },
    "colab": {
     "base_uri": "https://localhost:8080/",
     "height": 334
    },
    "id": "9b329ac4",
    "outputId": "4614793f-8186-4fff-df1c-30bcfce7a742"
   },
   "outputs": [
    {
     "data": {
      "image/png": "[encoded data removed]",
      "text/plain": [
       "<Figure size 1080x360 with 1 Axes>"
      ]
     },
     "metadata": {
      "needs_background": "light"
     },
     "output_type": "display_data"
    }
   ],
   "source": [
    "bar_visualizer(temp, 'non-default')"
   ]
  },
  {
   "cell_type": "markdown",
   "id": "4a67b88b",
   "metadata": {
    "id": "4a67b88b"
   },
   "source": [
    "## Imputing missing values"
   ]
  },
  {
   "cell_type": "code",
   "execution_count": 459,
   "id": "1b44176c",
   "metadata": {
    "ExecuteTime": {
     "end_time": "2021-09-04T18:03:25.652404Z",
     "start_time": "2021-09-04T18:03:25.637446Z"
    },
    "colab": {
     "base_uri": "https://localhost:8080/"
    },
    "id": "1b44176c",
    "outputId": "413f237f-3dec-431c-f235-e3da1b4cb633"
   },
   "outputs": [
    {
     "data": {
      "text/plain": [
       "Survived         0\n",
       "Pclass           0\n",
       "Sex              0\n",
       "Age            177\n",
       "Embarked         2\n",
       "Title            0\n",
       "Family size      0\n",
       "dtype: int64"
      ]
     },
     "execution_count": 459,
     "metadata": {},
     "output_type": "execute_result"
    }
   ],
   "source": [
    "train_df.isna().sum()"
   ]
  },
  {
   "cell_type": "markdown",
   "id": "f1a945f4",
   "metadata": {
    "id": "f1a945f4"
   },
   "source": [
    "### Embarked"
   ]
  },
  {
   "cell_type": "code",
   "execution_count": 460,
   "id": "5ce5f6ba",
   "metadata": {
    "ExecuteTime": {
     "end_time": "2021-09-04T18:03:26.041861Z",
     "start_time": "2021-09-04T18:03:26.033955Z"
    },
    "id": "5ce5f6ba"
   },
   "outputs": [],
   "source": [
    "# there are just two of missing values in this column, we can easily drop them.\n",
    "\n",
    "train_df.dropna(subset=['Embarked'], inplace=True)"
   ]
  },
  {
   "cell_type": "markdown",
   "id": "93da7b24",
   "metadata": {
    "id": "93da7b24"
   },
   "source": [
    "### Age"
   ]
  },
  {
   "cell_type": "code",
   "execution_count": 461,
   "id": "16b3bc7a",
   "metadata": {
    "ExecuteTime": {
     "end_time": "2021-09-04T18:03:26.441654Z",
     "start_time": "2021-09-04T18:03:26.428081Z"
    },
    "colab": {
     "base_uri": "https://localhost:8080/"
    },
    "id": "16b3bc7a",
    "outputId": "3eee74c2-b7b0-43a3-9965-2d013badd949"
   },
   "outputs": [
    {
     "data": {
      "text/plain": [
       "{'Capt': 70.0,\n",
       " 'Col': 58.0,\n",
       " 'Countess': 33.0,\n",
       " 'Don': 40.0,\n",
       " 'Dr': 42.0,\n",
       " 'Jonkheer': 38.0,\n",
       " 'Lady': 48.0,\n",
       " 'Major': 48.5,\n",
       " 'Master': 4.574166666666667,\n",
       " 'Miss': 21.662068965517243,\n",
       " 'Mlle': 24.0,\n",
       " 'Mme': 24.0,\n",
       " 'Mr': 32.368090452261306,\n",
       " 'Mrs': 35.654205607476634,\n",
       " 'Ms': 28.0,\n",
       " 'Rev': 43.166666666666664,\n",
       " 'Sir': 49.0}"
      ]
     },
     "execution_count": 461,
     "metadata": {},
     "output_type": "execute_result"
    }
   ],
   "source": [
    "# since we know each person's title, we could use it as an estimator for imputing this column\n",
    "title_age = train_df.groupby(\n",
    "    'Title')['Age'].mean()\n",
    "\n",
    "title_age = title_age.to_dict()\n",
    "title_age"
   ]
  },
  {
   "cell_type": "code",
   "execution_count": 462,
   "id": "0207fbe6",
   "metadata": {
    "ExecuteTime": {
     "end_time": "2021-09-04T18:03:26.726681Z",
     "start_time": "2021-09-04T18:03:26.626462Z"
    },
    "id": "0207fbe6"
   },
   "outputs": [],
   "source": [
    "indexes = train_df.loc[train_df['Age'].isna()].index\n",
    "\n",
    "for index in indexes:\n",
    "    for key in title_age.keys():\n",
    "        if train_df['Title'][index] == key:\n",
    "            train_df['Age'][index] = title_age[key]"
   ]
  },
  {
   "cell_type": "markdown",
   "id": "aa098e3e",
   "metadata": {
    "id": "aa098e3e"
   },
   "source": [
    "## Categorical Features"
   ]
  },
  {
   "cell_type": "markdown",
   "id": "4eefa3d1",
   "metadata": {
    "id": "4eefa3d1"
   },
   "source": [
    "'Title' is a categorical feature and we only needed it for imputing NaN variables in 'Age' column, so we can drop it now."
   ]
  },
  {
   "cell_type": "code",
   "execution_count": 463,
   "id": "e76b36ab",
   "metadata": {
    "ExecuteTime": {
     "end_time": "2021-09-04T18:03:27.328968Z",
     "start_time": "2021-09-04T18:03:27.310651Z"
    },
    "id": "e76b36ab"
   },
   "outputs": [
    {
     "data": {
      "text/html": [
       "<div>\n",
       "<style scoped>\n",
       "    .dataframe tbody tr th:only-of-type {\n",
       "        vertical-align: middle;\n",
       "    }\n",
       "\n",
       "    .dataframe tbody tr th {\n",
       "        vertical-align: top;\n",
       "    }\n",
       "\n",
       "    .dataframe thead th {\n",
       "        text-align: right;\n",
       "    }\n",
       "</style>\n",
       "<table border=\"1\" class=\"dataframe\">\n",
       "  <thead>\n",
       "    <tr style=\"text-align: right;\">\n",
       "      <th></th>\n",
       "      <th>Survived</th>\n",
       "      <th>Pclass</th>\n",
       "      <th>Sex</th>\n",
       "      <th>Age</th>\n",
       "      <th>Embarked</th>\n",
       "      <th>Family size</th>\n",
       "    </tr>\n",
       "  </thead>\n",
       "  <tbody>\n",
       "    <tr>\n",
       "      <th>0</th>\n",
       "      <td>0</td>\n",
       "      <td>3</td>\n",
       "      <td>male</td>\n",
       "      <td>22.000000</td>\n",
       "      <td>S</td>\n",
       "      <td>2</td>\n",
       "    </tr>\n",
       "    <tr>\n",
       "      <th>1</th>\n",
       "      <td>1</td>\n",
       "      <td>1</td>\n",
       "      <td>female</td>\n",
       "      <td>38.000000</td>\n",
       "      <td>C</td>\n",
       "      <td>2</td>\n",
       "    </tr>\n",
       "    <tr>\n",
       "      <th>2</th>\n",
       "      <td>1</td>\n",
       "      <td>3</td>\n",
       "      <td>female</td>\n",
       "      <td>26.000000</td>\n",
       "      <td>S</td>\n",
       "      <td>1</td>\n",
       "    </tr>\n",
       "    <tr>\n",
       "      <th>3</th>\n",
       "      <td>1</td>\n",
       "      <td>1</td>\n",
       "      <td>female</td>\n",
       "      <td>35.000000</td>\n",
       "      <td>S</td>\n",
       "      <td>2</td>\n",
       "    </tr>\n",
       "    <tr>\n",
       "      <th>4</th>\n",
       "      <td>0</td>\n",
       "      <td>3</td>\n",
       "      <td>male</td>\n",
       "      <td>35.000000</td>\n",
       "      <td>S</td>\n",
       "      <td>1</td>\n",
       "    </tr>\n",
       "    <tr>\n",
       "      <th>...</th>\n",
       "      <td>...</td>\n",
       "      <td>...</td>\n",
       "      <td>...</td>\n",
       "      <td>...</td>\n",
       "      <td>...</td>\n",
       "      <td>...</td>\n",
       "    </tr>\n",
       "    <tr>\n",
       "      <th>886</th>\n",
       "      <td>0</td>\n",
       "      <td>2</td>\n",
       "      <td>male</td>\n",
       "      <td>27.000000</td>\n",
       "      <td>S</td>\n",
       "      <td>1</td>\n",
       "    </tr>\n",
       "    <tr>\n",
       "      <th>887</th>\n",
       "      <td>1</td>\n",
       "      <td>1</td>\n",
       "      <td>female</td>\n",
       "      <td>19.000000</td>\n",
       "      <td>S</td>\n",
       "      <td>1</td>\n",
       "    </tr>\n",
       "    <tr>\n",
       "      <th>888</th>\n",
       "      <td>0</td>\n",
       "      <td>3</td>\n",
       "      <td>female</td>\n",
       "      <td>21.662069</td>\n",
       "      <td>S</td>\n",
       "      <td>4</td>\n",
       "    </tr>\n",
       "    <tr>\n",
       "      <th>889</th>\n",
       "      <td>1</td>\n",
       "      <td>1</td>\n",
       "      <td>male</td>\n",
       "      <td>26.000000</td>\n",
       "      <td>C</td>\n",
       "      <td>1</td>\n",
       "    </tr>\n",
       "    <tr>\n",
       "      <th>890</th>\n",
       "      <td>0</td>\n",
       "      <td>3</td>\n",
       "      <td>male</td>\n",
       "      <td>32.000000</td>\n",
       "      <td>Q</td>\n",
       "      <td>1</td>\n",
       "    </tr>\n",
       "  </tbody>\n",
       "</table>\n",
       "<p>889 rows × 6 columns</p>\n",
       "</div>"
      ],
      "text/plain": [
       "     Survived  Pclass     Sex        Age Embarked  Family size\n",
       "0           0       3    male  22.000000        S            2\n",
       "1           1       1  female  38.000000        C            2\n",
       "2           1       3  female  26.000000        S            1\n",
       "3           1       1  female  35.000000        S            2\n",
       "4           0       3    male  35.000000        S            1\n",
       "..        ...     ...     ...        ...      ...          ...\n",
       "886         0       2    male  27.000000        S            1\n",
       "887         1       1  female  19.000000        S            1\n",
       "888         0       3  female  21.662069        S            4\n",
       "889         1       1    male  26.000000        C            1\n",
       "890         0       3    male  32.000000        Q            1\n",
       "\n",
       "[889 rows x 6 columns]"
      ]
     },
     "execution_count": 463,
     "metadata": {},
     "output_type": "execute_result"
    }
   ],
   "source": [
    "train_df.drop('Title', axis=1, inplace=True)"
   ]
  },
  {
   "cell_type": "code",
   "execution_count": 464,
   "id": "32aa0bfb",
   "metadata": {
    "ExecuteTime": {
     "end_time": "2021-09-04T18:03:27.829147Z",
     "start_time": "2021-09-04T18:03:27.791527Z"
    },
    "colab": {
     "base_uri": "https://localhost:8080/",
     "height": 414
    },
    "id": "32aa0bfb",
    "outputId": "d9cdcf3b-7a10-42d6-b18f-c9ee7e597609"
   },
   "outputs": [
    {
     "data": {
      "text/html": [
       "<div>\n",
       "<style scoped>\n",
       "    .dataframe tbody tr th:only-of-type {\n",
       "        vertical-align: middle;\n",
       "    }\n",
       "\n",
       "    .dataframe tbody tr th {\n",
       "        vertical-align: top;\n",
       "    }\n",
       "\n",
       "    .dataframe thead th {\n",
       "        text-align: right;\n",
       "    }\n",
       "</style>\n",
       "<table border=\"1\" class=\"dataframe\">\n",
       "  <thead>\n",
       "    <tr style=\"text-align: right;\">\n",
       "      <th></th>\n",
       "      <th>Survived</th>\n",
       "      <th>Pclass</th>\n",
       "      <th>Age</th>\n",
       "      <th>Family size</th>\n",
       "      <th>Sex_male</th>\n",
       "      <th>Embarked_Q</th>\n",
       "      <th>Embarked_S</th>\n",
       "    </tr>\n",
       "  </thead>\n",
       "  <tbody>\n",
       "    <tr>\n",
       "      <th>0</th>\n",
       "      <td>0</td>\n",
       "      <td>3</td>\n",
       "      <td>22.000000</td>\n",
       "      <td>2</td>\n",
       "      <td>1</td>\n",
       "      <td>0</td>\n",
       "      <td>1</td>\n",
       "    </tr>\n",
       "    <tr>\n",
       "      <th>1</th>\n",
       "      <td>1</td>\n",
       "      <td>1</td>\n",
       "      <td>38.000000</td>\n",
       "      <td>2</td>\n",
       "      <td>0</td>\n",
       "      <td>0</td>\n",
       "      <td>0</td>\n",
       "    </tr>\n",
       "    <tr>\n",
       "      <th>2</th>\n",
       "      <td>1</td>\n",
       "      <td>3</td>\n",
       "      <td>26.000000</td>\n",
       "      <td>1</td>\n",
       "      <td>0</td>\n",
       "      <td>0</td>\n",
       "      <td>1</td>\n",
       "    </tr>\n",
       "    <tr>\n",
       "      <th>3</th>\n",
       "      <td>1</td>\n",
       "      <td>1</td>\n",
       "      <td>35.000000</td>\n",
       "      <td>2</td>\n",
       "      <td>0</td>\n",
       "      <td>0</td>\n",
       "      <td>1</td>\n",
       "    </tr>\n",
       "    <tr>\n",
       "      <th>4</th>\n",
       "      <td>0</td>\n",
       "      <td>3</td>\n",
       "      <td>35.000000</td>\n",
       "      <td>1</td>\n",
       "      <td>1</td>\n",
       "      <td>0</td>\n",
       "      <td>1</td>\n",
       "    </tr>\n",
       "    <tr>\n",
       "      <th>...</th>\n",
       "      <td>...</td>\n",
       "      <td>...</td>\n",
       "      <td>...</td>\n",
       "      <td>...</td>\n",
       "      <td>...</td>\n",
       "      <td>...</td>\n",
       "      <td>...</td>\n",
       "    </tr>\n",
       "    <tr>\n",
       "      <th>886</th>\n",
       "      <td>0</td>\n",
       "      <td>2</td>\n",
       "      <td>27.000000</td>\n",
       "      <td>1</td>\n",
       "      <td>1</td>\n",
       "      <td>0</td>\n",
       "      <td>1</td>\n",
       "    </tr>\n",
       "    <tr>\n",
       "      <th>887</th>\n",
       "      <td>1</td>\n",
       "      <td>1</td>\n",
       "      <td>19.000000</td>\n",
       "      <td>1</td>\n",
       "      <td>0</td>\n",
       "      <td>0</td>\n",
       "      <td>1</td>\n",
       "    </tr>\n",
       "    <tr>\n",
       "      <th>888</th>\n",
       "      <td>0</td>\n",
       "      <td>3</td>\n",
       "      <td>21.662069</td>\n",
       "      <td>4</td>\n",
       "      <td>0</td>\n",
       "      <td>0</td>\n",
       "      <td>1</td>\n",
       "    </tr>\n",
       "    <tr>\n",
       "      <th>889</th>\n",
       "      <td>1</td>\n",
       "      <td>1</td>\n",
       "      <td>26.000000</td>\n",
       "      <td>1</td>\n",
       "      <td>1</td>\n",
       "      <td>0</td>\n",
       "      <td>0</td>\n",
       "    </tr>\n",
       "    <tr>\n",
       "      <th>890</th>\n",
       "      <td>0</td>\n",
       "      <td>3</td>\n",
       "      <td>32.000000</td>\n",
       "      <td>1</td>\n",
       "      <td>1</td>\n",
       "      <td>1</td>\n",
       "      <td>0</td>\n",
       "    </tr>\n",
       "  </tbody>\n",
       "</table>\n",
       "<p>889 rows × 7 columns</p>\n",
       "</div>"
      ],
      "text/plain": [
       "     Survived  Pclass        Age  Family size  Sex_male  Embarked_Q  \\\n",
       "0           0       3  22.000000            2         1           0   \n",
       "1           1       1  38.000000            2         0           0   \n",
       "2           1       3  26.000000            1         0           0   \n",
       "3           1       1  35.000000            2         0           0   \n",
       "4           0       3  35.000000            1         1           0   \n",
       "..        ...     ...        ...          ...       ...         ...   \n",
       "886         0       2  27.000000            1         1           0   \n",
       "887         1       1  19.000000            1         0           0   \n",
       "888         0       3  21.662069            4         0           0   \n",
       "889         1       1  26.000000            1         1           0   \n",
       "890         0       3  32.000000            1         1           1   \n",
       "\n",
       "     Embarked_S  \n",
       "0             1  \n",
       "1             0  \n",
       "2             1  \n",
       "3             1  \n",
       "4             1  \n",
       "..          ...  \n",
       "886           1  \n",
       "887           1  \n",
       "888           1  \n",
       "889           0  \n",
       "890           0  \n",
       "\n",
       "[889 rows x 7 columns]"
      ]
     },
     "execution_count": 464,
     "metadata": {},
     "output_type": "execute_result"
    }
   ],
   "source": [
    "train_df = pd.get_dummies(train_df, drop_first=True)\n",
    "train_df"
   ]
  },
  {
   "cell_type": "markdown",
   "id": "fb6b552f",
   "metadata": {
    "id": "fb6b552f"
   },
   "source": [
    "## Train and Validation split"
   ]
  },
  {
   "cell_type": "code",
   "execution_count": 479,
   "id": "550a91f2",
   "metadata": {
    "ExecuteTime": {
     "end_time": "2021-09-04T18:11:15.733887Z",
     "start_time": "2021-09-04T18:11:15.725409Z"
    },
    "colab": {
     "base_uri": "https://localhost:8080/",
     "height": 414
    },
    "id": "550a91f2",
    "outputId": "c4a8232e-6943-4d25-d295-9a9510059dc6"
   },
   "outputs": [],
   "source": [
    "X = train_df.drop('Survived', axis=1)\n",
    "y = train_df['Survived']"
   ]
  },
  {
   "cell_type": "code",
   "execution_count": 466,
   "id": "7be097ef",
   "metadata": {
    "ExecuteTime": {
     "end_time": "2021-09-04T18:03:31.493516Z",
     "start_time": "2021-09-04T18:03:31.485616Z"
    },
    "id": "7be097ef"
   },
   "outputs": [],
   "source": [
    "X_train, X_val, y_train, y_val = train_test_split(\n",
    "    X, y, test_size=0.2, random_state=42)"
   ]
  },
  {
   "cell_type": "code",
   "execution_count": 467,
   "id": "29d66c9f",
   "metadata": {
    "ExecuteTime": {
     "end_time": "2021-09-04T18:03:31.694482Z",
     "start_time": "2021-09-04T18:03:31.676935Z"
    },
    "colab": {
     "base_uri": "https://localhost:8080/",
     "height": 414
    },
    "id": "29d66c9f",
    "outputId": "cda3793c-fe60-451f-dfff-43041bf12e7d"
   },
   "outputs": [
    {
     "data": {
      "text/html": [
       "<div>\n",
       "<style scoped>\n",
       "    .dataframe tbody tr th:only-of-type {\n",
       "        vertical-align: middle;\n",
       "    }\n",
       "\n",
       "    .dataframe tbody tr th {\n",
       "        vertical-align: top;\n",
       "    }\n",
       "\n",
       "    .dataframe thead th {\n",
       "        text-align: right;\n",
       "    }\n",
       "</style>\n",
       "<table border=\"1\" class=\"dataframe\">\n",
       "  <thead>\n",
       "    <tr style=\"text-align: right;\">\n",
       "      <th></th>\n",
       "      <th>Pclass</th>\n",
       "      <th>Age</th>\n",
       "      <th>Family size</th>\n",
       "      <th>Sex_male</th>\n",
       "      <th>Embarked_Q</th>\n",
       "      <th>Embarked_S</th>\n",
       "    </tr>\n",
       "  </thead>\n",
       "  <tbody>\n",
       "    <tr>\n",
       "      <th>708</th>\n",
       "      <td>1</td>\n",
       "      <td>22.000000</td>\n",
       "      <td>1</td>\n",
       "      <td>0</td>\n",
       "      <td>0</td>\n",
       "      <td>1</td>\n",
       "    </tr>\n",
       "    <tr>\n",
       "      <th>240</th>\n",
       "      <td>3</td>\n",
       "      <td>21.662069</td>\n",
       "      <td>2</td>\n",
       "      <td>0</td>\n",
       "      <td>0</td>\n",
       "      <td>0</td>\n",
       "    </tr>\n",
       "    <tr>\n",
       "      <th>382</th>\n",
       "      <td>3</td>\n",
       "      <td>32.000000</td>\n",
       "      <td>1</td>\n",
       "      <td>1</td>\n",
       "      <td>0</td>\n",
       "      <td>1</td>\n",
       "    </tr>\n",
       "    <tr>\n",
       "      <th>792</th>\n",
       "      <td>3</td>\n",
       "      <td>21.662069</td>\n",
       "      <td>11</td>\n",
       "      <td>0</td>\n",
       "      <td>0</td>\n",
       "      <td>1</td>\n",
       "    </tr>\n",
       "    <tr>\n",
       "      <th>683</th>\n",
       "      <td>3</td>\n",
       "      <td>14.000000</td>\n",
       "      <td>8</td>\n",
       "      <td>1</td>\n",
       "      <td>0</td>\n",
       "      <td>1</td>\n",
       "    </tr>\n",
       "    <tr>\n",
       "      <th>...</th>\n",
       "      <td>...</td>\n",
       "      <td>...</td>\n",
       "      <td>...</td>\n",
       "      <td>...</td>\n",
       "      <td>...</td>\n",
       "      <td>...</td>\n",
       "    </tr>\n",
       "    <tr>\n",
       "      <th>107</th>\n",
       "      <td>3</td>\n",
       "      <td>32.368090</td>\n",
       "      <td>1</td>\n",
       "      <td>1</td>\n",
       "      <td>0</td>\n",
       "      <td>1</td>\n",
       "    </tr>\n",
       "    <tr>\n",
       "      <th>271</th>\n",
       "      <td>3</td>\n",
       "      <td>25.000000</td>\n",
       "      <td>1</td>\n",
       "      <td>1</td>\n",
       "      <td>0</td>\n",
       "      <td>1</td>\n",
       "    </tr>\n",
       "    <tr>\n",
       "      <th>862</th>\n",
       "      <td>1</td>\n",
       "      <td>48.000000</td>\n",
       "      <td>1</td>\n",
       "      <td>0</td>\n",
       "      <td>0</td>\n",
       "      <td>1</td>\n",
       "    </tr>\n",
       "    <tr>\n",
       "      <th>436</th>\n",
       "      <td>3</td>\n",
       "      <td>21.000000</td>\n",
       "      <td>5</td>\n",
       "      <td>0</td>\n",
       "      <td>0</td>\n",
       "      <td>1</td>\n",
       "    </tr>\n",
       "    <tr>\n",
       "      <th>103</th>\n",
       "      <td>3</td>\n",
       "      <td>33.000000</td>\n",
       "      <td>1</td>\n",
       "      <td>1</td>\n",
       "      <td>0</td>\n",
       "      <td>1</td>\n",
       "    </tr>\n",
       "  </tbody>\n",
       "</table>\n",
       "<p>711 rows × 6 columns</p>\n",
       "</div>"
      ],
      "text/plain": [
       "     Pclass        Age  Family size  Sex_male  Embarked_Q  Embarked_S\n",
       "708       1  22.000000            1         0           0           1\n",
       "240       3  21.662069            2         0           0           0\n",
       "382       3  32.000000            1         1           0           1\n",
       "792       3  21.662069           11         0           0           1\n",
       "683       3  14.000000            8         1           0           1\n",
       "..      ...        ...          ...       ...         ...         ...\n",
       "107       3  32.368090            1         1           0           1\n",
       "271       3  25.000000            1         1           0           1\n",
       "862       1  48.000000            1         0           0           1\n",
       "436       3  21.000000            5         0           0           1\n",
       "103       3  33.000000            1         1           0           1\n",
       "\n",
       "[711 rows x 6 columns]"
      ]
     },
     "execution_count": 467,
     "metadata": {},
     "output_type": "execute_result"
    }
   ],
   "source": [
    "X_train"
   ]
  },
  {
   "cell_type": "code",
   "execution_count": 468,
   "id": "2db3d8b2",
   "metadata": {
    "ExecuteTime": {
     "end_time": "2021-09-04T18:03:33.968797Z",
     "start_time": "2021-09-04T18:03:33.961112Z"
    }
   },
   "outputs": [],
   "source": [
    "from sklearn.preprocessing import StandardScaler"
   ]
  },
  {
   "cell_type": "markdown",
   "id": "c3906c68",
   "metadata": {
    "id": "c3906c68"
   },
   "source": [
    "## Training a model"
   ]
  },
  {
   "cell_type": "code",
   "execution_count": 469,
   "id": "67f82a15",
   "metadata": {
    "ExecuteTime": {
     "end_time": "2021-09-04T18:09:17.975561Z",
     "start_time": "2021-09-04T18:09:17.966658Z"
    },
    "id": "67f82a15"
   },
   "outputs": [],
   "source": [
    "from sklearn.metrics import accuracy_score, classification_report, confusion_matrix\n",
    "from sklearn.ensemble import RandomForestClassifier\n",
    "from sklearn.model_selection import GridSearchCV, cross_val_score\n",
    "from lightgbm import LGBMClassifier"
   ]
  },
  {
   "cell_type": "markdown",
   "id": "57ff58ec",
   "metadata": {
    "id": "57ff58ec"
   },
   "source": [
    "### Random Forest(default parameters)"
   ]
  },
  {
   "cell_type": "code",
   "execution_count": 470,
   "id": "ba642a04",
   "metadata": {
    "ExecuteTime": {
     "end_time": "2021-09-04T18:09:19.056126Z",
     "start_time": "2021-09-04T18:09:18.873877Z"
    },
    "id": "ba642a04"
   },
   "outputs": [],
   "source": [
    "classifier = RandomForestClassifier()\n",
    "classifier.fit(X_train, y_train)\n",
    "y_pred = classifier.predict(X_val)"
   ]
  },
  {
   "cell_type": "code",
   "execution_count": 471,
   "id": "410155cd",
   "metadata": {
    "ExecuteTime": {
     "end_time": "2021-09-04T18:09:19.315583Z",
     "start_time": "2021-09-04T18:09:19.305968Z"
    },
    "colab": {
     "base_uri": "https://localhost:8080/"
    },
    "id": "410155cd",
    "outputId": "45751fa0-a66b-4849-f032-67dcbd896ad3"
   },
   "outputs": [
    {
     "name": "stdout",
     "output_type": "stream",
     "text": [
      "0.8146067415730337\n"
     ]
    }
   ],
   "source": [
    "print(accuracy_score(y_val, y_pred))"
   ]
  },
  {
   "cell_type": "markdown",
   "id": "65ae7501",
   "metadata": {},
   "source": [
    "### LightGBM Classifier(default parameters)"
   ]
  },
  {
   "cell_type": "code",
   "execution_count": 472,
   "id": "1aefd622",
   "metadata": {
    "ExecuteTime": {
     "end_time": "2021-09-04T18:09:20.279210Z",
     "start_time": "2021-09-04T18:09:20.273384Z"
    }
   },
   "outputs": [],
   "source": [
    "lgb_clf = LGBMClassifier()"
   ]
  },
  {
   "cell_type": "code",
   "execution_count": 473,
   "id": "77745d94",
   "metadata": {
    "ExecuteTime": {
     "end_time": "2021-09-04T18:09:20.725379Z",
     "start_time": "2021-09-04T18:09:20.321974Z"
    }
   },
   "outputs": [
    {
     "data": {
      "text/plain": [
       "LGBMClassifier()"
      ]
     },
     "execution_count": 473,
     "metadata": {},
     "output_type": "execute_result"
    }
   ],
   "source": [
    "lgb_clf.fit(X_train, y_train)"
   ]
  },
  {
   "cell_type": "code",
   "execution_count": 474,
   "id": "6b5c8677",
   "metadata": {
    "ExecuteTime": {
     "end_time": "2021-09-04T18:09:20.750938Z",
     "start_time": "2021-09-04T18:09:20.728612Z"
    }
   },
   "outputs": [
    {
     "name": "stdout",
     "output_type": "stream",
     "text": [
      "0.8314606741573034\n"
     ]
    }
   ],
   "source": [
    "y_pred = lgb_clf.predict(X_val)\n",
    "print(accuracy_score(y_val, y_pred))"
   ]
  },
  {
   "cell_type": "markdown",
   "id": "197b9cbe",
   "metadata": {
    "id": "197b9cbe"
   },
   "source": [
    "### Random Forest(optimized parameters)"
   ]
  },
  {
   "cell_type": "code",
   "execution_count": 475,
   "id": "5a67732d",
   "metadata": {
    "ExecuteTime": {
     "end_time": "2021-09-04T18:09:20.870437Z",
     "start_time": "2021-09-04T18:09:20.762953Z"
    },
    "colab": {
     "base_uri": "https://localhost:8080/"
    },
    "id": "5a67732d",
    "outputId": "6ae08b40-9424-44c8-9356-f47539c8bb7e"
   },
   "outputs": [],
   "source": [
    "n_estimators = [int(x) for x in np.linspace(start = 100, stop = 2000, num = 10)]\n",
    "\n",
    "\n",
    "max_depth = [int(x) for x in np.linspace(10, 110, num = 11)]\n",
    "max_depth.append(None)\n",
    "\n",
    "\n",
    "min_samples_split = [2, 5, 10]\n",
    "\n",
    "min_samples_leaf = [1, 2, 4]\n",
    "\n",
    "\n",
    "param_grid = {'n_estimators': n_estimators,\n",
    "               'max_depth': max_depth,\n",
    "               'min_samples_split': min_samples_split,\n",
    "               'min_samples_leaf': min_samples_leaf}\n",
    "param_grid"
   ]
  },
  {
   "cell_type": "code",
   "execution_count": 476,
   "id": "74688d97",
   "metadata": {
    "ExecuteTime": {
     "end_time": "2021-09-04T18:09:21.008461Z",
     "start_time": "2021-09-04T18:09:20.880948Z"
    },
    "id": "74688d97"
   },
   "outputs": [],
   "source": [
    "rf = RandomForestClassifier(random_state=42)\n",
    "\n",
    "grid = GridSearchCV(estimator = rf, param_grid=param_grid, cv = 3, n_jobs=-1)\n",
    "\n",
    "grid_result = grid.fit(X_train, y_train)"
   ]
  },
  {
   "cell_type": "code",
   "execution_count": 477,
   "id": "c97bb670",
   "metadata": {
    "ExecuteTime": {
     "end_time": "2021-09-04T18:09:21.146512Z",
     "start_time": "2021-09-04T18:09:21.013215Z"
    },
    "colab": {
     "base_uri": "https://localhost:8080/"
    },
    "id": "c97bb670",
    "outputId": "91d3d519-ccc9-4aa2-9067-34702b06f5eb"
   },
   "outputs": [],
   "source": [
    "grid_result.best_params_"
   ]
  },
  {
   "cell_type": "code",
   "execution_count": 478,
   "id": "3NsFcjpgTcOT",
   "metadata": {
    "ExecuteTime": {
     "end_time": "2021-09-04T18:09:21.275895Z",
     "start_time": "2021-09-04T18:09:21.155513Z"
    },
    "colab": {
     "base_uri": "https://localhost:8080/"
    },
    "id": "3NsFcjpgTcOT",
    "outputId": "a7d20c06-0eff-4dfb-f05f-97c0ef574338"
   },
   "outputs": [],
   "source": [
    "grid_result.best_estimator_"
   ]
  },
  {
   "cell_type": "markdown",
   "id": "TnmXUA5ZFqrA",
   "metadata": {
    "id": "TnmXUA5ZFqrA"
   },
   "source": [
    "## Preprocessing the test set"
   ]
  },
  {
   "cell_type": "code",
   "execution_count": 414,
   "id": "QoA5dlbQT3HE",
   "metadata": {
    "ExecuteTime": {
     "end_time": "2021-09-04T16:05:56.589473Z",
     "start_time": "2021-09-04T16:05:56.445868Z"
    },
    "id": "QoA5dlbQT3HE"
   },
   "outputs": [],
   "source": [
    "X_test = preprocessor(X_test)"
   ]
  },
  {
   "cell_type": "code",
   "execution_count": 416,
   "id": "SdWiv-inHkmi",
   "metadata": {
    "ExecuteTime": {
     "end_time": "2021-09-04T16:05:56.853024Z",
     "start_time": "2021-09-04T16:05:56.746063Z"
    },
    "colab": {
     "base_uri": "https://localhost:8080/"
    },
    "id": "SdWiv-inHkmi",
    "outputId": "6f7c6917-24f1-487b-f5ad-9b9d477341ee"
   },
   "outputs": [
    {
     "data": {
      "text/plain": [
       "Pclass          0\n",
       "Sex             0\n",
       "Age            86\n",
       "Fare            1\n",
       "Embarked        0\n",
       "Title           0\n",
       "Family size     0\n",
       "dtype: int64"
      ]
     },
     "execution_count": 416,
     "metadata": {},
     "output_type": "execute_result"
    }
   ],
   "source": [
    "X_test.isna().sum()"
   ]
  },
  {
   "cell_type": "code",
   "execution_count": 417,
   "id": "Vwe409kAHA4r",
   "metadata": {
    "ExecuteTime": {
     "end_time": "2021-09-04T16:05:56.962955Z",
     "start_time": "2021-09-04T16:05:56.860397Z"
    },
    "id": "Vwe409kAHA4r"
   },
   "outputs": [],
   "source": [
    "X_test.drop(['Fare'], axis=1, inplace=True)"
   ]
  },
  {
   "cell_type": "code",
   "execution_count": 418,
   "id": "IdShwLTvIXWy",
   "metadata": {
    "ExecuteTime": {
     "end_time": "2021-09-04T16:05:57.094790Z",
     "start_time": "2021-09-04T16:05:56.968152Z"
    },
    "colab": {
     "base_uri": "https://localhost:8080/"
    },
    "id": "IdShwLTvIXWy",
    "outputId": "2b315535-1ddd-498e-8ea3-b9d58344be98"
   },
   "outputs": [
    {
     "data": {
      "text/plain": [
       "{'Col': 50.0,\n",
       " 'Dona': 39.0,\n",
       " 'Dr': 53.0,\n",
       " 'Master': 7.406470588235294,\n",
       " 'Miss': 21.77484375,\n",
       " 'Mr': 32.0,\n",
       " 'Mrs': 38.903225806451616,\n",
       " 'Ms': nan,\n",
       " 'Rev': 35.5}"
      ]
     },
     "execution_count": 418,
     "metadata": {},
     "output_type": "execute_result"
    }
   ],
   "source": [
    "title_age = X_test.groupby(\n",
    "    'Title')['Age'].mean()\n",
    "\n",
    "title_age = title_age.to_dict()\n",
    "title_age"
   ]
  },
  {
   "cell_type": "code",
   "execution_count": 419,
   "id": "lI1lg7pyI0a7",
   "metadata": {
    "ExecuteTime": {
     "end_time": "2021-09-04T16:05:57.195470Z",
     "start_time": "2021-09-04T16:05:57.101213Z"
    },
    "id": "lI1lg7pyI0a7"
   },
   "outputs": [],
   "source": [
    "title_age['Ms'] = 28"
   ]
  },
  {
   "cell_type": "code",
   "execution_count": 420,
   "id": "doqAVsIiIXW0",
   "metadata": {
    "ExecuteTime": {
     "end_time": "2021-09-04T16:05:57.335212Z",
     "start_time": "2021-09-04T16:05:57.202198Z"
    },
    "id": "doqAVsIiIXW0"
   },
   "outputs": [],
   "source": [
    "indexes = X_test.loc[X_test['Age'].isna()].index\n",
    "\n",
    "for index in indexes:\n",
    "    for key in title_age.keys():\n",
    "        if X_test['Title'][index] == key:\n",
    "            X_test['Age'][index] = title_age[key]"
   ]
  },
  {
   "cell_type": "code",
   "execution_count": 421,
   "id": "HswQHqjgJH6q",
   "metadata": {
    "ExecuteTime": {
     "end_time": "2021-09-04T16:05:57.401552Z",
     "start_time": "2021-09-04T16:05:57.337104Z"
    },
    "id": "HswQHqjgJH6q"
   },
   "outputs": [],
   "source": [
    "X_test.drop('Title', axis=1, inplace=True)"
   ]
  },
  {
   "cell_type": "code",
   "execution_count": 422,
   "id": "J_qOybbuJH6r",
   "metadata": {
    "ExecuteTime": {
     "end_time": "2021-09-04T16:05:57.522035Z",
     "start_time": "2021-09-04T16:05:57.403376Z"
    },
    "colab": {
     "base_uri": "https://localhost:8080/",
     "height": 414
    },
    "id": "J_qOybbuJH6r",
    "outputId": "166b03fe-31fe-46fa-e36a-c0f09a4d4d19"
   },
   "outputs": [
    {
     "data": {
      "text/html": [
       "<div>\n",
       "<style scoped>\n",
       "    .dataframe tbody tr th:only-of-type {\n",
       "        vertical-align: middle;\n",
       "    }\n",
       "\n",
       "    .dataframe tbody tr th {\n",
       "        vertical-align: top;\n",
       "    }\n",
       "\n",
       "    .dataframe thead th {\n",
       "        text-align: right;\n",
       "    }\n",
       "</style>\n",
       "<table border=\"1\" class=\"dataframe\">\n",
       "  <thead>\n",
       "    <tr style=\"text-align: right;\">\n",
       "      <th></th>\n",
       "      <th>Pclass</th>\n",
       "      <th>Age</th>\n",
       "      <th>Family size</th>\n",
       "      <th>Sex_male</th>\n",
       "      <th>Embarked_Q</th>\n",
       "      <th>Embarked_S</th>\n",
       "    </tr>\n",
       "  </thead>\n",
       "  <tbody>\n",
       "    <tr>\n",
       "      <th>0</th>\n",
       "      <td>3</td>\n",
       "      <td>34.500000</td>\n",
       "      <td>1</td>\n",
       "      <td>1</td>\n",
       "      <td>1</td>\n",
       "      <td>0</td>\n",
       "    </tr>\n",
       "    <tr>\n",
       "      <th>1</th>\n",
       "      <td>3</td>\n",
       "      <td>47.000000</td>\n",
       "      <td>2</td>\n",
       "      <td>0</td>\n",
       "      <td>0</td>\n",
       "      <td>1</td>\n",
       "    </tr>\n",
       "    <tr>\n",
       "      <th>2</th>\n",
       "      <td>2</td>\n",
       "      <td>62.000000</td>\n",
       "      <td>1</td>\n",
       "      <td>1</td>\n",
       "      <td>1</td>\n",
       "      <td>0</td>\n",
       "    </tr>\n",
       "    <tr>\n",
       "      <th>3</th>\n",
       "      <td>3</td>\n",
       "      <td>27.000000</td>\n",
       "      <td>1</td>\n",
       "      <td>1</td>\n",
       "      <td>0</td>\n",
       "      <td>1</td>\n",
       "    </tr>\n",
       "    <tr>\n",
       "      <th>4</th>\n",
       "      <td>3</td>\n",
       "      <td>22.000000</td>\n",
       "      <td>3</td>\n",
       "      <td>0</td>\n",
       "      <td>0</td>\n",
       "      <td>1</td>\n",
       "    </tr>\n",
       "    <tr>\n",
       "      <th>...</th>\n",
       "      <td>...</td>\n",
       "      <td>...</td>\n",
       "      <td>...</td>\n",
       "      <td>...</td>\n",
       "      <td>...</td>\n",
       "      <td>...</td>\n",
       "    </tr>\n",
       "    <tr>\n",
       "      <th>413</th>\n",
       "      <td>3</td>\n",
       "      <td>32.000000</td>\n",
       "      <td>1</td>\n",
       "      <td>1</td>\n",
       "      <td>0</td>\n",
       "      <td>1</td>\n",
       "    </tr>\n",
       "    <tr>\n",
       "      <th>414</th>\n",
       "      <td>1</td>\n",
       "      <td>39.000000</td>\n",
       "      <td>1</td>\n",
       "      <td>0</td>\n",
       "      <td>0</td>\n",
       "      <td>0</td>\n",
       "    </tr>\n",
       "    <tr>\n",
       "      <th>415</th>\n",
       "      <td>3</td>\n",
       "      <td>38.500000</td>\n",
       "      <td>1</td>\n",
       "      <td>1</td>\n",
       "      <td>0</td>\n",
       "      <td>1</td>\n",
       "    </tr>\n",
       "    <tr>\n",
       "      <th>416</th>\n",
       "      <td>3</td>\n",
       "      <td>32.000000</td>\n",
       "      <td>1</td>\n",
       "      <td>1</td>\n",
       "      <td>0</td>\n",
       "      <td>1</td>\n",
       "    </tr>\n",
       "    <tr>\n",
       "      <th>417</th>\n",
       "      <td>3</td>\n",
       "      <td>7.406471</td>\n",
       "      <td>3</td>\n",
       "      <td>1</td>\n",
       "      <td>0</td>\n",
       "      <td>0</td>\n",
       "    </tr>\n",
       "  </tbody>\n",
       "</table>\n",
       "<p>418 rows × 6 columns</p>\n",
       "</div>"
      ],
      "text/plain": [
       "     Pclass        Age  Family size  Sex_male  Embarked_Q  Embarked_S\n",
       "0         3  34.500000            1         1           1           0\n",
       "1         3  47.000000            2         0           0           1\n",
       "2         2  62.000000            1         1           1           0\n",
       "3         3  27.000000            1         1           0           1\n",
       "4         3  22.000000            3         0           0           1\n",
       "..      ...        ...          ...       ...         ...         ...\n",
       "413       3  32.000000            1         1           0           1\n",
       "414       1  39.000000            1         0           0           0\n",
       "415       3  38.500000            1         1           0           1\n",
       "416       3  32.000000            1         1           0           1\n",
       "417       3   7.406471            3         1           0           0\n",
       "\n",
       "[418 rows x 6 columns]"
      ]
     },
     "execution_count": 422,
     "metadata": {},
     "output_type": "execute_result"
    }
   ],
   "source": [
    "X_test = pd.get_dummies(X_test, drop_first=True)\n",
    "X_test"
   ]
  },
  {
   "cell_type": "markdown",
   "id": "6aDeNrkrJUrt",
   "metadata": {
    "id": "6aDeNrkrJUrt"
   },
   "source": [
    "### Predicting the test set"
   ]
  },
  {
   "cell_type": "code",
   "execution_count": 423,
   "id": "51ACOZgfJaZ5",
   "metadata": {
    "ExecuteTime": {
     "end_time": "2021-09-04T16:05:57.709130Z",
     "start_time": "2021-09-04T16:05:57.524392Z"
    },
    "id": "51ACOZgfJaZ5"
   },
   "outputs": [],
   "source": [
    "y_pred = lgb_clf.predict(X_test)"
   ]
  }
 ],
 "metadata": {
  "accelerator": "GPU",
  "colab": {
   "collapsed_sections": [],
   "name": "survived-or-not.ipynb",
   "provenance": []
  },
  "kernelspec": {
   "display_name": "Python 3 (ipykernel)",
   "language": "python",
   "name": "python3"
  },
  "language_info": {
   "codemirror_mode": {
    "name": "ipython",
    "version": 3
   },
   "file_extension": ".py",
   "mimetype": "text/x-python",
   "name": "python",
   "nbconvert_exporter": "python",
   "pygments_lexer": "ipython3",
   "version": "3.9.5"
  },
  "varInspector": {
   "cols": {
    "lenName": 16,
    "lenType": 16,
    "lenVar": 40
   },
   "kernels_config": {
    "python": {
     "delete_cmd_postfix": "",
     "delete_cmd_prefix": "del ",
     "library": "var_list.py",
     "varRefreshCmd": "print(var_dic_list())"
    },
    "r": {
     "delete_cmd_postfix": ") ",
     "delete_cmd_prefix": "rm(",
     "library": "var_list.r",
     "varRefreshCmd": "cat(var_dic_list()) "
    }
   },
   "types_to_exclude": [
    "module",
    "function",
    "builtin_function_or_method",
    "instance",
    "_Feature"
   ],
   "window_display": false
  }
 },
 "nbformat": 4,
 "nbformat_minor": 5
}
