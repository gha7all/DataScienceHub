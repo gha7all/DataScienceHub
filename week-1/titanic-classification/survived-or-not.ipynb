{
 "cells": [
  {
   "cell_type": "code",
   "execution_count": 422,
   "id": "39d26cc3",
   "metadata": {
    "ExecuteTime": {
     "end_time": "2021-08-27T13:08:33.332177Z",
     "start_time": "2021-08-27T13:08:33.322069Z"
    }
   },
   "outputs": [],
   "source": [
    "import pandas as pd\n",
    "import numpy as np\n",
    "import seaborn as sns\n",
    "from matplotlib import pyplot as plt\n",
    "from warnings import filterwarnings\n",
    "from sklearn.model_selection import train_test_split\n",
    "from sklearn.preprocessing import LabelEncoder\n",
    "from sklearn.impute import SimpleImputer\n",
    "from scipy.stats import norm\n",
    "from sklearn.tree import DecisionTreeClassifier\n",
    "from sklearn.linear_model import LogisticRegression\n",
    "from sklearn.metrics import accuracy_score, classification_report, confusion_matrix\n",
    "from sklearn.ensemble import RandomForestClassifier\n",
    "from sklearn.neighbors import KNeighborsClassifier\n",
    "from sklearn.svm import SVC\n",
    "import lightgbm as lgb"
   ]
  },
  {
   "cell_type": "code",
   "execution_count": 423,
   "id": "f63caa2c",
   "metadata": {
    "ExecuteTime": {
     "end_time": "2021-08-27T13:08:33.478465Z",
     "start_time": "2021-08-27T13:08:33.335552Z"
    }
   },
   "outputs": [],
   "source": [
    "pd.options.mode.chained_assignment = None "
   ]
  },
  {
   "cell_type": "markdown",
   "id": "c80a780a",
   "metadata": {},
   "source": [
    "## Loading datasets"
   ]
  },
  {
   "cell_type": "code",
   "execution_count": 424,
   "id": "3b78f0dc",
   "metadata": {
    "ExecuteTime": {
     "end_time": "2021-08-27T13:08:33.592538Z",
     "start_time": "2021-08-27T13:08:33.480532Z"
    }
   },
   "outputs": [],
   "source": [
    "train_df = pd.read_csv('dataset/train.csv')\n",
    "X_test = pd.read_csv('dataset/test.csv')"
   ]
  },
  {
   "cell_type": "code",
   "execution_count": 425,
   "id": "2441223d",
   "metadata": {
    "ExecuteTime": {
     "end_time": "2021-08-27T13:08:33.679554Z",
     "start_time": "2021-08-27T13:08:33.597164Z"
    }
   },
   "outputs": [
    {
     "data": {
      "text/html": [
       "<div>\n",
       "<style scoped>\n",
       "    .dataframe tbody tr th:only-of-type {\n",
       "        vertical-align: middle;\n",
       "    }\n",
       "\n",
       "    .dataframe tbody tr th {\n",
       "        vertical-align: top;\n",
       "    }\n",
       "\n",
       "    .dataframe thead th {\n",
       "        text-align: right;\n",
       "    }\n",
       "</style>\n",
       "<table border=\"1\" class=\"dataframe\">\n",
       "  <thead>\n",
       "    <tr style=\"text-align: right;\">\n",
       "      <th></th>\n",
       "      <th>PassengerId</th>\n",
       "      <th>Survived</th>\n",
       "      <th>Pclass</th>\n",
       "      <th>Name</th>\n",
       "      <th>Sex</th>\n",
       "      <th>Age</th>\n",
       "      <th>SibSp</th>\n",
       "      <th>Parch</th>\n",
       "      <th>Ticket</th>\n",
       "      <th>Fare</th>\n",
       "      <th>Cabin</th>\n",
       "      <th>Embarked</th>\n",
       "    </tr>\n",
       "  </thead>\n",
       "  <tbody>\n",
       "    <tr>\n",
       "      <th>0</th>\n",
       "      <td>1</td>\n",
       "      <td>0</td>\n",
       "      <td>3</td>\n",
       "      <td>Braund, Mr. Owen Harris</td>\n",
       "      <td>male</td>\n",
       "      <td>22.0</td>\n",
       "      <td>1</td>\n",
       "      <td>0</td>\n",
       "      <td>A/5 21171</td>\n",
       "      <td>7.2500</td>\n",
       "      <td>NaN</td>\n",
       "      <td>S</td>\n",
       "    </tr>\n",
       "    <tr>\n",
       "      <th>1</th>\n",
       "      <td>2</td>\n",
       "      <td>1</td>\n",
       "      <td>1</td>\n",
       "      <td>Cumings, Mrs. John Bradley (Florence Briggs Th...</td>\n",
       "      <td>female</td>\n",
       "      <td>38.0</td>\n",
       "      <td>1</td>\n",
       "      <td>0</td>\n",
       "      <td>PC 17599</td>\n",
       "      <td>71.2833</td>\n",
       "      <td>C85</td>\n",
       "      <td>C</td>\n",
       "    </tr>\n",
       "    <tr>\n",
       "      <th>2</th>\n",
       "      <td>3</td>\n",
       "      <td>1</td>\n",
       "      <td>3</td>\n",
       "      <td>Heikkinen, Miss. Laina</td>\n",
       "      <td>female</td>\n",
       "      <td>26.0</td>\n",
       "      <td>0</td>\n",
       "      <td>0</td>\n",
       "      <td>STON/O2. 3101282</td>\n",
       "      <td>7.9250</td>\n",
       "      <td>NaN</td>\n",
       "      <td>S</td>\n",
       "    </tr>\n",
       "    <tr>\n",
       "      <th>3</th>\n",
       "      <td>4</td>\n",
       "      <td>1</td>\n",
       "      <td>1</td>\n",
       "      <td>Futrelle, Mrs. Jacques Heath (Lily May Peel)</td>\n",
       "      <td>female</td>\n",
       "      <td>35.0</td>\n",
       "      <td>1</td>\n",
       "      <td>0</td>\n",
       "      <td>113803</td>\n",
       "      <td>53.1000</td>\n",
       "      <td>C123</td>\n",
       "      <td>S</td>\n",
       "    </tr>\n",
       "    <tr>\n",
       "      <th>4</th>\n",
       "      <td>5</td>\n",
       "      <td>0</td>\n",
       "      <td>3</td>\n",
       "      <td>Allen, Mr. William Henry</td>\n",
       "      <td>male</td>\n",
       "      <td>35.0</td>\n",
       "      <td>0</td>\n",
       "      <td>0</td>\n",
       "      <td>373450</td>\n",
       "      <td>8.0500</td>\n",
       "      <td>NaN</td>\n",
       "      <td>S</td>\n",
       "    </tr>\n",
       "  </tbody>\n",
       "</table>\n",
       "</div>"
      ],
      "text/plain": [
       "   PassengerId  Survived  Pclass  \\\n",
       "0            1         0       3   \n",
       "1            2         1       1   \n",
       "2            3         1       3   \n",
       "3            4         1       1   \n",
       "4            5         0       3   \n",
       "\n",
       "                                                Name     Sex   Age  SibSp  \\\n",
       "0                            Braund, Mr. Owen Harris    male  22.0      1   \n",
       "1  Cumings, Mrs. John Bradley (Florence Briggs Th...  female  38.0      1   \n",
       "2                             Heikkinen, Miss. Laina  female  26.0      0   \n",
       "3       Futrelle, Mrs. Jacques Heath (Lily May Peel)  female  35.0      1   \n",
       "4                           Allen, Mr. William Henry    male  35.0      0   \n",
       "\n",
       "   Parch            Ticket     Fare Cabin Embarked  \n",
       "0      0         A/5 21171   7.2500   NaN        S  \n",
       "1      0          PC 17599  71.2833   C85        C  \n",
       "2      0  STON/O2. 3101282   7.9250   NaN        S  \n",
       "3      0            113803  53.1000  C123        S  \n",
       "4      0            373450   8.0500   NaN        S  "
      ]
     },
     "execution_count": 425,
     "metadata": {},
     "output_type": "execute_result"
    }
   ],
   "source": [
    "train_df.head()"
   ]
  },
  {
   "cell_type": "code",
   "execution_count": 426,
   "id": "28e3d2db",
   "metadata": {
    "ExecuteTime": {
     "end_time": "2021-08-27T13:08:33.819848Z",
     "start_time": "2021-08-27T13:08:33.681561Z"
    }
   },
   "outputs": [
    {
     "name": "stdout",
     "output_type": "stream",
     "text": [
      "<class 'pandas.core.frame.DataFrame'>\n",
      "RangeIndex: 891 entries, 0 to 890\n",
      "Data columns (total 12 columns):\n",
      " #   Column       Non-Null Count  Dtype  \n",
      "---  ------       --------------  -----  \n",
      " 0   PassengerId  891 non-null    int64  \n",
      " 1   Survived     891 non-null    int64  \n",
      " 2   Pclass       891 non-null    int64  \n",
      " 3   Name         891 non-null    object \n",
      " 4   Sex          891 non-null    object \n",
      " 5   Age          714 non-null    float64\n",
      " 6   SibSp        891 non-null    int64  \n",
      " 7   Parch        891 non-null    int64  \n",
      " 8   Ticket       891 non-null    object \n",
      " 9   Fare         891 non-null    float64\n",
      " 10  Cabin        204 non-null    object \n",
      " 11  Embarked     889 non-null    object \n",
      "dtypes: float64(2), int64(5), object(5)\n",
      "memory usage: 83.7+ KB\n"
     ]
    }
   ],
   "source": [
    "train_df.info()"
   ]
  },
  {
   "cell_type": "code",
   "execution_count": 427,
   "id": "839cd43c",
   "metadata": {
    "ExecuteTime": {
     "end_time": "2021-08-27T13:08:33.944255Z",
     "start_time": "2021-08-27T13:08:33.825103Z"
    }
   },
   "outputs": [],
   "source": [
    "# includes creating a new feature \"family size\" and dropping useless columns\n",
    "\n",
    "def preprocessor(df):\n",
    "    df.drop(['PassengerId', 'Name', 'Ticket', 'Cabin'], axis=1, inplace=True)\n",
    "    df['Family size'] = df['SibSp']+df['Parch']+1\n",
    "    df.drop(['Parch', 'SibSp'], axis=1, inplace=True)\n",
    "\n",
    "    return df"
   ]
  },
  {
   "cell_type": "code",
   "execution_count": 428,
   "id": "c99ec488",
   "metadata": {
    "ExecuteTime": {
     "end_time": "2021-08-27T13:08:34.042382Z",
     "start_time": "2021-08-27T13:08:33.946297Z"
    }
   },
   "outputs": [
    {
     "data": {
      "text/html": [
       "<div>\n",
       "<style scoped>\n",
       "    .dataframe tbody tr th:only-of-type {\n",
       "        vertical-align: middle;\n",
       "    }\n",
       "\n",
       "    .dataframe tbody tr th {\n",
       "        vertical-align: top;\n",
       "    }\n",
       "\n",
       "    .dataframe thead th {\n",
       "        text-align: right;\n",
       "    }\n",
       "</style>\n",
       "<table border=\"1\" class=\"dataframe\">\n",
       "  <thead>\n",
       "    <tr style=\"text-align: right;\">\n",
       "      <th></th>\n",
       "      <th>Survived</th>\n",
       "      <th>Pclass</th>\n",
       "      <th>Sex</th>\n",
       "      <th>Age</th>\n",
       "      <th>Fare</th>\n",
       "      <th>Embarked</th>\n",
       "      <th>Family size</th>\n",
       "    </tr>\n",
       "  </thead>\n",
       "  <tbody>\n",
       "    <tr>\n",
       "      <th>0</th>\n",
       "      <td>0</td>\n",
       "      <td>3</td>\n",
       "      <td>male</td>\n",
       "      <td>22.0</td>\n",
       "      <td>7.2500</td>\n",
       "      <td>S</td>\n",
       "      <td>2</td>\n",
       "    </tr>\n",
       "    <tr>\n",
       "      <th>1</th>\n",
       "      <td>1</td>\n",
       "      <td>1</td>\n",
       "      <td>female</td>\n",
       "      <td>38.0</td>\n",
       "      <td>71.2833</td>\n",
       "      <td>C</td>\n",
       "      <td>2</td>\n",
       "    </tr>\n",
       "    <tr>\n",
       "      <th>2</th>\n",
       "      <td>1</td>\n",
       "      <td>3</td>\n",
       "      <td>female</td>\n",
       "      <td>26.0</td>\n",
       "      <td>7.9250</td>\n",
       "      <td>S</td>\n",
       "      <td>1</td>\n",
       "    </tr>\n",
       "    <tr>\n",
       "      <th>3</th>\n",
       "      <td>1</td>\n",
       "      <td>1</td>\n",
       "      <td>female</td>\n",
       "      <td>35.0</td>\n",
       "      <td>53.1000</td>\n",
       "      <td>S</td>\n",
       "      <td>2</td>\n",
       "    </tr>\n",
       "    <tr>\n",
       "      <th>4</th>\n",
       "      <td>0</td>\n",
       "      <td>3</td>\n",
       "      <td>male</td>\n",
       "      <td>35.0</td>\n",
       "      <td>8.0500</td>\n",
       "      <td>S</td>\n",
       "      <td>1</td>\n",
       "    </tr>\n",
       "    <tr>\n",
       "      <th>...</th>\n",
       "      <td>...</td>\n",
       "      <td>...</td>\n",
       "      <td>...</td>\n",
       "      <td>...</td>\n",
       "      <td>...</td>\n",
       "      <td>...</td>\n",
       "      <td>...</td>\n",
       "    </tr>\n",
       "    <tr>\n",
       "      <th>886</th>\n",
       "      <td>0</td>\n",
       "      <td>2</td>\n",
       "      <td>male</td>\n",
       "      <td>27.0</td>\n",
       "      <td>13.0000</td>\n",
       "      <td>S</td>\n",
       "      <td>1</td>\n",
       "    </tr>\n",
       "    <tr>\n",
       "      <th>887</th>\n",
       "      <td>1</td>\n",
       "      <td>1</td>\n",
       "      <td>female</td>\n",
       "      <td>19.0</td>\n",
       "      <td>30.0000</td>\n",
       "      <td>S</td>\n",
       "      <td>1</td>\n",
       "    </tr>\n",
       "    <tr>\n",
       "      <th>888</th>\n",
       "      <td>0</td>\n",
       "      <td>3</td>\n",
       "      <td>female</td>\n",
       "      <td>NaN</td>\n",
       "      <td>23.4500</td>\n",
       "      <td>S</td>\n",
       "      <td>4</td>\n",
       "    </tr>\n",
       "    <tr>\n",
       "      <th>889</th>\n",
       "      <td>1</td>\n",
       "      <td>1</td>\n",
       "      <td>male</td>\n",
       "      <td>26.0</td>\n",
       "      <td>30.0000</td>\n",
       "      <td>C</td>\n",
       "      <td>1</td>\n",
       "    </tr>\n",
       "    <tr>\n",
       "      <th>890</th>\n",
       "      <td>0</td>\n",
       "      <td>3</td>\n",
       "      <td>male</td>\n",
       "      <td>32.0</td>\n",
       "      <td>7.7500</td>\n",
       "      <td>Q</td>\n",
       "      <td>1</td>\n",
       "    </tr>\n",
       "  </tbody>\n",
       "</table>\n",
       "<p>891 rows × 7 columns</p>\n",
       "</div>"
      ],
      "text/plain": [
       "     Survived  Pclass     Sex   Age     Fare Embarked  Family size\n",
       "0           0       3    male  22.0   7.2500        S            2\n",
       "1           1       1  female  38.0  71.2833        C            2\n",
       "2           1       3  female  26.0   7.9250        S            1\n",
       "3           1       1  female  35.0  53.1000        S            2\n",
       "4           0       3    male  35.0   8.0500        S            1\n",
       "..        ...     ...     ...   ...      ...      ...          ...\n",
       "886         0       2    male  27.0  13.0000        S            1\n",
       "887         1       1  female  19.0  30.0000        S            1\n",
       "888         0       3  female   NaN  23.4500        S            4\n",
       "889         1       1    male  26.0  30.0000        C            1\n",
       "890         0       3    male  32.0   7.7500        Q            1\n",
       "\n",
       "[891 rows x 7 columns]"
      ]
     },
     "execution_count": 428,
     "metadata": {},
     "output_type": "execute_result"
    }
   ],
   "source": [
    "preprocessor(train_df)"
   ]
  },
  {
   "cell_type": "markdown",
   "id": "378c1b2c",
   "metadata": {
    "ExecuteTime": {
     "end_time": "2021-08-21T09:08:19.531097Z",
     "start_time": "2021-08-21T09:08:19.525966Z"
    }
   },
   "source": [
    "## Some info about the dataset"
   ]
  },
  {
   "cell_type": "code",
   "execution_count": 429,
   "id": "0adfc654",
   "metadata": {
    "ExecuteTime": {
     "end_time": "2021-08-27T13:08:34.144649Z",
     "start_time": "2021-08-27T13:08:34.048310Z"
    }
   },
   "outputs": [],
   "source": [
    "# some barplots to see how the dataset looks like\n",
    "\n",
    "def bar_visualizer(df):\n",
    "    plot = sns.barplot(x=df[df.columns[0]],\n",
    "                       y=df[df.columns[1]], palette='muted')\n",
    "    for bar in plot.patches:\n",
    "        plot.annotate(format(bar.get_height(), 'g'),\n",
    "                      (bar.get_x() + bar.get_width() / 2,\n",
    "                       bar.get_height()), ha='center', va='center',\n",
    "                      size=12, xytext=(0, 4),\n",
    "                      textcoords='offset points')"
   ]
  },
  {
   "cell_type": "code",
   "execution_count": 430,
   "id": "8ed4098d",
   "metadata": {
    "ExecuteTime": {
     "end_time": "2021-08-27T13:08:34.298239Z",
     "start_time": "2021-08-27T13:08:34.149360Z"
    }
   },
   "outputs": [],
   "source": [
    "temp = train_df[['Sex', 'Survived']].groupby(\n",
    "    'Sex', as_index=False)['Survived'].sum()"
   ]
  },
  {
   "cell_type": "code",
   "execution_count": 431,
   "id": "106ce487",
   "metadata": {
    "ExecuteTime": {
     "end_time": "2021-08-27T13:08:34.473761Z",
     "start_time": "2021-08-27T13:08:34.303340Z"
    }
   },
   "outputs": [
    {
     "data": {
      "image/png": "[encoded data removed]",
      "text/plain": [
       "<Figure size 432x288 with 1 Axes>"
      ]
     },
     "metadata": {
      "needs_background": "light"
     },
     "output_type": "display_data"
    }
   ],
   "source": [
    "bar_visualizer(temp)"
   ]
  },
  {
   "cell_type": "code",
   "execution_count": 432,
   "id": "5e8733f0",
   "metadata": {
    "ExecuteTime": {
     "end_time": "2021-08-27T13:08:34.517689Z",
     "start_time": "2021-08-27T13:08:34.476115Z"
    }
   },
   "outputs": [
    {
     "data": {
      "text/html": [
       "<div>\n",
       "<style scoped>\n",
       "    .dataframe tbody tr th:only-of-type {\n",
       "        vertical-align: middle;\n",
       "    }\n",
       "\n",
       "    .dataframe tbody tr th {\n",
       "        vertical-align: top;\n",
       "    }\n",
       "\n",
       "    .dataframe thead th {\n",
       "        text-align: right;\n",
       "    }\n",
       "</style>\n",
       "<table border=\"1\" class=\"dataframe\">\n",
       "  <thead>\n",
       "    <tr style=\"text-align: right;\">\n",
       "      <th></th>\n",
       "      <th>Pclass</th>\n",
       "      <th>Survived</th>\n",
       "    </tr>\n",
       "  </thead>\n",
       "  <tbody>\n",
       "    <tr>\n",
       "      <th>0</th>\n",
       "      <td>1</td>\n",
       "      <td>136</td>\n",
       "    </tr>\n",
       "    <tr>\n",
       "      <th>1</th>\n",
       "      <td>2</td>\n",
       "      <td>87</td>\n",
       "    </tr>\n",
       "    <tr>\n",
       "      <th>2</th>\n",
       "      <td>3</td>\n",
       "      <td>119</td>\n",
       "    </tr>\n",
       "  </tbody>\n",
       "</table>\n",
       "</div>"
      ],
      "text/plain": [
       "   Pclass  Survived\n",
       "0       1       136\n",
       "1       2        87\n",
       "2       3       119"
      ]
     },
     "execution_count": 432,
     "metadata": {},
     "output_type": "execute_result"
    }
   ],
   "source": [
    "temp = train_df[['Pclass', 'Survived']].groupby(\n",
    "    'Pclass', as_index=False)['Survived'].sum()\n",
    "temp"
   ]
  },
  {
   "cell_type": "code",
   "execution_count": 433,
   "id": "8b204ff1",
   "metadata": {
    "ExecuteTime": {
     "end_time": "2021-08-27T13:08:35.036065Z",
     "start_time": "2021-08-27T13:08:34.521367Z"
    }
   },
   "outputs": [
    {
     "data": {
      "image/png": "[encoded data removed]",
      "text/plain": [
       "<Figure size 432x288 with 1 Axes>"
      ]
     },
     "metadata": {
      "needs_background": "light"
     },
     "output_type": "display_data"
    }
   ],
   "source": [
    "bar_visualizer(temp)"
   ]
  },
  {
   "cell_type": "code",
   "execution_count": 434,
   "id": "4e36e4a5",
   "metadata": {
    "ExecuteTime": {
     "end_time": "2021-08-27T13:08:35.044344Z",
     "start_time": "2021-08-27T13:08:35.038271Z"
    }
   },
   "outputs": [],
   "source": [
    "temp = train_df[['Embarked', 'Survived']].groupby(\n",
    "    'Embarked', as_index=False)['Survived'].sum()"
   ]
  },
  {
   "cell_type": "code",
   "execution_count": 435,
   "id": "336a2f4d",
   "metadata": {
    "ExecuteTime": {
     "end_time": "2021-08-27T13:08:35.259574Z",
     "start_time": "2021-08-27T13:08:35.046252Z"
    }
   },
   "outputs": [
    {
     "data": {
      "image/png": "[encoded data removed]",
      "text/plain": [
       "<Figure size 432x288 with 1 Axes>"
      ]
     },
     "metadata": {
      "needs_background": "light"
     },
     "output_type": "display_data"
    }
   ],
   "source": [
    "bar_visualizer(temp)"
   ]
  },
  {
   "cell_type": "code",
   "execution_count": 436,
   "id": "d4cbc3b4",
   "metadata": {
    "ExecuteTime": {
     "end_time": "2021-08-27T13:08:35.282275Z",
     "start_time": "2021-08-27T13:08:35.261300Z"
    }
   },
   "outputs": [],
   "source": [
    "temp = train_df[['Survived', 'Family size']].groupby(\n",
    "    'Family size', as_index=False)['Survived'].sum()"
   ]
  },
  {
   "cell_type": "code",
   "execution_count": 437,
   "id": "1822d7b0",
   "metadata": {
    "ExecuteTime": {
     "end_time": "2021-08-27T13:08:35.584487Z",
     "start_time": "2021-08-27T13:08:35.284148Z"
    }
   },
   "outputs": [
    {
     "data": {
      "image/png": "[encoded data removed]",
      "text/plain": [
       "<Figure size 432x288 with 1 Axes>"
      ]
     },
     "metadata": {
      "needs_background": "light"
     },
     "output_type": "display_data"
    }
   ],
   "source": [
    "bar_visualizer(temp)"
   ]
  },
  {
   "cell_type": "code",
   "execution_count": 438,
   "id": "1ac065ba",
   "metadata": {
    "ExecuteTime": {
     "end_time": "2021-08-27T13:08:35.599258Z",
     "start_time": "2021-08-27T13:08:35.586814Z"
    }
   },
   "outputs": [
    {
     "data": {
      "text/html": [
       "<div>\n",
       "<style scoped>\n",
       "    .dataframe tbody tr th:only-of-type {\n",
       "        vertical-align: middle;\n",
       "    }\n",
       "\n",
       "    .dataframe tbody tr th {\n",
       "        vertical-align: top;\n",
       "    }\n",
       "\n",
       "    .dataframe thead th {\n",
       "        text-align: right;\n",
       "    }\n",
       "</style>\n",
       "<table border=\"1\" class=\"dataframe\">\n",
       "  <thead>\n",
       "    <tr style=\"text-align: right;\">\n",
       "      <th></th>\n",
       "      <th>Survived</th>\n",
       "      <th>Age</th>\n",
       "    </tr>\n",
       "  </thead>\n",
       "  <tbody>\n",
       "    <tr>\n",
       "      <th>0</th>\n",
       "      <td>0</td>\n",
       "      <td>30.626179</td>\n",
       "    </tr>\n",
       "    <tr>\n",
       "      <th>1</th>\n",
       "      <td>1</td>\n",
       "      <td>28.343690</td>\n",
       "    </tr>\n",
       "  </tbody>\n",
       "</table>\n",
       "</div>"
      ],
      "text/plain": [
       "   Survived        Age\n",
       "0         0  30.626179\n",
       "1         1  28.343690"
      ]
     },
     "execution_count": 438,
     "metadata": {},
     "output_type": "execute_result"
    }
   ],
   "source": [
    "temp = train_df[['Survived', 'Age']].groupby(\n",
    "    'Survived', as_index=False)['Age'].mean()\n",
    "temp"
   ]
  },
  {
   "cell_type": "code",
   "execution_count": 439,
   "id": "0a7c578f",
   "metadata": {
    "ExecuteTime": {
     "end_time": "2021-08-27T13:08:35.784621Z",
     "start_time": "2021-08-27T13:08:35.601020Z"
    }
   },
   "outputs": [
    {
     "data": {
      "image/png": "[encoded data removed]",
      "text/plain": [
       "<Figure size 432x288 with 1 Axes>"
      ]
     },
     "metadata": {
      "needs_background": "light"
     },
     "output_type": "display_data"
    }
   ],
   "source": [
    "bar_visualizer(temp)"
   ]
  },
  {
   "cell_type": "markdown",
   "id": "4a67b88b",
   "metadata": {},
   "source": [
    "## Checking missing values"
   ]
  },
  {
   "cell_type": "code",
   "execution_count": 440,
   "id": "1b44176c",
   "metadata": {
    "ExecuteTime": {
     "end_time": "2021-08-27T13:08:35.795551Z",
     "start_time": "2021-08-27T13:08:35.787192Z"
    }
   },
   "outputs": [
    {
     "data": {
      "text/plain": [
       "Survived         0\n",
       "Pclass           0\n",
       "Sex              0\n",
       "Age            177\n",
       "Fare             0\n",
       "Embarked         2\n",
       "Family size      0\n",
       "dtype: int64"
      ]
     },
     "execution_count": 440,
     "metadata": {},
     "output_type": "execute_result"
    }
   ],
   "source": [
    "train_df.isna().sum()"
   ]
  },
  {
   "cell_type": "code",
   "execution_count": 441,
   "id": "5ce5f6ba",
   "metadata": {
    "ExecuteTime": {
     "end_time": "2021-08-27T13:08:35.886019Z",
     "start_time": "2021-08-27T13:08:35.798149Z"
    }
   },
   "outputs": [],
   "source": [
    "# there are just two of missing values in this column, we can easily drop them.\n",
    "\n",
    "train_df.dropna(subset=['Embarked'], inplace=True)"
   ]
  },
  {
   "cell_type": "markdown",
   "id": "aa098e3e",
   "metadata": {},
   "source": [
    "### Label encoder"
   ]
  },
  {
   "cell_type": "code",
   "execution_count": 442,
   "id": "2b0e4b12",
   "metadata": {
    "ExecuteTime": {
     "end_time": "2021-08-27T13:08:35.982461Z",
     "start_time": "2021-08-27T13:08:35.894107Z"
    }
   },
   "outputs": [],
   "source": [
    "le = LabelEncoder()\n",
    "for col in ['Embarked', 'Sex']:\n",
    "    train_df[col] = le.fit_transform(train_df[col])"
   ]
  },
  {
   "cell_type": "markdown",
   "id": "73ca919b",
   "metadata": {},
   "source": [
    "Sex: 1 male, 0 female <br>\n",
    "Embarked: 2 S, 0 C, 1 Q"
   ]
  },
  {
   "cell_type": "markdown",
   "id": "fe63ba21",
   "metadata": {},
   "source": [
    "### Data correlation"
   ]
  },
  {
   "cell_type": "code",
   "execution_count": 443,
   "id": "0cd5f82e",
   "metadata": {
    "ExecuteTime": {
     "end_time": "2021-08-27T13:08:36.501702Z",
     "start_time": "2021-08-27T13:08:35.989092Z"
    }
   },
   "outputs": [
    {
     "data": {
      "text/plain": [
       "<AxesSubplot:>"
      ]
     },
     "execution_count": 443,
     "metadata": {},
     "output_type": "execute_result"
    },
    {
     "data": {
      "image/png": "[encoded data removed]",
      "text/plain": [
       "<Figure size 432x288 with 2 Axes>"
      ]
     },
     "metadata": {
      "needs_background": "light"
     },
     "output_type": "display_data"
    }
   ],
   "source": [
    "sns.heatmap(train_df.corr(), cmap='Greys', annot=True)"
   ]
  },
  {
   "cell_type": "markdown",
   "id": "fb6b552f",
   "metadata": {},
   "source": [
    "## Train and Validation split"
   ]
  },
  {
   "cell_type": "code",
   "execution_count": 444,
   "id": "550a91f2",
   "metadata": {
    "ExecuteTime": {
     "end_time": "2021-08-27T13:08:36.525265Z",
     "start_time": "2021-08-27T13:08:36.504169Z"
    }
   },
   "outputs": [
    {
     "data": {
      "text/html": [
       "<div>\n",
       "<style scoped>\n",
       "    .dataframe tbody tr th:only-of-type {\n",
       "        vertical-align: middle;\n",
       "    }\n",
       "\n",
       "    .dataframe tbody tr th {\n",
       "        vertical-align: top;\n",
       "    }\n",
       "\n",
       "    .dataframe thead th {\n",
       "        text-align: right;\n",
       "    }\n",
       "</style>\n",
       "<table border=\"1\" class=\"dataframe\">\n",
       "  <thead>\n",
       "    <tr style=\"text-align: right;\">\n",
       "      <th></th>\n",
       "      <th>Pclass</th>\n",
       "      <th>Sex</th>\n",
       "      <th>Age</th>\n",
       "      <th>Fare</th>\n",
       "      <th>Embarked</th>\n",
       "      <th>Family size</th>\n",
       "    </tr>\n",
       "  </thead>\n",
       "  <tbody>\n",
       "    <tr>\n",
       "      <th>0</th>\n",
       "      <td>3</td>\n",
       "      <td>1</td>\n",
       "      <td>22.0</td>\n",
       "      <td>7.2500</td>\n",
       "      <td>2</td>\n",
       "      <td>2</td>\n",
       "    </tr>\n",
       "    <tr>\n",
       "      <th>1</th>\n",
       "      <td>1</td>\n",
       "      <td>0</td>\n",
       "      <td>38.0</td>\n",
       "      <td>71.2833</td>\n",
       "      <td>0</td>\n",
       "      <td>2</td>\n",
       "    </tr>\n",
       "    <tr>\n",
       "      <th>2</th>\n",
       "      <td>3</td>\n",
       "      <td>0</td>\n",
       "      <td>26.0</td>\n",
       "      <td>7.9250</td>\n",
       "      <td>2</td>\n",
       "      <td>1</td>\n",
       "    </tr>\n",
       "    <tr>\n",
       "      <th>3</th>\n",
       "      <td>1</td>\n",
       "      <td>0</td>\n",
       "      <td>35.0</td>\n",
       "      <td>53.1000</td>\n",
       "      <td>2</td>\n",
       "      <td>2</td>\n",
       "    </tr>\n",
       "    <tr>\n",
       "      <th>4</th>\n",
       "      <td>3</td>\n",
       "      <td>1</td>\n",
       "      <td>35.0</td>\n",
       "      <td>8.0500</td>\n",
       "      <td>2</td>\n",
       "      <td>1</td>\n",
       "    </tr>\n",
       "    <tr>\n",
       "      <th>...</th>\n",
       "      <td>...</td>\n",
       "      <td>...</td>\n",
       "      <td>...</td>\n",
       "      <td>...</td>\n",
       "      <td>...</td>\n",
       "      <td>...</td>\n",
       "    </tr>\n",
       "    <tr>\n",
       "      <th>886</th>\n",
       "      <td>2</td>\n",
       "      <td>1</td>\n",
       "      <td>27.0</td>\n",
       "      <td>13.0000</td>\n",
       "      <td>2</td>\n",
       "      <td>1</td>\n",
       "    </tr>\n",
       "    <tr>\n",
       "      <th>887</th>\n",
       "      <td>1</td>\n",
       "      <td>0</td>\n",
       "      <td>19.0</td>\n",
       "      <td>30.0000</td>\n",
       "      <td>2</td>\n",
       "      <td>1</td>\n",
       "    </tr>\n",
       "    <tr>\n",
       "      <th>888</th>\n",
       "      <td>3</td>\n",
       "      <td>0</td>\n",
       "      <td>NaN</td>\n",
       "      <td>23.4500</td>\n",
       "      <td>2</td>\n",
       "      <td>4</td>\n",
       "    </tr>\n",
       "    <tr>\n",
       "      <th>889</th>\n",
       "      <td>1</td>\n",
       "      <td>1</td>\n",
       "      <td>26.0</td>\n",
       "      <td>30.0000</td>\n",
       "      <td>0</td>\n",
       "      <td>1</td>\n",
       "    </tr>\n",
       "    <tr>\n",
       "      <th>890</th>\n",
       "      <td>3</td>\n",
       "      <td>1</td>\n",
       "      <td>32.0</td>\n",
       "      <td>7.7500</td>\n",
       "      <td>1</td>\n",
       "      <td>1</td>\n",
       "    </tr>\n",
       "  </tbody>\n",
       "</table>\n",
       "<p>889 rows × 6 columns</p>\n",
       "</div>"
      ],
      "text/plain": [
       "     Pclass  Sex   Age     Fare  Embarked  Family size\n",
       "0         3    1  22.0   7.2500         2            2\n",
       "1         1    0  38.0  71.2833         0            2\n",
       "2         3    0  26.0   7.9250         2            1\n",
       "3         1    0  35.0  53.1000         2            2\n",
       "4         3    1  35.0   8.0500         2            1\n",
       "..      ...  ...   ...      ...       ...          ...\n",
       "886       2    1  27.0  13.0000         2            1\n",
       "887       1    0  19.0  30.0000         2            1\n",
       "888       3    0   NaN  23.4500         2            4\n",
       "889       1    1  26.0  30.0000         0            1\n",
       "890       3    1  32.0   7.7500         1            1\n",
       "\n",
       "[889 rows x 6 columns]"
      ]
     },
     "execution_count": 444,
     "metadata": {},
     "output_type": "execute_result"
    }
   ],
   "source": [
    "X = train_df.drop('Survived', axis=1)\n",
    "y = train_df['Survived']\n",
    "X"
   ]
  },
  {
   "cell_type": "code",
   "execution_count": 445,
   "id": "7be097ef",
   "metadata": {
    "ExecuteTime": {
     "end_time": "2021-08-27T13:08:36.615528Z",
     "start_time": "2021-08-27T13:08:36.534335Z"
    }
   },
   "outputs": [],
   "source": [
    "X_train, X_val, y_train, y_val = train_test_split(\n",
    "    X, y, test_size=0.2, random_state=42)"
   ]
  },
  {
   "cell_type": "code",
   "execution_count": 446,
   "id": "29d66c9f",
   "metadata": {
    "ExecuteTime": {
     "end_time": "2021-08-27T13:08:36.711873Z",
     "start_time": "2021-08-27T13:08:36.623807Z"
    }
   },
   "outputs": [
    {
     "data": {
      "text/html": [
       "<div>\n",
       "<style scoped>\n",
       "    .dataframe tbody tr th:only-of-type {\n",
       "        vertical-align: middle;\n",
       "    }\n",
       "\n",
       "    .dataframe tbody tr th {\n",
       "        vertical-align: top;\n",
       "    }\n",
       "\n",
       "    .dataframe thead th {\n",
       "        text-align: right;\n",
       "    }\n",
       "</style>\n",
       "<table border=\"1\" class=\"dataframe\">\n",
       "  <thead>\n",
       "    <tr style=\"text-align: right;\">\n",
       "      <th></th>\n",
       "      <th>Pclass</th>\n",
       "      <th>Sex</th>\n",
       "      <th>Age</th>\n",
       "      <th>Fare</th>\n",
       "      <th>Embarked</th>\n",
       "      <th>Family size</th>\n",
       "    </tr>\n",
       "  </thead>\n",
       "  <tbody>\n",
       "    <tr>\n",
       "      <th>708</th>\n",
       "      <td>1</td>\n",
       "      <td>0</td>\n",
       "      <td>22.0</td>\n",
       "      <td>151.5500</td>\n",
       "      <td>2</td>\n",
       "      <td>1</td>\n",
       "    </tr>\n",
       "    <tr>\n",
       "      <th>240</th>\n",
       "      <td>3</td>\n",
       "      <td>0</td>\n",
       "      <td>NaN</td>\n",
       "      <td>14.4542</td>\n",
       "      <td>0</td>\n",
       "      <td>2</td>\n",
       "    </tr>\n",
       "    <tr>\n",
       "      <th>382</th>\n",
       "      <td>3</td>\n",
       "      <td>1</td>\n",
       "      <td>32.0</td>\n",
       "      <td>7.9250</td>\n",
       "      <td>2</td>\n",
       "      <td>1</td>\n",
       "    </tr>\n",
       "    <tr>\n",
       "      <th>792</th>\n",
       "      <td>3</td>\n",
       "      <td>0</td>\n",
       "      <td>NaN</td>\n",
       "      <td>69.5500</td>\n",
       "      <td>2</td>\n",
       "      <td>11</td>\n",
       "    </tr>\n",
       "    <tr>\n",
       "      <th>683</th>\n",
       "      <td>3</td>\n",
       "      <td>1</td>\n",
       "      <td>14.0</td>\n",
       "      <td>46.9000</td>\n",
       "      <td>2</td>\n",
       "      <td>8</td>\n",
       "    </tr>\n",
       "    <tr>\n",
       "      <th>...</th>\n",
       "      <td>...</td>\n",
       "      <td>...</td>\n",
       "      <td>...</td>\n",
       "      <td>...</td>\n",
       "      <td>...</td>\n",
       "      <td>...</td>\n",
       "    </tr>\n",
       "    <tr>\n",
       "      <th>107</th>\n",
       "      <td>3</td>\n",
       "      <td>1</td>\n",
       "      <td>NaN</td>\n",
       "      <td>7.7750</td>\n",
       "      <td>2</td>\n",
       "      <td>1</td>\n",
       "    </tr>\n",
       "    <tr>\n",
       "      <th>271</th>\n",
       "      <td>3</td>\n",
       "      <td>1</td>\n",
       "      <td>25.0</td>\n",
       "      <td>0.0000</td>\n",
       "      <td>2</td>\n",
       "      <td>1</td>\n",
       "    </tr>\n",
       "    <tr>\n",
       "      <th>862</th>\n",
       "      <td>1</td>\n",
       "      <td>0</td>\n",
       "      <td>48.0</td>\n",
       "      <td>25.9292</td>\n",
       "      <td>2</td>\n",
       "      <td>1</td>\n",
       "    </tr>\n",
       "    <tr>\n",
       "      <th>436</th>\n",
       "      <td>3</td>\n",
       "      <td>0</td>\n",
       "      <td>21.0</td>\n",
       "      <td>34.3750</td>\n",
       "      <td>2</td>\n",
       "      <td>5</td>\n",
       "    </tr>\n",
       "    <tr>\n",
       "      <th>103</th>\n",
       "      <td>3</td>\n",
       "      <td>1</td>\n",
       "      <td>33.0</td>\n",
       "      <td>8.6542</td>\n",
       "      <td>2</td>\n",
       "      <td>1</td>\n",
       "    </tr>\n",
       "  </tbody>\n",
       "</table>\n",
       "<p>711 rows × 6 columns</p>\n",
       "</div>"
      ],
      "text/plain": [
       "     Pclass  Sex   Age      Fare  Embarked  Family size\n",
       "708       1    0  22.0  151.5500         2            1\n",
       "240       3    0   NaN   14.4542         0            2\n",
       "382       3    1  32.0    7.9250         2            1\n",
       "792       3    0   NaN   69.5500         2           11\n",
       "683       3    1  14.0   46.9000         2            8\n",
       "..      ...  ...   ...       ...       ...          ...\n",
       "107       3    1   NaN    7.7750         2            1\n",
       "271       3    1  25.0    0.0000         2            1\n",
       "862       1    0  48.0   25.9292         2            1\n",
       "436       3    0  21.0   34.3750         2            5\n",
       "103       3    1  33.0    8.6542         2            1\n",
       "\n",
       "[711 rows x 6 columns]"
      ]
     },
     "execution_count": 446,
     "metadata": {},
     "output_type": "execute_result"
    }
   ],
   "source": [
    "X_train"
   ]
  },
  {
   "cell_type": "markdown",
   "id": "939b0aba",
   "metadata": {},
   "source": [
    "## Taking care of missing values"
   ]
  },
  {
   "cell_type": "markdown",
   "id": "f6029f3d",
   "metadata": {},
   "source": [
    "### Train set"
   ]
  },
  {
   "cell_type": "code",
   "execution_count": 447,
   "id": "e65e74fb",
   "metadata": {
    "ExecuteTime": {
     "end_time": "2021-08-27T13:08:36.828632Z",
     "start_time": "2021-08-27T13:08:36.714954Z"
    }
   },
   "outputs": [],
   "source": [
    "# replacing NaNs in age column by mean value of this column\n",
    "\n",
    "imputer = SimpleImputer(missing_values=np.nan, strategy='mean')\n",
    "X_train[['Age']] = imputer.fit(X_train[['Age']]).transform(X_train[['Age']])"
   ]
  },
  {
   "cell_type": "markdown",
   "id": "dd75e237",
   "metadata": {},
   "source": [
    "### Validation set"
   ]
  },
  {
   "cell_type": "code",
   "execution_count": 448,
   "id": "8c6245f3",
   "metadata": {
    "ExecuteTime": {
     "end_time": "2021-08-27T13:08:36.928505Z",
     "start_time": "2021-08-27T13:08:36.837180Z"
    }
   },
   "outputs": [],
   "source": [
    "# replacing NaNs in age column by mean value of this column\n",
    "\n",
    "imputer = SimpleImputer(missing_values=np.nan, strategy='mean')\n",
    "X_val[['Age']] = imputer.fit(X_val[['Age']]).transform(X_val[['Age']])"
   ]
  },
  {
   "cell_type": "markdown",
   "id": "c3906c68",
   "metadata": {},
   "source": [
    "## Training a model"
   ]
  },
  {
   "cell_type": "markdown",
   "id": "5f7db808",
   "metadata": {},
   "source": [
    "### Decision Tree"
   ]
  },
  {
   "cell_type": "code",
   "execution_count": 449,
   "id": "abf68244",
   "metadata": {
    "ExecuteTime": {
     "end_time": "2021-08-27T13:08:37.085878Z",
     "start_time": "2021-08-27T13:08:36.934809Z"
    }
   },
   "outputs": [],
   "source": [
    "classifier = DecisionTreeClassifier(random_state=42)\n",
    "classifier.fit(X_train, y_train)\n",
    "y_pred = classifier.predict(X_val)"
   ]
  },
  {
   "cell_type": "code",
   "execution_count": 450,
   "id": "fc770900",
   "metadata": {
    "ExecuteTime": {
     "end_time": "2021-08-27T13:08:37.160994Z",
     "start_time": "2021-08-27T13:08:37.088817Z"
    }
   },
   "outputs": [
    {
     "name": "stdout",
     "output_type": "stream",
     "text": [
      "0.7415730337078652\n"
     ]
    }
   ],
   "source": [
    "print(accuracy(y_val, y_pred))"
   ]
  },
  {
   "cell_type": "markdown",
   "id": "57ff58ec",
   "metadata": {},
   "source": [
    "### Random Forest"
   ]
  },
  {
   "cell_type": "code",
   "execution_count": 451,
   "id": "ba642a04",
   "metadata": {
    "ExecuteTime": {
     "end_time": "2021-08-27T13:08:37.463593Z",
     "start_time": "2021-08-27T13:08:37.164860Z"
    }
   },
   "outputs": [],
   "source": [
    "classifier = RandomForestClassifier(random_state=42)\n",
    "classifier.fit(X_train, y_train)\n",
    "y_pred = classifier.predict(X_val)"
   ]
  },
  {
   "cell_type": "code",
   "execution_count": 452,
   "id": "410155cd",
   "metadata": {
    "ExecuteTime": {
     "end_time": "2021-08-27T13:08:37.469685Z",
     "start_time": "2021-08-27T13:08:37.465237Z"
    }
   },
   "outputs": [
    {
     "name": "stdout",
     "output_type": "stream",
     "text": [
      "0.7808988764044944\n"
     ]
    }
   ],
   "source": [
    "print(accuracy(y_pred, y_val))"
   ]
  },
  {
   "cell_type": "markdown",
   "id": "434d87f9",
   "metadata": {},
   "source": [
    "### KNN"
   ]
  },
  {
   "cell_type": "code",
   "execution_count": 453,
   "id": "611687cd",
   "metadata": {
    "ExecuteTime": {
     "end_time": "2021-08-27T13:08:37.576484Z",
     "start_time": "2021-08-27T13:08:37.471523Z"
    }
   },
   "outputs": [],
   "source": [
    "classifier = KNeighborsClassifier(n_neighbors=7)\n",
    "classifier.fit(X_train, y_train)\n",
    "y_pred = classifier.predict(X_val)"
   ]
  },
  {
   "cell_type": "code",
   "execution_count": 454,
   "id": "0f0fdd42",
   "metadata": {
    "ExecuteTime": {
     "end_time": "2021-08-27T13:08:37.640545Z",
     "start_time": "2021-08-27T13:08:37.578709Z"
    }
   },
   "outputs": [
    {
     "name": "stdout",
     "output_type": "stream",
     "text": [
      "0.6966292134831461\n"
     ]
    }
   ],
   "source": [
    "print(accuracy(y_val, y_pred))"
   ]
  },
  {
   "cell_type": "markdown",
   "id": "0d34888b",
   "metadata": {},
   "source": [
    "### SVM"
   ]
  },
  {
   "cell_type": "code",
   "execution_count": 455,
   "id": "d59cbd85",
   "metadata": {
    "ExecuteTime": {
     "end_time": "2021-08-27T13:08:37.739129Z",
     "start_time": "2021-08-27T13:08:37.643995Z"
    }
   },
   "outputs": [],
   "source": [
    "classifier = SVC()\n",
    "classifier.fit(X_train, y_train)\n",
    "y_pred = classifier.predict(X_val)"
   ]
  },
  {
   "cell_type": "code",
   "execution_count": 456,
   "id": "3ce02d6e",
   "metadata": {
    "ExecuteTime": {
     "end_time": "2021-08-27T13:08:37.807451Z",
     "start_time": "2021-08-27T13:08:37.745351Z"
    }
   },
   "outputs": [
    {
     "name": "stdout",
     "output_type": "stream",
     "text": [
      "0.6797752808988764\n"
     ]
    }
   ],
   "source": [
    "print(accuracy(y_val, y_pred))"
   ]
  },
  {
   "cell_type": "markdown",
   "id": "62ec6319",
   "metadata": {},
   "source": [
    "### Logistic Regression"
   ]
  },
  {
   "cell_type": "code",
   "execution_count": 457,
   "id": "57caa0ef",
   "metadata": {
    "ExecuteTime": {
     "end_time": "2021-08-27T13:08:37.947645Z",
     "start_time": "2021-08-27T13:08:37.810360Z"
    }
   },
   "outputs": [],
   "source": [
    "classifier = LogisticRegression()\n",
    "classifier.fit(X_train, y_train)\n",
    "y_pred = classifier.predict(X_val)"
   ]
  },
  {
   "cell_type": "code",
   "execution_count": 458,
   "id": "ff6b710f",
   "metadata": {
    "ExecuteTime": {
     "end_time": "2021-08-27T13:08:38.025401Z",
     "start_time": "2021-08-27T13:08:37.949239Z"
    }
   },
   "outputs": [
    {
     "name": "stdout",
     "output_type": "stream",
     "text": [
      "0.7808988764044944\n"
     ]
    }
   ],
   "source": [
    "print(accuracy(y_val, y_pred))"
   ]
  },
  {
   "cell_type": "markdown",
   "id": "19695b86",
   "metadata": {},
   "source": [
    "## Classification report"
   ]
  },
  {
   "cell_type": "code",
   "execution_count": 459,
   "id": "86d60ace",
   "metadata": {
    "ExecuteTime": {
     "end_time": "2021-08-27T13:08:38.107274Z",
     "start_time": "2021-08-27T13:08:38.034688Z"
    }
   },
   "outputs": [
    {
     "name": "stdout",
     "output_type": "stream",
     "text": [
      "              precision    recall  f1-score   support\n",
      "\n",
      "           0       0.84      0.79      0.82       109\n",
      "           1       0.70      0.77      0.73        69\n",
      "\n",
      "    accuracy                           0.78       178\n",
      "   macro avg       0.77      0.78      0.77       178\n",
      "weighted avg       0.79      0.78      0.78       178\n",
      "\n"
     ]
    }
   ],
   "source": [
    "# classification report of logistic regression model\n",
    "\n",
    "print(classification_report(y_val, y_pred))"
   ]
  },
  {
   "cell_type": "markdown",
   "id": "c86f04e2",
   "metadata": {},
   "source": [
    "## Confusion matrix"
   ]
  },
  {
   "cell_type": "code",
   "execution_count": 460,
   "id": "8bb4d846",
   "metadata": {
    "ExecuteTime": {
     "end_time": "2021-08-27T13:08:38.188634Z",
     "start_time": "2021-08-27T13:08:38.109149Z"
    }
   },
   "outputs": [
    {
     "data": {
      "text/plain": [
       "array([[86, 23],\n",
       "       [16, 53]])"
      ]
     },
     "execution_count": 460,
     "metadata": {},
     "output_type": "execute_result"
    }
   ],
   "source": [
    "cm = confusion_matrix(y_val, y_pred)\n",
    "cm"
   ]
  },
  {
   "cell_type": "markdown",
   "id": "447c6846",
   "metadata": {},
   "source": [
    "## Preparing the test set"
   ]
  },
  {
   "cell_type": "code",
   "execution_count": 463,
   "id": "00fa29d0",
   "metadata": {
    "ExecuteTime": {
     "end_time": "2021-08-27T13:09:10.283034Z",
     "start_time": "2021-08-27T13:09:10.267242Z"
    }
   },
   "outputs": [],
   "source": [
    "X_test = preprocessor(X_test)"
   ]
  },
  {
   "cell_type": "markdown",
   "id": "edc4d32b",
   "metadata": {},
   "source": [
    "### Label encoder"
   ]
  },
  {
   "cell_type": "code",
   "execution_count": 464,
   "id": "c605a051",
   "metadata": {
    "ExecuteTime": {
     "end_time": "2021-08-27T13:09:11.244702Z",
     "start_time": "2021-08-27T13:09:11.229892Z"
    }
   },
   "outputs": [],
   "source": [
    "le = LabelEncoder()\n",
    "for col in ['Embarked', 'Sex']:\n",
    "    X_test[col] = le.fit_transform(X_test[col])"
   ]
  },
  {
   "cell_type": "code",
   "execution_count": 465,
   "id": "1d0e67d8",
   "metadata": {
    "ExecuteTime": {
     "end_time": "2021-08-27T13:09:11.705311Z",
     "start_time": "2021-08-27T13:09:11.694951Z"
    }
   },
   "outputs": [
    {
     "data": {
      "text/plain": [
       "Pclass          0\n",
       "Sex             0\n",
       "Age            86\n",
       "Fare            1\n",
       "Embarked        0\n",
       "Family size     0\n",
       "dtype: int64"
      ]
     },
     "execution_count": 465,
     "metadata": {},
     "output_type": "execute_result"
    }
   ],
   "source": [
    "X_test.isna().sum()"
   ]
  },
  {
   "cell_type": "code",
   "execution_count": 466,
   "id": "7736a6ac",
   "metadata": {
    "ExecuteTime": {
     "end_time": "2021-08-27T13:09:13.105510Z",
     "start_time": "2021-08-27T13:09:13.086217Z"
    }
   },
   "outputs": [],
   "source": [
    "X_test[['Age']] = imputer.fit(X_test[['Age']]).transform(X_test[['Age']])\n",
    "X_test[['Fare']] = imputer.fit(X_test[['Fare']]).transform(X_test[['Fare']])"
   ]
  },
  {
   "cell_type": "markdown",
   "id": "445820b4",
   "metadata": {},
   "source": [
    "## Predicting results for the test set"
   ]
  },
  {
   "cell_type": "markdown",
   "id": "00daeb13",
   "metadata": {},
   "source": [
    "### Logistic Regression"
   ]
  },
  {
   "cell_type": "code",
   "execution_count": 467,
   "id": "e471cf5c",
   "metadata": {
    "ExecuteTime": {
     "end_time": "2021-08-27T13:09:15.333308Z",
     "start_time": "2021-08-27T13:09:15.322196Z"
    }
   },
   "outputs": [],
   "source": [
    "y_pred = classifier.predict(X_test)"
   ]
  },
  {
   "cell_type": "code",
   "execution_count": 472,
   "id": "d7927130",
   "metadata": {
    "ExecuteTime": {
     "end_time": "2021-08-27T13:10:33.712460Z",
     "start_time": "2021-08-27T13:10:33.697855Z"
    }
   },
   "outputs": [
    {
     "data": {
      "text/plain": [
       "array([0, 0, 0, 0, 1, 0, 1, 0, 1, 0, 0, 0, 1, 0, 1, 1, 0, 0, 1, 1, 0, 0,\n",
       "       1, 1, 1, 0, 1, 0, 0, 0, 0, 0, 0, 0, 1, 0, 1, 1, 0, 0, 0, 0, 0, 1,\n",
       "       1, 0, 0, 0, 1, 0, 1, 0, 1, 1, 0, 0, 0, 0, 0, 1, 0, 0, 0, 1, 1, 1,\n",
       "       1, 0, 1, 1, 1, 0, 1, 1, 1, 1, 0, 1, 0, 1, 0, 0, 0, 0, 0, 0, 1, 1,\n",
       "       1, 0, 1, 0, 1, 0, 1, 0, 1, 0, 1, 0, 1, 0, 0, 0, 1, 0, 0, 0, 0, 0,\n",
       "       0, 1, 1, 1, 1, 0, 0, 1, 1, 1, 1, 0, 1, 0, 0, 1, 0, 1, 0, 0, 0, 0,\n",
       "       0, 0, 0, 0, 0, 0, 1, 0, 0, 1, 0, 0, 0, 0, 1, 0, 0, 0, 1, 0, 0, 0,\n",
       "       0, 0, 1, 1, 0, 1, 1, 0, 1, 0, 0, 1, 0, 0, 1, 1, 0, 0, 0, 0, 0, 1,\n",
       "       1, 0, 1, 1, 0, 0, 1, 0, 1, 0, 1, 0, 0, 0, 0, 0, 0, 0, 0, 0, 1, 1,\n",
       "       0, 1, 1, 0, 0, 1, 0, 1, 1, 0, 1, 0, 0, 0, 0, 1, 0, 0, 1, 0, 1, 0,\n",
       "       1, 0, 1, 0, 1, 1, 0, 1, 0, 0, 0, 1, 0, 0, 1, 0, 0, 0, 1, 1, 1, 1,\n",
       "       0, 0, 0, 0, 1, 0, 1, 1, 1, 0, 1, 0, 0, 0, 0, 0, 1, 0, 0, 0, 1, 1,\n",
       "       0, 0, 0, 0, 1, 0, 0, 0, 1, 1, 0, 1, 0, 0, 0, 0, 1, 0, 1, 1, 1, 0,\n",
       "       0, 1, 0, 0, 0, 1, 0, 0, 0, 0, 1, 0, 1, 0, 0, 0, 0, 0, 1, 1, 0, 0,\n",
       "       0, 0, 0, 0, 0, 1, 1, 1, 0, 0, 0, 0, 0, 0, 0, 0, 1, 0, 1, 0, 0, 0,\n",
       "       1, 1, 0, 1, 0, 0, 0, 0, 0, 0, 0, 0, 0, 1, 0, 1, 0, 1, 0, 1, 1, 0,\n",
       "       0, 0, 1, 0, 1, 0, 0, 1, 0, 1, 1, 0, 1, 0, 0, 1, 1, 0, 0, 1, 0, 0,\n",
       "       1, 1, 1, 0, 0, 0, 0, 0, 1, 1, 0, 1, 0, 0, 0, 0, 1, 1, 0, 0, 0, 1,\n",
       "       0, 1, 0, 0, 1, 0, 1, 1, 0, 0, 0, 0, 1, 1, 1, 1, 1, 0, 1, 0, 0, 0])"
      ]
     },
     "execution_count": 472,
     "metadata": {},
     "output_type": "execute_result"
    }
   ],
   "source": [
    "y_pred"
   ]
  },
  {
   "cell_type": "code",
   "execution_count": null,
   "id": "f32cc859",
   "metadata": {},
   "outputs": [],
   "source": []
  }
 ],
 "metadata": {
  "kernelspec": {
   "display_name": "Python 3 (ipykernel)",
   "language": "python",
   "name": "python3"
  },
  "language_info": {
   "codemirror_mode": {
    "name": "ipython",
    "version": 3
   },
   "file_extension": ".py",
   "mimetype": "text/x-python",
   "name": "python",
   "nbconvert_exporter": "python",
   "pygments_lexer": "ipython3",
   "version": "3.9.5"
  },
  "varInspector": {
   "cols": {
    "lenName": 16,
    "lenType": 16,
    "lenVar": 40
   },
   "kernels_config": {
    "python": {
     "delete_cmd_postfix": "",
     "delete_cmd_prefix": "del ",
     "library": "var_list.py",
     "varRefreshCmd": "print(var_dic_list())"
    },
    "r": {
     "delete_cmd_postfix": ") ",
     "delete_cmd_prefix": "rm(",
     "library": "var_list.r",
     "varRefreshCmd": "cat(var_dic_list()) "
    }
   },
   "types_to_exclude": [
    "module",
    "function",
    "builtin_function_or_method",
    "instance",
    "_Feature"
   ],
   "window_display": false
  }
 },
 "nbformat": 4,
 "nbformat_minor": 5
}
