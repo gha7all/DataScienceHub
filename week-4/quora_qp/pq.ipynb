{
  "cells": [
    {
      "cell_type": "code",
      "execution_count": 35,
      "id": "a134663d",
      "metadata": {
        "ExecuteTime": {
          "end_time": "2021-12-10T18:43:34.422719Z",
          "start_time": "2021-12-10T18:43:34.389990Z"
        },
        "id": "a134663d"
      },
      "outputs": [],
      "source": [
        "import pandas as pd\n",
        "import numpy as np\n",
        "import seaborn as sns\n",
        "from matplotlib import pyplot as plt\n",
        "import matplotlib\n",
        "from warnings import filterwarnings\n",
        "import string\n",
        "import re\n",
        "import nltk\n",
        "from nltk.corpus import stopwords\n",
        "from nltk.tokenize import word_tokenize\n",
        "from nltk.stem import WordNetLemmatizer\n",
        "import spacy"
      ]
    },
    {
      "cell_type": "code",
      "source": [
        "nltk.download('wordnet')\n",
        "nltk.download('punkt')\n",
        "nltk.download('stopwords')\n",
        "stops = stopwords.words('english')\n",
        "lem = spacy.load('en_core_web_sm')"
      ],
      "metadata": {
        "colab": {
          "base_uri": "https://localhost:8080/"
        },
        "id": "-shnfDlLSEu0",
        "outputId": "64b0efa8-e8dd-433c-e0da-102d6184d477"
      },
      "id": "-shnfDlLSEu0",
      "execution_count": 36,
      "outputs": [
        {
          "output_type": "stream",
          "name": "stdout",
          "text": [
            "[nltk_data] Downloading package wordnet to /root/nltk_data...\n",
            "[nltk_data]   Package wordnet is already up-to-date!\n",
            "[nltk_data] Downloading package punkt to /root/nltk_data...\n",
            "[nltk_data]   Package punkt is already up-to-date!\n",
            "[nltk_data] Downloading package stopwords to /root/nltk_data...\n",
            "[nltk_data]   Package stopwords is already up-to-date!\n"
          ]
        }
      ]
    },
    {
      "cell_type": "code",
      "source": [
        "from google.colab import drive"
      ],
      "metadata": {
        "id": "WZB6lSVPtifR"
      },
      "id": "WZB6lSVPtifR",
      "execution_count": 2,
      "outputs": []
    },
    {
      "cell_type": "code",
      "source": [
        "drive.mount('/content/drive')"
      ],
      "metadata": {
        "colab": {
          "base_uri": "https://localhost:8080/"
        },
        "id": "FsdIWMGLt3_r",
        "outputId": "014b0390-2486-4bdc-f8d1-d90786b05932"
      },
      "id": "FsdIWMGLt3_r",
      "execution_count": 3,
      "outputs": [
        {
          "output_type": "stream",
          "name": "stdout",
          "text": [
            "Drive already mounted at /content/drive; to attempt to forcibly remount, call drive.mount(\"/content/drive\", force_remount=True).\n"
          ]
        }
      ]
    },
    {
      "cell_type": "code",
      "execution_count": 4,
      "id": "6c17352b",
      "metadata": {
        "ExecuteTime": {
          "end_time": "2021-12-10T18:43:35.697802Z",
          "start_time": "2021-12-10T18:43:35.684660Z"
        },
        "id": "6c17352b"
      },
      "outputs": [],
      "source": [
        "filterwarnings(action='ignore')\n",
        "plt.style.use('ggplot')\n",
        "pal = sns.color_palette()\n",
        "matplotlib.rc('axes.formatter', useoffset=False)"
      ]
    },
    {
      "cell_type": "code",
      "execution_count": 5,
      "id": "902d63fa",
      "metadata": {
        "ExecuteTime": {
          "end_time": "2021-12-10T18:44:10.823141Z",
          "start_time": "2021-12-10T18:43:36.587083Z"
        },
        "id": "902d63fa"
      },
      "outputs": [],
      "source": [
        "train_df = pd.read_csv('/content/drive/My Drive/quera_qp/dataset/train.csv')\n",
        "test_df = pd.read_csv('/content/drive/My Drive/quera_qp/dataset/test.csv')"
      ]
    },
    {
      "cell_type": "code",
      "execution_count": 6,
      "id": "5dcbe1f3",
      "metadata": {
        "ExecuteTime": {
          "end_time": "2021-12-10T18:43:28.005407Z",
          "start_time": "2021-12-10T18:43:28.005358Z"
        },
        "colab": {
          "base_uri": "https://localhost:8080/",
          "height": 423
        },
        "id": "5dcbe1f3",
        "outputId": "b23d2da7-5f14-4026-afc1-2e766f1982c5"
      },
      "outputs": [
        {
          "output_type": "execute_result",
          "data": {
            "text/html": [
              "<div>\n",
              "<style scoped>\n",
              "    .dataframe tbody tr th:only-of-type {\n",
              "        vertical-align: middle;\n",
              "    }\n",
              "\n",
              "    .dataframe tbody tr th {\n",
              "        vertical-align: top;\n",
              "    }\n",
              "\n",
              "    .dataframe thead th {\n",
              "        text-align: right;\n",
              "    }\n",
              "</style>\n",
              "<table border=\"1\" class=\"dataframe\">\n",
              "  <thead>\n",
              "    <tr style=\"text-align: right;\">\n",
              "      <th></th>\n",
              "      <th>id</th>\n",
              "      <th>qid1</th>\n",
              "      <th>qid2</th>\n",
              "      <th>question1</th>\n",
              "      <th>question2</th>\n",
              "      <th>is_duplicate</th>\n",
              "    </tr>\n",
              "  </thead>\n",
              "  <tbody>\n",
              "    <tr>\n",
              "      <th>0</th>\n",
              "      <td>0</td>\n",
              "      <td>1</td>\n",
              "      <td>2</td>\n",
              "      <td>What is the step by step guide to invest in sh...</td>\n",
              "      <td>What is the step by step guide to invest in sh...</td>\n",
              "      <td>0</td>\n",
              "    </tr>\n",
              "    <tr>\n",
              "      <th>1</th>\n",
              "      <td>1</td>\n",
              "      <td>3</td>\n",
              "      <td>4</td>\n",
              "      <td>What is the story of Kohinoor (Koh-i-Noor) Dia...</td>\n",
              "      <td>What would happen if the Indian government sto...</td>\n",
              "      <td>0</td>\n",
              "    </tr>\n",
              "    <tr>\n",
              "      <th>2</th>\n",
              "      <td>2</td>\n",
              "      <td>5</td>\n",
              "      <td>6</td>\n",
              "      <td>How can I increase the speed of my internet co...</td>\n",
              "      <td>How can Internet speed be increased by hacking...</td>\n",
              "      <td>0</td>\n",
              "    </tr>\n",
              "    <tr>\n",
              "      <th>3</th>\n",
              "      <td>3</td>\n",
              "      <td>7</td>\n",
              "      <td>8</td>\n",
              "      <td>Why am I mentally very lonely? How can I solve...</td>\n",
              "      <td>Find the remainder when [math]23^{24}[/math] i...</td>\n",
              "      <td>0</td>\n",
              "    </tr>\n",
              "    <tr>\n",
              "      <th>4</th>\n",
              "      <td>4</td>\n",
              "      <td>9</td>\n",
              "      <td>10</td>\n",
              "      <td>Which one dissolve in water quikly sugar, salt...</td>\n",
              "      <td>Which fish would survive in salt water?</td>\n",
              "      <td>0</td>\n",
              "    </tr>\n",
              "    <tr>\n",
              "      <th>...</th>\n",
              "      <td>...</td>\n",
              "      <td>...</td>\n",
              "      <td>...</td>\n",
              "      <td>...</td>\n",
              "      <td>...</td>\n",
              "      <td>...</td>\n",
              "    </tr>\n",
              "    <tr>\n",
              "      <th>404285</th>\n",
              "      <td>404285</td>\n",
              "      <td>433578</td>\n",
              "      <td>379845</td>\n",
              "      <td>How many keywords are there in the Racket prog...</td>\n",
              "      <td>How many keywords are there in PERL Programmin...</td>\n",
              "      <td>0</td>\n",
              "    </tr>\n",
              "    <tr>\n",
              "      <th>404286</th>\n",
              "      <td>404286</td>\n",
              "      <td>18840</td>\n",
              "      <td>155606</td>\n",
              "      <td>Do you believe there is life after death?</td>\n",
              "      <td>Is it true that there is life after death?</td>\n",
              "      <td>1</td>\n",
              "    </tr>\n",
              "    <tr>\n",
              "      <th>404287</th>\n",
              "      <td>404287</td>\n",
              "      <td>537928</td>\n",
              "      <td>537929</td>\n",
              "      <td>What is one coin?</td>\n",
              "      <td>What's this coin?</td>\n",
              "      <td>0</td>\n",
              "    </tr>\n",
              "    <tr>\n",
              "      <th>404288</th>\n",
              "      <td>404288</td>\n",
              "      <td>537930</td>\n",
              "      <td>537931</td>\n",
              "      <td>What is the approx annual cost of living while...</td>\n",
              "      <td>I am having little hairfall problem but I want...</td>\n",
              "      <td>0</td>\n",
              "    </tr>\n",
              "    <tr>\n",
              "      <th>404289</th>\n",
              "      <td>404289</td>\n",
              "      <td>537932</td>\n",
              "      <td>537933</td>\n",
              "      <td>What is like to have sex with cousin?</td>\n",
              "      <td>What is it like to have sex with your cousin?</td>\n",
              "      <td>0</td>\n",
              "    </tr>\n",
              "  </tbody>\n",
              "</table>\n",
              "<p>404290 rows × 6 columns</p>\n",
              "</div>"
            ],
            "text/plain": [
              "            id  ...  is_duplicate\n",
              "0            0  ...             0\n",
              "1            1  ...             0\n",
              "2            2  ...             0\n",
              "3            3  ...             0\n",
              "4            4  ...             0\n",
              "...        ...  ...           ...\n",
              "404285  404285  ...             0\n",
              "404286  404286  ...             1\n",
              "404287  404287  ...             0\n",
              "404288  404288  ...             0\n",
              "404289  404289  ...             0\n",
              "\n",
              "[404290 rows x 6 columns]"
            ]
          },
          "metadata": {},
          "execution_count": 6
        }
      ],
      "source": [
        "train_df"
      ]
    },
    {
      "cell_type": "markdown",
      "id": "ea2f7590",
      "metadata": {
        "ExecuteTime": {
          "end_time": "2021-12-08T15:22:24.216013Z",
          "start_time": "2021-12-08T15:22:24.182340Z"
        },
        "id": "ea2f7590"
      },
      "source": [
        "## EDA"
      ]
    },
    {
      "cell_type": "code",
      "execution_count": 7,
      "id": "35ccde71",
      "metadata": {
        "ExecuteTime": {
          "end_time": "2021-12-10T18:43:28.011749Z",
          "start_time": "2021-12-10T18:43:28.011670Z"
        },
        "colab": {
          "base_uri": "https://localhost:8080/"
        },
        "id": "35ccde71",
        "outputId": "f809ecc6-fb1d-4c17-b0d6-4c44f3116213"
      },
      "outputs": [
        {
          "output_type": "stream",
          "name": "stdout",
          "text": [
            "<class 'pandas.core.frame.DataFrame'>\n",
            "RangeIndex: 404290 entries, 0 to 404289\n",
            "Data columns (total 6 columns):\n",
            " #   Column        Non-Null Count   Dtype \n",
            "---  ------        --------------   ----- \n",
            " 0   id            404290 non-null  int64 \n",
            " 1   qid1          404290 non-null  int64 \n",
            " 2   qid2          404290 non-null  int64 \n",
            " 3   question1     404289 non-null  object\n",
            " 4   question2     404288 non-null  object\n",
            " 5   is_duplicate  404290 non-null  int64 \n",
            "dtypes: int64(4), object(2)\n",
            "memory usage: 18.5+ MB\n"
          ]
        }
      ],
      "source": [
        "train_df.info()"
      ]
    },
    {
      "cell_type": "code",
      "execution_count": 8,
      "id": "b18ca644",
      "metadata": {
        "ExecuteTime": {
          "end_time": "2021-12-10T18:43:28.021568Z",
          "start_time": "2021-12-10T18:43:28.021508Z"
        },
        "colab": {
          "base_uri": "https://localhost:8080/"
        },
        "id": "b18ca644",
        "outputId": "f7fdb91b-1fed-43b9-96af-1d15615b7e13"
      },
      "outputs": [
        {
          "output_type": "execute_result",
          "data": {
            "text/plain": [
              "id              0\n",
              "qid1            0\n",
              "qid2            0\n",
              "question1       1\n",
              "question2       2\n",
              "is_duplicate    0\n",
              "dtype: int64"
            ]
          },
          "metadata": {},
          "execution_count": 8
        }
      ],
      "source": [
        "train_df.isnull().sum()"
      ]
    },
    {
      "cell_type": "code",
      "execution_count": 9,
      "id": "0f118fc5",
      "metadata": {
        "ExecuteTime": {
          "end_time": "2021-12-10T18:43:28.030548Z",
          "start_time": "2021-12-10T18:43:28.030462Z"
        },
        "colab": {
          "base_uri": "https://localhost:8080/",
          "height": 81
        },
        "id": "0f118fc5",
        "outputId": "53404aa3-4a9b-49e9-e1f8-de5337181fd5"
      },
      "outputs": [
        {
          "output_type": "execute_result",
          "data": {
            "text/html": [
              "<div>\n",
              "<style scoped>\n",
              "    .dataframe tbody tr th:only-of-type {\n",
              "        vertical-align: middle;\n",
              "    }\n",
              "\n",
              "    .dataframe tbody tr th {\n",
              "        vertical-align: top;\n",
              "    }\n",
              "\n",
              "    .dataframe thead th {\n",
              "        text-align: right;\n",
              "    }\n",
              "</style>\n",
              "<table border=\"1\" class=\"dataframe\">\n",
              "  <thead>\n",
              "    <tr style=\"text-align: right;\">\n",
              "      <th></th>\n",
              "      <th>id</th>\n",
              "      <th>qid1</th>\n",
              "      <th>qid2</th>\n",
              "      <th>question1</th>\n",
              "      <th>question2</th>\n",
              "      <th>is_duplicate</th>\n",
              "    </tr>\n",
              "  </thead>\n",
              "  <tbody>\n",
              "    <tr>\n",
              "      <th>363362</th>\n",
              "      <td>363362</td>\n",
              "      <td>493340</td>\n",
              "      <td>493341</td>\n",
              "      <td>NaN</td>\n",
              "      <td>My Chinese name is Haichao Yu. What English na...</td>\n",
              "      <td>0</td>\n",
              "    </tr>\n",
              "  </tbody>\n",
              "</table>\n",
              "</div>"
            ],
            "text/plain": [
              "            id  ...  is_duplicate\n",
              "363362  363362  ...             0\n",
              "\n",
              "[1 rows x 6 columns]"
            ]
          },
          "metadata": {},
          "execution_count": 9
        }
      ],
      "source": [
        "train_df[train_df['question1'].isnull() == True]"
      ]
    },
    {
      "cell_type": "code",
      "execution_count": 10,
      "id": "f480e488",
      "metadata": {
        "ExecuteTime": {
          "end_time": "2021-12-10T18:43:28.037684Z",
          "start_time": "2021-12-10T18:43:28.037612Z"
        },
        "colab": {
          "base_uri": "https://localhost:8080/",
          "height": 112
        },
        "id": "f480e488",
        "outputId": "02a9e70d-bf4d-441a-9275-de67a0e28e79"
      },
      "outputs": [
        {
          "output_type": "execute_result",
          "data": {
            "text/html": [
              "<div>\n",
              "<style scoped>\n",
              "    .dataframe tbody tr th:only-of-type {\n",
              "        vertical-align: middle;\n",
              "    }\n",
              "\n",
              "    .dataframe tbody tr th {\n",
              "        vertical-align: top;\n",
              "    }\n",
              "\n",
              "    .dataframe thead th {\n",
              "        text-align: right;\n",
              "    }\n",
              "</style>\n",
              "<table border=\"1\" class=\"dataframe\">\n",
              "  <thead>\n",
              "    <tr style=\"text-align: right;\">\n",
              "      <th></th>\n",
              "      <th>id</th>\n",
              "      <th>qid1</th>\n",
              "      <th>qid2</th>\n",
              "      <th>question1</th>\n",
              "      <th>question2</th>\n",
              "      <th>is_duplicate</th>\n",
              "    </tr>\n",
              "  </thead>\n",
              "  <tbody>\n",
              "    <tr>\n",
              "      <th>105780</th>\n",
              "      <td>105780</td>\n",
              "      <td>174363</td>\n",
              "      <td>174364</td>\n",
              "      <td>How can I develop android app?</td>\n",
              "      <td>NaN</td>\n",
              "      <td>0</td>\n",
              "    </tr>\n",
              "    <tr>\n",
              "      <th>201841</th>\n",
              "      <td>201841</td>\n",
              "      <td>303951</td>\n",
              "      <td>174364</td>\n",
              "      <td>How can I create an Android app?</td>\n",
              "      <td>NaN</td>\n",
              "      <td>0</td>\n",
              "    </tr>\n",
              "  </tbody>\n",
              "</table>\n",
              "</div>"
            ],
            "text/plain": [
              "            id    qid1  ...  question2 is_duplicate\n",
              "105780  105780  174363  ...        NaN            0\n",
              "201841  201841  303951  ...        NaN            0\n",
              "\n",
              "[2 rows x 6 columns]"
            ]
          },
          "metadata": {},
          "execution_count": 10
        }
      ],
      "source": [
        "train_df[train_df['question2'].isnull() == True]"
      ]
    },
    {
      "cell_type": "code",
      "execution_count": 11,
      "id": "f5b60b83",
      "metadata": {
        "ExecuteTime": {
          "end_time": "2021-12-10T18:43:28.041773Z",
          "start_time": "2021-12-10T18:43:28.041720Z"
        },
        "id": "f5b60b83"
      },
      "outputs": [],
      "source": [
        "train_df.drop(train_df[train_df['question2'].isnull() == True].index, inplace=True)\n",
        "train_df.drop(train_df[train_df['question1'].isnull() == True].index, inplace=True)"
      ]
    },
    {
      "cell_type": "code",
      "execution_count": 12,
      "id": "41633455",
      "metadata": {
        "ExecuteTime": {
          "end_time": "2021-12-10T18:43:28.049638Z",
          "start_time": "2021-12-10T18:43:28.049583Z"
        },
        "colab": {
          "base_uri": "https://localhost:8080/"
        },
        "id": "41633455",
        "outputId": "1eed008e-5936-4f10-9da2-122960421c94"
      },
      "outputs": [
        {
          "output_type": "execute_result",
          "data": {
            "text/plain": [
              "test_id      0\n",
              "question1    4\n",
              "question2    6\n",
              "dtype: int64"
            ]
          },
          "metadata": {},
          "execution_count": 12
        }
      ],
      "source": [
        "test_df.isnull().sum()"
      ]
    },
    {
      "cell_type": "code",
      "execution_count": 13,
      "id": "2b4494f8",
      "metadata": {
        "ExecuteTime": {
          "end_time": "2021-12-10T18:43:28.069005Z",
          "start_time": "2021-12-10T18:43:28.068875Z"
        },
        "colab": {
          "base_uri": "https://localhost:8080/",
          "height": 174
        },
        "id": "2b4494f8",
        "outputId": "f4e7e9c8-4964-4312-e53c-45c25fb04d39"
      },
      "outputs": [
        {
          "output_type": "execute_result",
          "data": {
            "text/html": [
              "<div>\n",
              "<style scoped>\n",
              "    .dataframe tbody tr th:only-of-type {\n",
              "        vertical-align: middle;\n",
              "    }\n",
              "\n",
              "    .dataframe tbody tr th {\n",
              "        vertical-align: top;\n",
              "    }\n",
              "\n",
              "    .dataframe thead th {\n",
              "        text-align: right;\n",
              "    }\n",
              "</style>\n",
              "<table border=\"1\" class=\"dataframe\">\n",
              "  <thead>\n",
              "    <tr style=\"text-align: right;\">\n",
              "      <th></th>\n",
              "      <th>test_id</th>\n",
              "      <th>question1</th>\n",
              "      <th>question2</th>\n",
              "    </tr>\n",
              "  </thead>\n",
              "  <tbody>\n",
              "    <tr>\n",
              "      <th>1046690</th>\n",
              "      <td>1046690</td>\n",
              "      <td>NaN</td>\n",
              "      <td>How I what can learn android app development?</td>\n",
              "    </tr>\n",
              "    <tr>\n",
              "      <th>1461432</th>\n",
              "      <td>1461432</td>\n",
              "      <td>NaN</td>\n",
              "      <td>How distinct can learn android app development?</td>\n",
              "    </tr>\n",
              "    <tr>\n",
              "      <th>2345796</th>\n",
              "      <td>life in dublin?\"</td>\n",
              "      <td>NaN</td>\n",
              "      <td>NaN</td>\n",
              "    </tr>\n",
              "    <tr>\n",
              "      <th>2679111</th>\n",
              "      <td>1461432</td>\n",
              "      <td>NaN</td>\n",
              "      <td>How distinct can learn android app development?</td>\n",
              "    </tr>\n",
              "  </tbody>\n",
              "</table>\n",
              "</div>"
            ],
            "text/plain": [
              "                  test_id  ...                                        question2\n",
              "1046690           1046690  ...    How I what can learn android app development?\n",
              "1461432           1461432  ...  How distinct can learn android app development?\n",
              "2345796  life in dublin?\"  ...                                              NaN\n",
              "2679111           1461432  ...  How distinct can learn android app development?\n",
              "\n",
              "[4 rows x 3 columns]"
            ]
          },
          "metadata": {},
          "execution_count": 13
        }
      ],
      "source": [
        "test_df[test_df['question1'].isnull() == True]"
      ]
    },
    {
      "cell_type": "code",
      "execution_count": 14,
      "id": "845474e6",
      "metadata": {
        "ExecuteTime": {
          "end_time": "2021-12-10T18:43:28.073600Z",
          "start_time": "2021-12-10T18:43:28.073545Z"
        },
        "colab": {
          "base_uri": "https://localhost:8080/",
          "height": 237
        },
        "id": "845474e6",
        "outputId": "52fe7714-baee-4b86-fac6-a3e0619db2b6"
      },
      "outputs": [
        {
          "output_type": "execute_result",
          "data": {
            "text/html": [
              "<div>\n",
              "<style scoped>\n",
              "    .dataframe tbody tr th:only-of-type {\n",
              "        vertical-align: middle;\n",
              "    }\n",
              "\n",
              "    .dataframe tbody tr th {\n",
              "        vertical-align: top;\n",
              "    }\n",
              "\n",
              "    .dataframe thead th {\n",
              "        text-align: right;\n",
              "    }\n",
              "</style>\n",
              "<table border=\"1\" class=\"dataframe\">\n",
              "  <thead>\n",
              "    <tr style=\"text-align: right;\">\n",
              "      <th></th>\n",
              "      <th>test_id</th>\n",
              "      <th>question1</th>\n",
              "      <th>question2</th>\n",
              "    </tr>\n",
              "  </thead>\n",
              "  <tbody>\n",
              "    <tr>\n",
              "      <th>379205</th>\n",
              "      <td>379205</td>\n",
              "      <td>How I can learn android app development?</td>\n",
              "      <td>NaN</td>\n",
              "    </tr>\n",
              "    <tr>\n",
              "      <th>817520</th>\n",
              "      <td>817520</td>\n",
              "      <td>How real can learn android app development?</td>\n",
              "      <td>NaN</td>\n",
              "    </tr>\n",
              "    <tr>\n",
              "      <th>943911</th>\n",
              "      <td>943911</td>\n",
              "      <td>How app development?</td>\n",
              "      <td>NaN</td>\n",
              "    </tr>\n",
              "    <tr>\n",
              "      <th>1270024</th>\n",
              "      <td>1270024</td>\n",
              "      <td>How I can learn app development?</td>\n",
              "      <td>NaN</td>\n",
              "    </tr>\n",
              "    <tr>\n",
              "      <th>2345796</th>\n",
              "      <td>life in dublin?\"</td>\n",
              "      <td>NaN</td>\n",
              "      <td>NaN</td>\n",
              "    </tr>\n",
              "    <tr>\n",
              "      <th>2487703</th>\n",
              "      <td>1270024</td>\n",
              "      <td>How I can learn app development?</td>\n",
              "      <td>NaN</td>\n",
              "    </tr>\n",
              "  </tbody>\n",
              "</table>\n",
              "</div>"
            ],
            "text/plain": [
              "                  test_id  ... question2\n",
              "379205             379205  ...       NaN\n",
              "817520             817520  ...       NaN\n",
              "943911             943911  ...       NaN\n",
              "1270024           1270024  ...       NaN\n",
              "2345796  life in dublin?\"  ...       NaN\n",
              "2487703           1270024  ...       NaN\n",
              "\n",
              "[6 rows x 3 columns]"
            ]
          },
          "metadata": {},
          "execution_count": 14
        }
      ],
      "source": [
        "test_df[test_df['question2'].isnull() == True]"
      ]
    },
    {
      "cell_type": "code",
      "execution_count": 15,
      "id": "86311097",
      "metadata": {
        "ExecuteTime": {
          "end_time": "2021-12-10T18:43:28.079644Z",
          "start_time": "2021-12-10T18:43:28.079585Z"
        },
        "id": "86311097"
      },
      "outputs": [],
      "source": [
        "test_df[test_df['question1'].isnull()] = 'null question'\n",
        "test_df[test_df['question2'].isnull()] = 'null question'\n",
        "\n",
        "## we'll take care of that later"
      ]
    },
    {
      "cell_type": "code",
      "execution_count": 16,
      "id": "2719b273",
      "metadata": {
        "ExecuteTime": {
          "end_time": "2021-12-10T18:43:28.085591Z",
          "start_time": "2021-12-10T18:43:28.085508Z"
        },
        "colab": {
          "base_uri": "https://localhost:8080/",
          "height": 282
        },
        "id": "2719b273",
        "outputId": "6a7c3630-15d4-499f-84de-f171788a7474"
      },
      "outputs": [
        {
          "output_type": "display_data",
          "data": {
            "image/png": "[encoded data removed]",
            "text/plain": [
              "<Figure size 432x288 with 1 Axes>"
            ]
          },
          "metadata": {}
        }
      ],
      "source": [
        "dist = [train_df[train_df['is_duplicate'] == 1]['is_duplicate'].count(\n",
        "), train_df[train_df['is_duplicate'] == 0]['is_duplicate'].count()]\n",
        "\n",
        "sns.barplot(x=['duplicate', 'not duplicate'], y=dist)\n",
        "plt.title('target distribution')\n",
        "plt.show()"
      ]
    },
    {
      "cell_type": "code",
      "execution_count": 17,
      "id": "58f40797",
      "metadata": {
        "ExecuteTime": {
          "end_time": "2021-12-10T18:43:28.092115Z",
          "start_time": "2021-12-10T18:43:28.092060Z"
        },
        "colab": {
          "base_uri": "https://localhost:8080/",
          "height": 354
        },
        "id": "58f40797",
        "outputId": "cebcda82-dfd7-4dd7-d231-70859706700e"
      },
      "outputs": [
        {
          "output_type": "display_data",
          "data": {
            "image/png": "[encoded data removed]",
            "text/plain": [
              "<Figure size 864x360 with 1 Axes>"
            ]
          },
          "metadata": {}
        }
      ],
      "source": [
        "# question appearance count\n",
        "\n",
        "qids = pd.Series(train_df['qid1'].tolist() + train_df['qid2'].tolist())\n",
        "\n",
        "plt.figure(figsize=(12, 5))\n",
        "plt.hist(qids.value_counts(), bins=50, color=pal[0], alpha=0.7)\n",
        "plt.yscale('log', nonposy='clip')\n",
        "plt.title('Log-Histogram of question appearance counts')\n",
        "plt.xlabel('Number of appearances of question')\n",
        "plt.ylabel('Counts')\n",
        "plt.show()"
      ]
    },
    {
      "cell_type": "code",
      "execution_count": 18,
      "id": "ad18f0f1",
      "metadata": {
        "ExecuteTime": {
          "end_time": "2021-12-10T18:43:28.099662Z",
          "start_time": "2021-12-10T18:43:28.099604Z"
        },
        "colab": {
          "base_uri": "https://localhost:8080/",
          "height": 354
        },
        "id": "ad18f0f1",
        "outputId": "b88e495d-9773-40ab-f207-53a46203d0ac"
      },
      "outputs": [
        {
          "output_type": "display_data",
          "data": {
            "image/png": "[encoded data removed]",
            "text/plain": [
              "<Figure size 864x360 with 1 Axes>"
            ]
          },
          "metadata": {}
        }
      ],
      "source": [
        "# word count\n",
        "\n",
        "train_qs = pd.Series(train_df['question1'] + train_df['question2']).astype(str)\n",
        "test_qs = pd.Series(test_df['question1'] + test_df['question2']).astype(str)\n",
        "\n",
        "train_df['q1_num_of_words'] = train_df['question1'].apply(lambda x: len(x.split(' ')))\n",
        "train_df['q2_num_of_words'] = train_df['question2'].apply(lambda x: len(x.split(' ')))\n",
        "test_df['q1_num_of_words'] = test_df['question1'].apply(lambda x: len(x.split(' ')))\n",
        "test_df['q2_num_of_words'] = test_df['question2'].apply(lambda x: len(x.split(' ')))\n",
        "\n",
        "fig, ax = plt.subplots(figsize=(12, 5))\n",
        "x = np.hstack((train_df['q1_num_of_words'], train_df['q2_num_of_words'])).tolist()\n",
        "sns.histplot(x, bins=100, ax=ax,\n",
        "             color=pal[0], label='train', stat='density')\n",
        "\n",
        "x = np.hstack((test_df['q1_num_of_words'], test_df['q2_num_of_words'])).tolist()\n",
        "sns.histplot(x, bins=100, ax=ax,\n",
        "             color=pal[1], label='test', alpha=0.5, stat='density')\n",
        "plt.title('Histogram of word counts per each question')\n",
        "plt.xlabel('Word count')\n",
        "ax.set_xlim(0, 50)\n",
        "plt.legend()\n",
        "plt.show()"
      ]
    },
    {
      "cell_type": "code",
      "execution_count": 19,
      "id": "a22d2e2d",
      "metadata": {
        "ExecuteTime": {
          "end_time": "2021-12-10T18:43:28.104037Z",
          "start_time": "2021-12-10T18:43:28.103981Z"
        },
        "colab": {
          "base_uri": "https://localhost:8080/",
          "height": 354
        },
        "id": "a22d2e2d",
        "outputId": "45678a89-42ec-4103-c323-ad79789983da"
      },
      "outputs": [
        {
          "output_type": "display_data",
          "data": {
            "image/png": "[encoded data removed]",
            "text/plain": [
              "<Figure size 864x360 with 1 Axes>"
            ]
          },
          "metadata": {}
        }
      ],
      "source": [
        "# character count \n",
        "\n",
        "train_df['q1_num_of_chars'] = train_df['question1'].apply(lambda x: len(x))\n",
        "train_df['q2_num_of_chars'] = train_df['question2'].apply(lambda x: len(x))\n",
        "test_df['q1_num_of_chars'] = test_df['question1'].apply(lambda x: len(x))\n",
        "test_df['q2_num_of_chars'] = test_df['question2'].apply(lambda x: len(x))\n",
        "\n",
        "fig, ax = plt.subplots(figsize=(12, 5))\n",
        "\n",
        "x = np.hstack((train_df['q1_num_of_chars'], train_df['q2_num_of_chars'])).tolist()\n",
        "sns.histplot(x, bins=300, ax=ax,\n",
        "             color=pal[0], label='train', stat='density')\n",
        "\n",
        "x = np.hstack((test_df['q1_num_of_chars'], test_df['q2_num_of_chars'])).tolist()\n",
        "sns.histplot(x, bins=300, ax=ax,\n",
        "             color=pal[1], label='test', alpha=0.5, stat='density')\n",
        "plt.title('Histogram of character counts per each question')\n",
        "plt.xlabel('Character count')\n",
        "ax.set_xlim(0, 200)\n",
        "plt.legend()\n",
        "plt.show()"
      ]
    },
    {
      "cell_type": "code",
      "execution_count": 20,
      "id": "811df963",
      "metadata": {
        "ExecuteTime": {
          "end_time": "2021-12-10T18:43:28.110340Z",
          "start_time": "2021-12-10T18:43:28.110281Z"
        },
        "id": "811df963"
      },
      "outputs": [],
      "source": [
        "# appearance of punks\n",
        "\n",
        "puncts = string.punctuation\n",
        "train_puncts_count = {}\n",
        "test_puncts_count = {}\n",
        "for p in puncts:\n",
        "    train_puncts_count[p] = np.sum(train_qs.apply(lambda x: p in x))\n",
        "    test_puncts_count[p] = np.sum(test_qs.apply(lambda x: p in x))\n",
        "    \n",
        "train_puncts_count = {k: v for k, v in sorted(train_puncts_count.items(), key=lambda item: item[1], reverse=True)}\n",
        "test_puncts_count = {k: v for k, v in sorted(test_puncts_count.items(), key=lambda item: item[1], reverse=True)}"
      ]
    },
    {
      "cell_type": "code",
      "execution_count": 21,
      "id": "cb1a2fbe",
      "metadata": {
        "ExecuteTime": {
          "end_time": "2021-12-10T18:43:28.116072Z",
          "start_time": "2021-12-10T18:43:28.116018Z"
        },
        "colab": {
          "base_uri": "https://localhost:8080/",
          "height": 336
        },
        "id": "cb1a2fbe",
        "outputId": "0e7fa78f-21f3-47d8-fa9a-5ae4f09284bd"
      },
      "outputs": [
        {
          "output_type": "display_data",
          "data": {
            "image/png": "[encoded data removed]",
            "text/plain": [
              "<Figure size 1080x360 with 2 Axes>"
            ]
          },
          "metadata": {}
        }
      ],
      "source": [
        "fig, axs = plt.subplots(1, 2, figsize=(15,5))\n",
        "plt.ticklabel_format(style='plain')\n",
        "\n",
        "sns.barplot(x=list(train_puncts_count.keys()), y=list(train_puncts_count.values()), color=pal[0], ax=axs[0])\n",
        "axs[0].set(title='train set')\n",
        "sns.barplot(x=list(test_puncts_count.keys()), y=list(test_puncts_count.values()), color=pal[1], ax=axs[1])\n",
        "axs[1].set(title='test set')\n",
        "plt.show()"
      ]
    },
    {
      "cell_type": "markdown",
      "id": "53e03ab6",
      "metadata": {
        "id": "53e03ab6"
      },
      "source": [
        "## Text cleaning"
      ]
    },
    {
      "cell_type": "code",
      "execution_count": 22,
      "id": "165f84e9",
      "metadata": {
        "ExecuteTime": {
          "end_time": "2021-12-10T18:43:28.123533Z",
          "start_time": "2021-12-10T18:43:28.123437Z"
        },
        "id": "165f84e9"
      },
      "outputs": [],
      "source": [
        "def decontracter(text):\n",
        "    contractions = {\n",
        "        \"ain't\": \"am not\",\n",
        "        \"aren't\": \"are not\",\n",
        "        \"can't\": \"can not\",\n",
        "        \"can't've\": \"can not have\",\n",
        "        \"'cause\": \"because\",\n",
        "        \"could've\": \"could have\",\n",
        "        \"couldn't\": \"could not\",\n",
        "        \"couldn't've\": \"could not have\",\n",
        "        \"didn't\": \"did not\",\n",
        "        \"doesn't\": \"does not\",\n",
        "        \"don't\": \"do not\",\n",
        "        \"hadn't\": \"had not\",\n",
        "        \"hadn't've\": \"had not have\",\n",
        "        \"hasn't\": \"has not\",\n",
        "        \"haven't\": \"have not\",\n",
        "        \"he'd\": \"he would\",\n",
        "        \"he'd've\": \"he would have\",\n",
        "        \"he'll\": \"he will\",\n",
        "        \"he'll've\": \"he will have\",\n",
        "        \"he's\": \"he is\",\n",
        "        \"how'd\": \"how did\",\n",
        "        \"how'd'y\": \"how do you\",\n",
        "        \"how'll\": \"how will\",\n",
        "        \"how's\": \"how is\",\n",
        "        \"i'd\": \"i would\",\n",
        "        \"i'd've\": \"i would have\",\n",
        "        \"i'll\": \"i will\",\n",
        "        \"i'll've\": \"i will have\",\n",
        "        \"i'm\": \"i am\",\n",
        "        \"i've\": \"i have\",\n",
        "        \"isn't\": \"is not\",\n",
        "        \"it'd\": \"it would\",\n",
        "        \"it'd've\": \"it would have\",\n",
        "        \"it'll\": \"it will\",\n",
        "        \"it'll've\": \"it will have\",\n",
        "        \"it's\": \"it is\",\n",
        "        \"let's\": \"let us\",\n",
        "        \"ma'am\": \"madam\",\n",
        "        \"mayn't\": \"may not\",\n",
        "        \"might've\": \"might have\",\n",
        "        \"mightn't\": \"might not\",\n",
        "        \"mightn't've\": \"might not have\",\n",
        "        \"must've\": \"must have\",\n",
        "        \"mustn't\": \"must not\",\n",
        "        \"mustn't've\": \"must not have\",\n",
        "        \"needn't\": \"need not\",\n",
        "        \"needn't've\": \"need not have\",\n",
        "        \"o'clock\": \"of the clock\",\n",
        "        \"oughtn't\": \"ought not\",\n",
        "        \"oughtn't've\": \"ought not have\",\n",
        "        \"shan't\": \"shall not\",\n",
        "        \"sha'n't\": \"shall not\",\n",
        "        \"shan't've\": \"shall not have\",\n",
        "        \"she'd\": \"she would\",\n",
        "        \"she'd've\": \"she would have\",\n",
        "        \"she'll\": \"she will\",\n",
        "        \"she'll've\": \"she will have\",\n",
        "        \"she's\": \"she is\",\n",
        "        \"should've\": \"should have\",\n",
        "        \"shouldn't\": \"should not\",\n",
        "        \"shouldn't've\": \"should not have\",\n",
        "        \"so've\": \"so have\",\n",
        "        \"so's\": \"so as\",\n",
        "        \"that'd\": \"that would\",\n",
        "        \"that'd've\": \"that would have\",\n",
        "        \"that's\": \"that is\",\n",
        "        \"there'd\": \"there would\",\n",
        "        \"there'd've\": \"there would have\",\n",
        "        \"there's\": \"there is\",\n",
        "        \"they'd\": \"they would\",\n",
        "        \"they'd've\": \"they would have\",\n",
        "        \"they'll\": \"they will\",\n",
        "        \"they'll've\": \"they will have\",\n",
        "        \"they're\": \"they are\",\n",
        "        \"they've\": \"they have\",\n",
        "        \"to've\": \"to have\",\n",
        "        \"wasn't\": \"was not\",\n",
        "        \"we'd\": \"we would\",\n",
        "        \"we'd've\": \"we would have\",\n",
        "        \"we'll\": \"we will\",\n",
        "        \"we'll've\": \"we will have\",\n",
        "        \"we're\": \"we are\",\n",
        "        \"we've\": \"we have\",\n",
        "        \"weren't\": \"were not\",\n",
        "        \"what'll\": \"what will\",\n",
        "        \"what'll've\": \"what will have\",\n",
        "        \"what're\": \"what are\",\n",
        "        \"what's\": \"what is\",\n",
        "        \"what've\": \"what have\",\n",
        "        \"when's\": \"when is\",\n",
        "        \"when've\": \"when have\",\n",
        "        \"where'd\": \"where did\",\n",
        "        \"where's\": \"where is\",\n",
        "        \"where've\": \"where have\",\n",
        "        \"who'll\": \"who will\",\n",
        "        \"who'll've\": \"who will have\",\n",
        "        \"who's\": \"who is\",\n",
        "        \"who've\": \"who have\",\n",
        "        \"why's\": \"why is\",\n",
        "        \"why've\": \"why have\",\n",
        "        \"will've\": \"will have\",\n",
        "        \"won't\": \"will not\",\n",
        "        \"won't've\": \"will not have\",\n",
        "        \"would've\": \"would have\",\n",
        "        \"wouldn't\": \"would not\",\n",
        "        \"wouldn't've\": \"would not have\",\n",
        "        \"y'all\": \"you all\",\n",
        "        \"y'all'd\": \"you all would\",\n",
        "        \"y'all'd've\": \"you all would have\",\n",
        "        \"y'all're\": \"you all are\",\n",
        "        \"y'all've\": \"you all have\",\n",
        "        \"you'd\": \"you would\",\n",
        "        \"you'd've\": \"you would have\",\n",
        "        \"you'll\": \"you will\",\n",
        "        \"you'll've\": \"you will have\",\n",
        "        \"you're\": \"you are\",\n",
        "        \"you've\": \"you have\"\n",
        "    }\n",
        "    decontracted = []\n",
        "    for word in text.split():\n",
        "        if word in contractions:\n",
        "            word = contractions[word]\n",
        "        decontracted.append(word)\n",
        "    text = ' '.join(decontracted)\n",
        "    \n",
        "    return text"
      ]
    },
    {
      "cell_type": "code",
      "execution_count": 52,
      "id": "48009d1f",
      "metadata": {
        "ExecuteTime": {
          "end_time": "2021-12-10T18:43:28.130643Z",
          "start_time": "2021-12-10T18:43:28.130561Z"
        },
        "id": "48009d1f"
      },
      "outputs": [],
      "source": [
        "def preprocessor(text):\n",
        "    # lower case\n",
        "    text = text.lower()\n",
        "\n",
        "    # html tags and url remover\n",
        "    text = re.sub(\n",
        "        r'https?://\\S+|www\\.\\S+', '', text)\n",
        "    text = re.sub(r'<.*?>', '', text)\n",
        "\n",
        "    # decontracter\n",
        "    text = decontracter(text)\n",
        "\n",
        "    # replacing some characters with string\n",
        "    text = text.replace('%', ' percent')\n",
        "    text = text.replace('$', ' dollar ')\n",
        "    text = text.replace('₹', ' rupee ')\n",
        "    text = text.replace('€', ' euro ')\n",
        "    text = text.replace('@', ' at ')\n",
        "    text = text.replace('w/o', 'without')\n",
        "    text = text.replace('w8', 'wait')\n",
        "    text = text.replace(\"'ve\", \" have\")\n",
        "    text = text.replace(\"n't\", \" not\")\n",
        "    text = text.replace(\"'re\", \" are\")\n",
        "    text = text.replace(\"'ll\", \" will\")\n",
        "    text = text.replace(\"[math]\", '')\n",
        "    text = text.replace(\"[/math]\", '')\n",
        "\n",
        "    # punctuantions remover\n",
        "    text = ''.join([word for word in text if word not in string.punctuation])\n",
        "\n",
        "    # emoji remover\n",
        "    emoji_pattern = re.compile(\"[\"\n",
        "                               u\"\\U0001F600-\\U0001F64F\"\n",
        "                               u\"\\U0001F300-\\U0001F5FF\"\n",
        "                               u\"\\U0001F680-\\U0001F6FF\"\n",
        "                               u\"\\U0001F1E0-\\U0001F1FF\"\n",
        "                               u\"\\U00002702-\\U000027B0\"\n",
        "                               u\"\\U000024C2-\\U0001F251\"\n",
        "                               \"]+\", flags=re.UNICODE)\n",
        "    text = emoji_pattern.sub(r'', text)\n",
        "    \n",
        "    \n",
        "    tokens = word_tokenize(text)\n",
        "    no_stops_tokens = [x for x in tokens if x not in stops]\n",
        "    \n",
        "    doc = doc = spacy.tokens.Doc(lem.vocab, words=no_stops_tokens)\n",
        "    reverted_to_base = []\n",
        "    for token in doc:\n",
        "      reverted_to_base.append(token.lemma_)\n",
        "\n",
        "    return ' '.join(reverted_to_base)"
      ]
    },
    {
      "cell_type": "code",
      "execution_count": 53,
      "id": "e9473ba2",
      "metadata": {
        "ExecuteTime": {
          "end_time": "2021-12-10T18:43:28.136271Z",
          "start_time": "2021-12-10T18:43:28.136202Z"
        },
        "id": "e9473ba2"
      },
      "outputs": [],
      "source": [
        "train_df['q1_clean'] = train_df['question1'].apply(lambda x: preprocessor(x))\n",
        "train_df['q2_clean'] = train_df['question2'].apply(lambda x: preprocessor(x))\n",
        "\n",
        "test_df['q1_clean'] = test_df['question1'].apply(lambda x: preprocessor(x))\n",
        "test_df['q2_clean'] = test_df['question2'].apply(lambda x: preprocessor(x))"
      ]
    },
    {
      "cell_type": "code",
      "execution_count": 31,
      "id": "1bb088a2",
      "metadata": {
        "ExecuteTime": {
          "end_time": "2021-12-10T18:43:28.142194Z",
          "start_time": "2021-12-10T18:43:28.142112Z"
        },
        "colab": {
          "base_uri": "https://localhost:8080/",
          "height": 380
        },
        "id": "1bb088a2",
        "outputId": "e5045c61-eca3-4a79-f330-8adc27279ef1"
      },
      "outputs": [
        {
          "output_type": "execute_result",
          "data": {
            "text/html": [
              "<div>\n",
              "<style scoped>\n",
              "    .dataframe tbody tr th:only-of-type {\n",
              "        vertical-align: middle;\n",
              "    }\n",
              "\n",
              "    .dataframe tbody tr th {\n",
              "        vertical-align: top;\n",
              "    }\n",
              "\n",
              "    .dataframe thead th {\n",
              "        text-align: right;\n",
              "    }\n",
              "</style>\n",
              "<table border=\"1\" class=\"dataframe\">\n",
              "  <thead>\n",
              "    <tr style=\"text-align: right;\">\n",
              "      <th></th>\n",
              "      <th>id</th>\n",
              "      <th>qid1</th>\n",
              "      <th>qid2</th>\n",
              "      <th>question1</th>\n",
              "      <th>question2</th>\n",
              "      <th>is_duplicate</th>\n",
              "      <th>q1_num_of_words</th>\n",
              "      <th>q2_num_of_words</th>\n",
              "      <th>q1_num_of_chars</th>\n",
              "      <th>q2_num_of_chars</th>\n",
              "      <th>q1_clean</th>\n",
              "      <th>q2_clean</th>\n",
              "    </tr>\n",
              "  </thead>\n",
              "  <tbody>\n",
              "    <tr>\n",
              "      <th>404285</th>\n",
              "      <td>404285</td>\n",
              "      <td>433578</td>\n",
              "      <td>379845</td>\n",
              "      <td>How many keywords are there in the Racket prog...</td>\n",
              "      <td>How many keywords are there in PERL Programmin...</td>\n",
              "      <td>0</td>\n",
              "      <td>14</td>\n",
              "      <td>13</td>\n",
              "      <td>85</td>\n",
              "      <td>79</td>\n",
              "      <td>many keywords racket programming language late...</td>\n",
              "      <td>many keywords perl programming language latest...</td>\n",
              "    </tr>\n",
              "    <tr>\n",
              "      <th>404286</th>\n",
              "      <td>404286</td>\n",
              "      <td>18840</td>\n",
              "      <td>155606</td>\n",
              "      <td>Do you believe there is life after death?</td>\n",
              "      <td>Is it true that there is life after death?</td>\n",
              "      <td>1</td>\n",
              "      <td>8</td>\n",
              "      <td>9</td>\n",
              "      <td>41</td>\n",
              "      <td>42</td>\n",
              "      <td>believe life death</td>\n",
              "      <td>true life death</td>\n",
              "    </tr>\n",
              "    <tr>\n",
              "      <th>404287</th>\n",
              "      <td>404287</td>\n",
              "      <td>537928</td>\n",
              "      <td>537929</td>\n",
              "      <td>What is one coin?</td>\n",
              "      <td>What's this coin?</td>\n",
              "      <td>0</td>\n",
              "      <td>4</td>\n",
              "      <td>3</td>\n",
              "      <td>17</td>\n",
              "      <td>17</td>\n",
              "      <td>one coin</td>\n",
              "      <td>coin</td>\n",
              "    </tr>\n",
              "    <tr>\n",
              "      <th>404288</th>\n",
              "      <td>404288</td>\n",
              "      <td>537930</td>\n",
              "      <td>537931</td>\n",
              "      <td>What is the approx annual cost of living while...</td>\n",
              "      <td>I am having little hairfall problem but I want...</td>\n",
              "      <td>0</td>\n",
              "      <td>17</td>\n",
              "      <td>25</td>\n",
              "      <td>94</td>\n",
              "      <td>127</td>\n",
              "      <td>approx annual cost living studying uic chicago...</td>\n",
              "      <td>little hairfall problem want use hair styling ...</td>\n",
              "    </tr>\n",
              "    <tr>\n",
              "      <th>404289</th>\n",
              "      <td>404289</td>\n",
              "      <td>537932</td>\n",
              "      <td>537933</td>\n",
              "      <td>What is like to have sex with cousin?</td>\n",
              "      <td>What is it like to have sex with your cousin?</td>\n",
              "      <td>0</td>\n",
              "      <td>8</td>\n",
              "      <td>10</td>\n",
              "      <td>37</td>\n",
              "      <td>45</td>\n",
              "      <td>like sex cousin</td>\n",
              "      <td>like sex cousin</td>\n",
              "    </tr>\n",
              "  </tbody>\n",
              "</table>\n",
              "</div>"
            ],
            "text/plain": [
              "            id  ...                                           q2_clean\n",
              "404285  404285  ...  many keywords perl programming language latest...\n",
              "404286  404286  ...                                    true life death\n",
              "404287  404287  ...                                               coin\n",
              "404288  404288  ...  little hairfall problem want use hair styling ...\n",
              "404289  404289  ...                                    like sex cousin\n",
              "\n",
              "[5 rows x 12 columns]"
            ]
          },
          "metadata": {},
          "execution_count": 31
        }
      ],
      "source": [
        "train_df.tail()"
      ]
    },
    {
      "cell_type": "code",
      "source": [
        "train_df.tail()"
      ],
      "metadata": {
        "colab": {
          "base_uri": "https://localhost:8080/",
          "height": 362
        },
        "id": "JNWYPXR9mVId",
        "outputId": "c02a01be-d7ab-4e3a-fa26-6e3b8aa0d362"
      },
      "id": "JNWYPXR9mVId",
      "execution_count": 54,
      "outputs": [
        {
          "output_type": "execute_result",
          "data": {
            "text/html": [
              "<div>\n",
              "<style scoped>\n",
              "    .dataframe tbody tr th:only-of-type {\n",
              "        vertical-align: middle;\n",
              "    }\n",
              "\n",
              "    .dataframe tbody tr th {\n",
              "        vertical-align: top;\n",
              "    }\n",
              "\n",
              "    .dataframe thead th {\n",
              "        text-align: right;\n",
              "    }\n",
              "</style>\n",
              "<table border=\"1\" class=\"dataframe\">\n",
              "  <thead>\n",
              "    <tr style=\"text-align: right;\">\n",
              "      <th></th>\n",
              "      <th>id</th>\n",
              "      <th>qid1</th>\n",
              "      <th>qid2</th>\n",
              "      <th>question1</th>\n",
              "      <th>question2</th>\n",
              "      <th>is_duplicate</th>\n",
              "      <th>q1_num_of_words</th>\n",
              "      <th>q2_num_of_words</th>\n",
              "      <th>q1_num_of_chars</th>\n",
              "      <th>q2_num_of_chars</th>\n",
              "      <th>q1_clean</th>\n",
              "      <th>q2_clean</th>\n",
              "    </tr>\n",
              "  </thead>\n",
              "  <tbody>\n",
              "    <tr>\n",
              "      <th>404285</th>\n",
              "      <td>404285</td>\n",
              "      <td>433578</td>\n",
              "      <td>379845</td>\n",
              "      <td>How many keywords are there in the Racket prog...</td>\n",
              "      <td>How many keywords are there in PERL Programmin...</td>\n",
              "      <td>0</td>\n",
              "      <td>14</td>\n",
              "      <td>13</td>\n",
              "      <td>85</td>\n",
              "      <td>79</td>\n",
              "      <td>many keyword racket programme language late ve...</td>\n",
              "      <td>many keyword perl programme language late version</td>\n",
              "    </tr>\n",
              "    <tr>\n",
              "      <th>404286</th>\n",
              "      <td>404286</td>\n",
              "      <td>18840</td>\n",
              "      <td>155606</td>\n",
              "      <td>Do you believe there is life after death?</td>\n",
              "      <td>Is it true that there is life after death?</td>\n",
              "      <td>1</td>\n",
              "      <td>8</td>\n",
              "      <td>9</td>\n",
              "      <td>41</td>\n",
              "      <td>42</td>\n",
              "      <td>believe life death</td>\n",
              "      <td>true life death</td>\n",
              "    </tr>\n",
              "    <tr>\n",
              "      <th>404287</th>\n",
              "      <td>404287</td>\n",
              "      <td>537928</td>\n",
              "      <td>537929</td>\n",
              "      <td>What is one coin?</td>\n",
              "      <td>What's this coin?</td>\n",
              "      <td>0</td>\n",
              "      <td>4</td>\n",
              "      <td>3</td>\n",
              "      <td>17</td>\n",
              "      <td>17</td>\n",
              "      <td>one coin</td>\n",
              "      <td>coin</td>\n",
              "    </tr>\n",
              "    <tr>\n",
              "      <th>404288</th>\n",
              "      <td>404288</td>\n",
              "      <td>537930</td>\n",
              "      <td>537931</td>\n",
              "      <td>What is the approx annual cost of living while...</td>\n",
              "      <td>I am having little hairfall problem but I want...</td>\n",
              "      <td>0</td>\n",
              "      <td>17</td>\n",
              "      <td>25</td>\n",
              "      <td>94</td>\n",
              "      <td>127</td>\n",
              "      <td>approx annual cost live study uic chicago indi...</td>\n",
              "      <td>little hairfall problem want use hair style pr...</td>\n",
              "    </tr>\n",
              "    <tr>\n",
              "      <th>404289</th>\n",
              "      <td>404289</td>\n",
              "      <td>537932</td>\n",
              "      <td>537933</td>\n",
              "      <td>What is like to have sex with cousin?</td>\n",
              "      <td>What is it like to have sex with your cousin?</td>\n",
              "      <td>0</td>\n",
              "      <td>8</td>\n",
              "      <td>10</td>\n",
              "      <td>37</td>\n",
              "      <td>45</td>\n",
              "      <td>like sex cousin</td>\n",
              "      <td>like sex cousin</td>\n",
              "    </tr>\n",
              "  </tbody>\n",
              "</table>\n",
              "</div>"
            ],
            "text/plain": [
              "            id  ...                                           q2_clean\n",
              "404285  404285  ...  many keyword perl programme language late version\n",
              "404286  404286  ...                                    true life death\n",
              "404287  404287  ...                                               coin\n",
              "404288  404288  ...  little hairfall problem want use hair style pr...\n",
              "404289  404289  ...                                    like sex cousin\n",
              "\n",
              "[5 rows x 12 columns]"
            ]
          },
          "metadata": {},
          "execution_count": 54
        }
      ]
    },
    {
      "cell_type": "code",
      "source": [
        "# train_df.to_csv('train.csv', index=False)\n",
        "# test_df.to_csv('test.csv', index=False)"
      ],
      "metadata": {
        "id": "NTuOlqfYZeJx"
      },
      "id": "NTuOlqfYZeJx",
      "execution_count": null,
      "outputs": []
    },
    {
      "cell_type": "raw",
      "id": "016e8177",
      "metadata": {
        "id": "016e8177"
      },
      "source": [
        ""
      ]
    }
  ],
  "metadata": {
    "kernelspec": {
      "display_name": "Python 3 (ipykernel)",
      "language": "python",
      "name": "python3"
    },
    "language_info": {
      "codemirror_mode": {
        "name": "ipython",
        "version": 3
      },
      "file_extension": ".py",
      "mimetype": "text/x-python",
      "name": "python",
      "nbconvert_exporter": "python",
      "pygments_lexer": "ipython3",
      "version": "3.9.5"
    },
    "varInspector": {
      "cols": {
        "lenName": 16,
        "lenType": 16,
        "lenVar": 40
      },
      "kernels_config": {
        "python": {
          "delete_cmd_postfix": "",
          "delete_cmd_prefix": "del ",
          "library": "var_list.py",
          "varRefreshCmd": "print(var_dic_list())"
        },
        "r": {
          "delete_cmd_postfix": ") ",
          "delete_cmd_prefix": "rm(",
          "library": "var_list.r",
          "varRefreshCmd": "cat(var_dic_list()) "
        }
      },
      "types_to_exclude": [
        "module",
        "function",
        "builtin_function_or_method",
        "instance",
        "_Feature"
      ],
      "window_display": false
    },
    "colab": {
      "name": "pq.ipynb",
      "provenance": [],
      "collapsed_sections": []
    }
  },
  "nbformat": 4,
  "nbformat_minor": 5
}